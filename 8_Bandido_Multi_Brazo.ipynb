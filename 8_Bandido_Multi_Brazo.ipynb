{
 "cells": [
  {
   "cell_type": "markdown",
   "metadata": {},
   "source": [
    "# José Luis Padilla Valenzuela\n",
    "\n",
    "### Bandido multibrazo\n",
    "\n",
    "* El problema del \"***Bandido Multi-Brazo***\" es un problema clásico del aprendizaje por refuerzo basado en el ***juego de las máquinas \"tragaperras\"*** donde se \"tira del brazo\" (palanca) de la \"tragaperras\" y se obtiene una recompensa por el juego, positiva si se gana dinero o negativa si perdemos el dinero.\n",
    "\n",
    "* A este problema se le conoce como el problema del \"Bandido Multi-Brazo\" al denominarse una máquina \"tragaperras\" como \"Bandido de un solo brazo\". Cuando se juega a varias máquinas \"tragaperras\" se denomina \"Bandido de Multiples Brazos\", de ahí el nombre de \"Multi Armed Bandit\" (MAB):\n",
    "\n",
    "* El objetivo de este problema es el de ***jugar un 'P' partidas a las 'K' \"tragaperras\" y obtener el mayor beneficio posible*** (la mayor recompensa posible).\n",
    "\n",
    "* Para ello tendremos que ir jugando partidas en las 'K' \"tragaperras\" y descubrir cual es la distribución de probabilidad de obtener premio en cada una de las \"tragaperras\". Con esto conseguiremos saber a ***que máquinas jugar y en que orden para máximizar nuestros beneficios (o recompensas)***.\n",
    "\n",
    "* Para resolver este problema definimos el $Q(a)$ como la ***recompensa media (beneficios medios) recibida por partida en la \"tragaperras\"*** $a$ y se calcula como:\n",
    "\n",
    "$$Q(a) = \\frac{R_a}{N_a}$$\n",
    "\n",
    "\n",
    "* Siendo:\n",
    "    + $R_a$: Suma de las recompensas (beneficiós) obtenidos en la \"tragaperras\" $a$.\n",
    "    + $N_a$: Número total de partidas jugadas en la \"tragaperras\" $a$.\n",
    "    \n",
    "    \n",
    "* El ***objetivo es encontrar la máquina \"tragaperras\" que mayor beneficio (recompensa) dé***:\n",
    "\n",
    "$$Q(a^{*}) = max Q(a)$$\n",
    "\n",
    "\n",
    "* Siendo:\n",
    "    + $a^{*}$: El conjunto de las 'K' \"tragaperras\" a las que se juega.\n",
    "    \n",
    "    \n",
    "* En este problema es muy importante aplicar correctamente los conceptos de **\"Explotación\" y \"Exploración\"** ya que si solo nos dedicamos a \"*Explorar*\" obtendremos el valor medio de recompensas que dén las 'K' \"tragaperras\" y si solo nos dedicamos a \"*Explotar*\" obtendremos la recompensa que nos dé la primera \"tragaperras\" a la que jugemos.\n",
    "\n",
    "\n",
    "* Para ello debemos de seguir una política conocida como \"***epsilon-greedy policy***\" la cual seleccionará una \"tragaperras\" al azar con probabilidad $\\epsilon$ para jugar y *explorar* o seleccionará la mejor \"tragaperras\" con probabilidad $1-\\epsilon$.\n",
    "\n",
    "\n",
    "<img src=\"./imgs/016_RL.png\" style=\"width: 300px;\"/>\n",
    "\n",
    "\n",
    "* Veamos a continuación un ejemplo:\n"
   ]
  },
  {
   "cell_type": "code",
   "execution_count": 1,
   "metadata": {},
   "outputs": [],
   "source": [
    "import random\n",
    "import numpy as np\n",
    "\n",
    "\n",
    "def gen_bandits():\n",
    "    \"\"\"\n",
    "    Función que devuelve una lista de probabilidades ordenadas al azar\n",
    "    En esta lista se encuentra la probabilidad de premio de cada \"tragaperras\"\n",
    "    \"\"\"\n",
    "    bandits = [0.1, 0.1, 0.1, 0.2, 0.6]\n",
    "    random.shuffle(bandits)\n",
    "    return bandits\n",
    "    \n",
    "    \n",
    "def multi_armed_bandit(num_games=1000, epsilon=0.1, verbose=False):\n",
    "    \n",
    "    bandits = gen_bandits()\n",
    "    total_reward = 0\n",
    "    acum_reward_bandit = np.zeros(len(bandits))  # numerador\n",
    "    num_selected_bandit = np.zeros(len(bandits)) # denominador\n",
    "    q_bandits = np.zeros(len(bandits))            # Q(a)\n",
    "    \n",
    "    if verbose:\n",
    "        print(\"Initial Bandits Distribution\\n  {}\".format(bandits))\n",
    "    \n",
    "    for game in range(0, num_games):\n",
    "        \n",
    "        # Hago una copiar de los Q(a)\n",
    "        old_q_bandits = q_bandits.copy()\n",
    "        \n",
    "        # Selecciono \"tragaperras\" a la que jugar\n",
    "        if np.random.random() < epsilon:\n",
    "            bandit = np.random.randint(len(bandits)) # Exploro\n",
    "        else:\n",
    "            bandit = np.random.choice(np.flatnonzero(q_bandits == q_bandits.max())) # Exploto \n",
    "            \n",
    "        # Obtengo el reward\n",
    "        reward = 1 if (np.random.random() < bandits[bandit]) else 0\n",
    "        \n",
    "        # Actualizo reward total\n",
    "        total_reward += reward\n",
    "        \n",
    "        # Actualizo valor (Q) de la \"tragaperras\"\n",
    "        acum_reward_bandit[bandit] += reward\n",
    "        num_selected_bandit[bandit] += 1\n",
    "        q_bandits[bandit] = acum_reward_bandit[bandit] / num_selected_bandit[bandit]\n",
    "        \n",
    "        if verbose:\n",
    "            print(\"\\nGAME {game}\\n  Old Q_Bandits = {old_q_bandits}\\n  Selected Bandit = {bandit} \\\n",
    "                  \\n  Reward = {reward}\\n  Q_Bandits = {q_bandits}\"\n",
    "                  .format(game = game + 1, old_q_bandits = old_q_bandits, bandit = bandit, \n",
    "                        reward = reward, q_bandits = q_bandits))\n",
    "    \n",
    "    return bandits, total_reward, q_bandits, num_selected_bandit\n"
   ]
  },
  {
   "cell_type": "markdown",
   "metadata": {},
   "source": [
    "### Ratio de Exploración del 10%\n",
    "\n",
    "\n",
    "* Realizamos una ejecución con un ratio de exploración de un 10% ($\\epsilon = 0.1$)"
   ]
  },
  {
   "cell_type": "code",
   "execution_count": 2,
   "metadata": {},
   "outputs": [
    {
     "name": "stdout",
     "output_type": "stream",
     "text": [
      "Initial Bandits Distribution\n",
      "  [0.1, 0.2, 0.6, 0.1, 0.1]\n",
      "Bandits Distribution games\n",
      "  [ 16.  19. 920.  19.  26.]\n",
      "Q(a) Bandits\n",
      "  [0.125  0.3158 0.5859 0.1053 0.1538]\n",
      "Reward: 553\n"
     ]
    },
    {
     "data": {
      "image/png": "[encoded data removed]",
      "text/plain": [
       "<Figure size 432x288 with 1 Axes>"
      ]
     },
     "metadata": {
      "needs_background": "light"
     },
     "output_type": "display_data"
    }
   ],
   "source": [
    "import matplotlib.pyplot as plt\n",
    "%matplotlib inline\n",
    "np.set_printoptions(precision = 4)\n",
    "\n",
    "bandits, total_reward, q_bandits, num_selected_bandit = multi_armed_bandit(num_games = 1000, \n",
    "                                                                           epsilon = 0.1, \n",
    "                                                                           verbose = False)\n",
    "\n",
    "print(\"Initial Bandits Distribution\\n  {}\".format(bandits))\n",
    "print(\"Bandits Distribution games\\n  {}\".format(num_selected_bandit))\n",
    "print(\"Q(a) Bandits\\n  {}\".format(q_bandits))\n",
    "print(\"Reward: {}\".format(total_reward))\n",
    "\n",
    "# Mostramos en una gráfica de barras el número de veces que elegimos cada \"tragaperras\"\n",
    "plt.title('Epsilon-greedy = 10%')\n",
    "plt.bar(range(0,len(bandits)), num_selected_bandit)\n",
    "plt.xlabel('Bandido')\n",
    "plt.ylabel('num veces elegido')\n",
    "plt.show()"
   ]
  },
  {
   "cell_type": "markdown",
   "metadata": {},
   "source": [
    "### EJERCICO 1: Ratio de Exploración del 99%\n",
    "\n",
    "\n",
    "* Se pide realizar una simulación como la anterior pero poniendo al 95% el ratio de exploración.\n",
    "\n",
    "* Observa los resultados obtenido y obten las conclusiones:\n",
    "\n",
    "    + CONCLUSIONES: A COMPLETAR POR EL ALUMNO"
   ]
  },
  {
   "cell_type": "code",
   "execution_count": 3,
   "metadata": {},
   "outputs": [
    {
     "name": "stdout",
     "output_type": "stream",
     "text": [
      "Initial Bandits Distribution\n",
      "  [0.2, 0.1, 0.6, 0.1, 0.1]\n",
      "Bandits Distribution games\n",
      "  [198. 188. 235. 172. 207.]\n",
      "Q(a) Bandits\n",
      "  [0.2071 0.0585 0.5787 0.0988 0.0821]\n",
      "Reward: 222\n"
     ]
    },
    {
     "data": {
      "image/png": "[encoded data removed]",
      "text/plain": [
       "<Figure size 432x288 with 1 Axes>"
      ]
     },
     "metadata": {
      "needs_background": "light"
     },
     "output_type": "display_data"
    }
   ],
   "source": [
    "bandits, total_reward, q_bandits, num_selected_bandit = multi_armed_bandit(num_games = 1000, \n",
    "                                                                           epsilon = 0.95, \n",
    "                                                                           verbose = False)\n",
    "\n",
    "print(\"Initial Bandits Distribution\\n  {}\".format(bandits))\n",
    "print(\"Bandits Distribution games\\n  {}\".format(num_selected_bandit))\n",
    "print(\"Q(a) Bandits\\n  {}\".format(q_bandits))\n",
    "print(\"Reward: {}\".format(total_reward))\n",
    "\n",
    "# Mostramos en una gráfica de barras el número de veces que elegimos cada \"tragaperras\"\n",
    "plt.title('Epsilon-greedy = 95%')\n",
    "plt.bar(range(0,len(bandits)), num_selected_bandit)\n",
    "plt.xlabel('Bandido')\n",
    "plt.ylabel('num veces elegido')\n",
    "plt.show()"
   ]
  },
  {
   "cell_type": "markdown",
   "metadata": {},
   "source": [
    "### EJERCICO 2: Ratio de Exploración del 0%\n",
    "\n",
    "\n",
    "* Se pide realizar una simulación como la anterior pero poniendo al 0% el ratio de exploración; es decir, que no se explora.\n",
    "\n",
    "* Observa los resultados obtenido y obten las conclusiones:\n",
    "\n",
    "    + CONCLUSIONES: A COMPLETAR POR EL ALUMNO"
   ]
  },
  {
   "cell_type": "code",
   "execution_count": 4,
   "metadata": {},
   "outputs": [
    {
     "name": "stdout",
     "output_type": "stream",
     "text": [
      "Initial Bandits Distribution\n",
      "  [0.1, 0.2, 0.1, 0.1, 0.6]\n",
      "Bandits Distribution games\n",
      "  [  4.   0.   3. 992.   1.]\n",
      "Q(a) Bandits\n",
      "  [0.     0.     0.     0.1069 0.    ]\n",
      "Reward: 106\n"
     ]
    },
    {
     "data": {
      "image/png": "[encoded data removed]",
      "text/plain": [
       "<Figure size 432x288 with 1 Axes>"
      ]
     },
     "metadata": {
      "needs_background": "light"
     },
     "output_type": "display_data"
    }
   ],
   "source": [
    "bandits, total_reward, q_bandits, num_selected_bandit = multi_armed_bandit(num_games = 1000, \n",
    "                                                                           epsilon = 0.0, \n",
    "                                                                           verbose = False)\n",
    "\n",
    "print(\"Initial Bandits Distribution\\n  {}\".format(bandits))\n",
    "print(\"Bandits Distribution games\\n  {}\".format(num_selected_bandit))\n",
    "print(\"Q(a) Bandits\\n  {}\".format(q_bandits))\n",
    "print(\"Reward: {}\".format(total_reward))\n",
    "\n",
    "# Mostramos en una gráfica de barras el número de veces que elegimos cada \"tragaperras\"\n",
    "plt.title('Epsilon-greedy = 0%')\n",
    "plt.bar(range(0,len(bandits)), num_selected_bandit)\n",
    "plt.xlabel('Bandido')\n",
    "plt.ylabel('num veces elegido')\n",
    "plt.show()"
   ]
  }
 ],
 "metadata": {
  "kernelspec": {
   "display_name": "Python 3 (ipykernel)",
   "language": "python",
   "name": "python3"
  },
  "language_info": {
   "codemirror_mode": {
    "name": "ipython",
    "version": 3
   },
   "file_extension": ".py",
   "mimetype": "text/x-python",
   "name": "python",
   "nbconvert_exporter": "python",
   "pygments_lexer": "ipython3",
   "version": "3.9.12"
  }
 },
 "nbformat": 4,
 "nbformat_minor": 2
}
