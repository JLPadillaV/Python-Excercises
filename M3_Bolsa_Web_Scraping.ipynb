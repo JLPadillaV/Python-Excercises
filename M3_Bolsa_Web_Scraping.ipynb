{
 "cells": [
  {
   "cell_type": "markdown",
   "metadata": {},
   "source": [
    "## Jose Luis Padilla "
   ]
  },
  {
   "cell_type": "markdown",
   "metadata": {},
   "source": [
    "# Modulo 3     Unidad 4\n",
    "# Caso práctico: *Web scraping* (datos de cotizaciones del IBEX35)"
   ]
  },
  {
   "cell_type": "code",
   "execution_count": 17,
   "metadata": {},
   "outputs": [],
   "source": [
    "import pandas as pd\n",
    "import altair as alt\n",
    "from bs4 import BeautifulSoup\n",
    "import requests"
   ]
  },
  {
   "cell_type": "markdown",
   "metadata": {},
   "source": [
    "## Descripción del caso"
   ]
  },
  {
   "cell_type": "markdown",
   "metadata": {},
   "source": [
    "En este caso práctico se muestra el proceso de web scraping de una tabla de datos en una página web de un periodico. Como se trata de una página que se actualiza periódicamente con nueva información, pero que mantiene siempre la misma estructura, es posible ejecutar el proceso de web scraping cuando sea necesario para obtener datos actualizados. Por supuesto, como siempre sucede con el web scraping, en caso de que el sitio web, el periódico Expansión en este ejemplo, cambiara el formato de esa página, el proceso de web scraping dejaría de funcionar y sería necesario reprogramarlo para que se adaptara al nuevo formato."
   ]
  },
  {
   "cell_type": "markdown",
   "metadata": {},
   "source": [
    "## Descarga de la página"
   ]
  },
  {
   "cell_type": "markdown",
   "metadata": {},
   "source": [
    "En primer lugar descargamos la página web completa para poder tratar con ella. Para entender su estructura, lo más conveniente es utilizar la funcionalidad de inspeccionar el código de la página que ofrecen los navegadores: no es necesario tener un gran conocimiento de HTML o otras tecnologías web, simplemente observar la estructura para descubrir la mejor forma de identificar el contenido que buscamos, para lo cual basta saber que:\n",
    "* Las páginas HTML están compuestas de \"elementos\"\n",
    "* Cada \"elemento\" tiene un tipo, unos atributos y un contenido, y está delimitado por unos \"tags\" (aunque muchas veces se usan indistintamente los términos elemento y tag)\n",
    "* El contenido de un elemento puede incluir otros elementos, y así sucesivamente\n",
    "* Los atributos que suelen ser más útiles para hacer scrapping son el atributo \"id\" (que sirve, simplemente, para identificar de manera unívoca un elemento) y el atributo \"class\" (que se utiliza para asignar estilos visuales al contenido del elemento, pero que muchas veces es útil al hacer scrapping porque identifica el tipo de tabla que nos interesa, o el título, o cosas así)\n",
    "* Un tipo de elemento que suele ser muy útil es el tipo \"div\", ya que es simplemente un contenedor genérico con el que los autores de páginas HTML organizan el contenido de las mismas.\n",
    "\n",
    "El acceso se puede realizar descargándo la página web mediante código y pasándosela a la librería BeautifulSoup para su decodificación, tal como se muestra a continuación.\n",
    "\n",
    "(En este ejemplo, este medio de acceso a los datos está comentado, y se sustituye por un acceso local, para que sea posible ejecutar el notebook aún sin conexión a internet o aunque el sitio expansion.es deje de estar disponible. De todos modos se muestra aquí con fines didácticos)"
   ]
  },
  {
   "cell_type": "code",
   "execution_count": 18,
   "metadata": {},
   "outputs": [],
   "source": [
    "# # Accedemos a la página web utilizando la libraría \"requests\"\n",
    "# URL = 'https://www.expansion.com/mercados/cotizaciones/indices/ibex35_I.IB.html'\n",
    "\n",
    "# pagina = requests.get(URL)\n",
    "\n",
    "# # Leemos el contenido de la página y se lo asignamos a un objeto \"soup\" de la librería BeautifulSoup, que es muy utilizada para estos fines\n",
    "# # (El nombre \"BeautifulSoup\" tiene que ver con el hecho de que el contenido de las páginas está todo mezclado y desorganizao)\n",
    "\n",
    "# soup = BeautifulSoup(pagina.content, 'html.parser')"
   ]
  },
  {
   "cell_type": "code",
   "execution_count": 19,
   "metadata": {},
   "outputs": [],
   "source": [
    "# Accedemos a una versión offline de la página guardada en un fichero local\n",
    "\n",
    "with open('C:\\\\Users\\\\jlpad\\\\Downloads\\\\ibex35.html', mode = 'rb') as pagina:\n",
    "    soup = BeautifulSoup(pagina.read(), 'html.parser')"
   ]
  },
  {
   "cell_type": "markdown",
   "metadata": {},
   "source": [
    "## Acceso al contenido y exploración"
   ]
  },
  {
   "cell_type": "markdown",
   "metadata": {},
   "source": [
    "La tarea más delicada del web scraping es seleccionar el contenido de interés de la manera más precisa. En el proceso de desarrollo de un proceso de web scraping es normal ir seleccionando datos, comprobando, etc., para tratar de entender correctamente la estructura de los mismos"
   ]
  },
  {
   "cell_type": "code",
   "execution_count": 20,
   "metadata": {},
   "outputs": [],
   "source": [
    "# Inspeccionando el código de la página web, vemos que los valores que nos interesan están en un elemento con\n",
    "# el atributo id igual a \"listado_valores\". BeautifulSoup nos permite seleccionar esta tabla para seguir procesándola\n",
    "tabla = soup.find(id = 'listado_valores')"
   ]
  },
  {
   "cell_type": "code",
   "execution_count": 21,
   "metadata": {},
   "outputs": [
    {
     "data": {
      "text/plain": [
       "'table'"
      ]
     },
     "execution_count": 21,
     "metadata": {},
     "output_type": "execute_result"
    }
   ],
   "source": [
    "# Una vez seleccionado el contenido de interés, aparte de ir descomponiéndolo a base de explorar el código HTML, también \n",
    "# es posible explorarlo directamente desde python. Por ejemplo...\n",
    "\n",
    "# Ver el tipo del elemento que hemos seleccionado (que en terminología de BeautifulSoup sería \"el nombre del tag\")\n",
    "tabla.name"
   ]
  },
  {
   "cell_type": "code",
   "execution_count": 22,
   "metadata": {},
   "outputs": [
    {
     "data": {
      "text/plain": [
       "{'id': 'listado_valores',\n",
       " 'cellpadding': '0',\n",
       " 'cellspacing': '0',\n",
       " 'border': '0',\n",
       " 'width': '100%'}"
      ]
     },
     "execution_count": 22,
     "metadata": {},
     "output_type": "execute_result"
    }
   ],
   "source": [
    "# Ver sus atributos\n",
    "tabla.attrs"
   ]
  },
  {
   "cell_type": "code",
   "execution_count": 23,
   "metadata": {},
   "outputs": [
    {
     "data": {
      "text/plain": [
       "['caption', 'thead', 'tbody']"
      ]
     },
     "execution_count": 23,
     "metadata": {},
     "output_type": "execute_result"
    }
   ],
   "source": [
    "# Ver el tipo de los elementos que contiene este elmento\n",
    "[el.name for el in tabla.findChildren(recursive=False)]"
   ]
  },
  {
   "cell_type": "code",
   "execution_count": 24,
   "metadata": {},
   "outputs": [
    {
     "data": {
      "text/plain": [
       "'\\nValores Ibex\\n'"
      ]
     },
     "execution_count": 24,
     "metadata": {},
     "output_type": "execute_result"
    }
   ],
   "source": [
    "# ver el contenido de unos de los elementos internos\n",
    "tabla.find('caption').text"
   ]
  },
  {
   "cell_type": "code",
   "execution_count": 25,
   "metadata": {},
   "outputs": [
    {
     "data": {
      "text/plain": [
       "['th', 'th', 'th', 'th', 'th', 'th', 'th', 'th', 'th', 'th', 'th']"
      ]
     },
     "execution_count": 25,
     "metadata": {},
     "output_type": "execute_result"
    }
   ],
   "source": [
    "# navegar los distintos niveles de la jerarquía de elementos\n",
    "[el.name for el in tabla.select_one('thead tr').findChildren(recursive=False)]"
   ]
  },
  {
   "cell_type": "code",
   "execution_count": 26,
   "metadata": {},
   "outputs": [
    {
     "name": "stdout",
     "output_type": "stream",
     "text": [
      "<caption>\n",
      " Valores Ibex\n",
      "</caption>\n",
      "\n"
     ]
    }
   ],
   "source": [
    "# Aunque las distintas opciones de selección de elementos de BeautifulSoup devuelven objetos de tipo Tag,\n",
    "# es posible ver el contenido de esos elementos en HTML. Para ello es útil la funcion 'prettify',\n",
    "# que formatea el código HTML para que sea más sencillo interpretarlo (aunque aún así muchas veces no es )\n",
    "print(tabla.find('caption').prettify())"
   ]
  },
  {
   "cell_type": "code",
   "execution_count": 27,
   "metadata": {},
   "outputs": [
    {
     "name": "stdout",
     "output_type": "stream",
     "text": [
      "<th>\n",
      " <a href=\"#\" onclick=\"ordenaPor('nombre'); cargaDatos();return false;\" title=\"\">\n",
      "  Valor\n",
      "  <img class=\"ordenar_por\" src=\"https://e00-expansion.uecdn.es/iconos/v2.x/v2.0/pico_down.png\"/>\n",
      " </a>\n",
      "</th>\n",
      "\n"
     ]
    }
   ],
   "source": [
    "print(tabla.find('thead').find('tr').find('th').prettify())"
   ]
  },
  {
   "cell_type": "code",
   "execution_count": 28,
   "metadata": {},
   "outputs": [
    {
     "data": {
      "text/html": [
       "<thead>\n",
       "<tr>\n",
       "<th>\n",
       "<a href=\"#\" onclick=\"ordenaPor('nombre'); cargaDatos();return false;\" title=\"\">Valor <img class=\"ordenar_por\" src=\"https://e00-expansion.uecdn.es/iconos/v2.x/v2.0/pico_down.png\"/></a>\n",
       "</th>\n",
       "<th>\n",
       "Último\n",
       "</th>\n",
       "<th>\n",
       "<a href=\"#\" onclick=\"ordenaPor('cambio_porcentual'); cargaDatos();return false;\" title=\"Variación en porcentaje\">Var. % <img class=\"ordenar_por\" src=\"https://e00-expansion.uecdn.es/iconos/v2.x/v2.0/pico_down.png\"/></a>\n",
       "</th>\n",
       "<th>\n",
       "Var.\n",
       "</th>\n",
       "<th>\n",
       "<a href=\"#\" onclick=\"ordenaPor('revalorizacion_anyo'); cargaDatos();return false;\" title=\"Variación acumulada anual\"><abbr title=\"Acumulado anual\">Ac. % año</abbr> <img class=\"ordenar_por\" src=\"https://e00-expansion.uecdn.es/iconos/v2.x/v2.0/pico_down.png\"/></a>\n",
       "</th>\n",
       "<th>\n",
       "<abbr title=\"Máximo\">\n",
       "Máx.\n",
       "</abbr>\n",
       "</th>\n",
       "<th>\n",
       "<abbr title=\"Mínimo\">\n",
       "Mín.\n",
       "</abbr>\n",
       "</th>\n",
       "<th>\n",
       "<a href=\"#\" onclick=\"ordenaPor('volumen'); cargaDatos();return false;\" title=\"Volumen\">Vol. <img class=\"ordenar_por\" src=\"https://e00-expansion.uecdn.es/iconos/v2.x/v2.0/pico_down.png\"/></a>\n",
       "</th>\n",
       "<th>\n",
       "<a href=\"#\" onclick=\"ordenaPor('capitalizacion'); cargaDatos();return false;\" title=\"Capitalización\"><abbr title=\"Capitalización\">Capit.</abbr> <img class=\"ordenar_por\" src=\"https://e00-expansion.uecdn.es/iconos/v2.x/v2.0/pico_down.png\"/></a>\n",
       "</th>\n",
       "<th>\n",
       "Hora\n",
       "</th>\n",
       "<th>\n",
       "</th>\n",
       "</tr>\n",
       "</thead>"
      ],
      "text/plain": [
       "<IPython.core.display.HTML object>"
      ]
     },
     "metadata": {},
     "output_type": "display_data"
    }
   ],
   "source": [
    "# Tambien es posible visualizar el contenido de los elementos como HTML renderizado dentro del mismo notebook\n",
    "# (aunque con ciertas limitaciones: los enlaces presentes en el código HTML no funcionarán si son relativos,\n",
    "# y las instrucciones de formato de la página generalmente se ignorarán)\n",
    "\n",
    "# Las funciones necesarias se encuetran en la librería IPython\n",
    "from IPython.display import display, HTML\n",
    "\n",
    "# Mostrar como HTML renderizado la cabecera de la tabla que hemos seleccionado\n",
    "display(HTML(str(tabla.find('thead'))))"
   ]
  },
  {
   "cell_type": "markdown",
   "metadata": {},
   "source": [
    "## Lectura de los datos"
   ]
  },
  {
   "cell_type": "markdown",
   "metadata": {},
   "source": [
    "Una vez se entiende la estructura de los datos en el código de la página web, simplemente hay que acceder a los campos que nos interesen y transformalos a un formato más utilzable"
   ]
  },
  {
   "cell_type": "code",
   "execution_count": 29,
   "metadata": {},
   "outputs": [
    {
     "name": "stdout",
     "output_type": "stream",
     "text": [
      "['Valor', 'Último', 'Var. %', 'Var.', 'Ac. % año', 'Máx.', 'Mín.', 'Vol.', 'Capit.', 'Hora', '']\n"
     ]
    }
   ],
   "source": [
    "# El elemento \"thead\" de la tabla contiene elmentos \"th\" que a su vez contienen los nombres de las columnas\n",
    "# de la tabla, que utilizaremos para nombrar a las distintas columnas de nuestro conjunto de datos.\n",
    "\n",
    "columnas = [th.text.strip() for th in tabla.find('thead').find_all('th')]\n",
    "print(columnas)"
   ]
  },
  {
   "cell_type": "code",
   "execution_count": 30,
   "metadata": {},
   "outputs": [
    {
     "name": "stdout",
     "output_type": "stream",
     "text": [
      "[]\n",
      "['ACERINOX', '7,694', '-0,16', '-0,01', '-23,40', '7,778', '7,554', '946.828', '2.082', '04/06', '']\n",
      "['BBVA', '3,212', '1,65', '0,05', '-31,87', '3,270', '3,093', '43.472.896', '21.417', '04/06', '']\n"
     ]
    }
   ],
   "source": [
    "# Los datos que queremos procesar están el elementos \"tr\" (por \"table row\") de la tabla, que \n",
    "# a su vez contienen elementos \"td\" (por \"table detail\"), que leemos en una lista de listas\n",
    "# Vemos también que la primera fila está vacía, y que el último campo de todas las filas tambien\n",
    "datos = [[td.text for td in tr.find_all('td')] for tr in tabla.find_all('tr')]\n",
    "print(datos[0])\n",
    "print(datos[2])\n",
    "print(datos[10])"
   ]
  },
  {
   "cell_type": "code",
   "execution_count": 31,
   "metadata": {},
   "outputs": [
    {
     "data": {
      "text/html": [
       "<div>\n",
       "<style scoped>\n",
       "    .dataframe tbody tr th:only-of-type {\n",
       "        vertical-align: middle;\n",
       "    }\n",
       "\n",
       "    .dataframe tbody tr th {\n",
       "        vertical-align: top;\n",
       "    }\n",
       "\n",
       "    .dataframe thead th {\n",
       "        text-align: right;\n",
       "    }\n",
       "</style>\n",
       "<table border=\"1\" class=\"dataframe\">\n",
       "  <thead>\n",
       "    <tr style=\"text-align: right;\">\n",
       "      <th></th>\n",
       "      <th>Valor</th>\n",
       "      <th>Último</th>\n",
       "      <th>Var. %</th>\n",
       "      <th>Var.</th>\n",
       "      <th>Ac. % año</th>\n",
       "      <th>Máx.</th>\n",
       "      <th>Mín.</th>\n",
       "      <th>Vol.</th>\n",
       "      <th>Capit.</th>\n",
       "      <th>Hora</th>\n",
       "    </tr>\n",
       "  </thead>\n",
       "  <tbody>\n",
       "    <tr>\n",
       "      <th>0</th>\n",
       "      <td>ACCIONA</td>\n",
       "      <td>95,500</td>\n",
       "      <td>1,38</td>\n",
       "      <td>1,30</td>\n",
       "      <td>1,81</td>\n",
       "      <td>96,250</td>\n",
       "      <td>93,450</td>\n",
       "      <td>143.031</td>\n",
       "      <td>5.239</td>\n",
       "      <td>04/06</td>\n",
       "    </tr>\n",
       "    <tr>\n",
       "      <th>1</th>\n",
       "      <td>ACERINOX</td>\n",
       "      <td>7,694</td>\n",
       "      <td>-0,16</td>\n",
       "      <td>-0,01</td>\n",
       "      <td>-23,40</td>\n",
       "      <td>7,778</td>\n",
       "      <td>7,554</td>\n",
       "      <td>946.828</td>\n",
       "      <td>2.082</td>\n",
       "      <td>04/06</td>\n",
       "    </tr>\n",
       "    <tr>\n",
       "      <th>2</th>\n",
       "      <td>ACS</td>\n",
       "      <td>25,380</td>\n",
       "      <td>-2,61</td>\n",
       "      <td>-0,68</td>\n",
       "      <td>-27,75</td>\n",
       "      <td>26,330</td>\n",
       "      <td>25,250</td>\n",
       "      <td>1.789.225</td>\n",
       "      <td>7.986</td>\n",
       "      <td>04/06</td>\n",
       "    </tr>\n",
       "    <tr>\n",
       "      <th>3</th>\n",
       "      <td>AENA</td>\n",
       "      <td>137,200</td>\n",
       "      <td>-5,18</td>\n",
       "      <td>-7,50</td>\n",
       "      <td>-19,53</td>\n",
       "      <td>143,500</td>\n",
       "      <td>136,700</td>\n",
       "      <td>358.689</td>\n",
       "      <td>20.580</td>\n",
       "      <td>04/06</td>\n",
       "    </tr>\n",
       "    <tr>\n",
       "      <th>4</th>\n",
       "      <td>AMADEUS IT GROUP</td>\n",
       "      <td>49,730</td>\n",
       "      <td>-1,05</td>\n",
       "      <td>-0,53</td>\n",
       "      <td>-31,18</td>\n",
       "      <td>50,560</td>\n",
       "      <td>49,400</td>\n",
       "      <td>1.619.578</td>\n",
       "      <td>22.403</td>\n",
       "      <td>04/06</td>\n",
       "    </tr>\n",
       "  </tbody>\n",
       "</table>\n",
       "</div>"
      ],
      "text/plain": [
       "              Valor   Último Var. %   Var. Ac. % año     Máx.     Mín.  \\\n",
       "0           ACCIONA   95,500   1,38   1,30      1,81   96,250   93,450   \n",
       "1          ACERINOX    7,694  -0,16  -0,01    -23,40    7,778    7,554   \n",
       "2               ACS   25,380  -2,61  -0,68    -27,75   26,330   25,250   \n",
       "3              AENA  137,200  -5,18  -7,50    -19,53  143,500  136,700   \n",
       "4  AMADEUS IT GROUP   49,730  -1,05  -0,53    -31,18   50,560   49,400   \n",
       "\n",
       "        Vol.  Capit.   Hora  \n",
       "0    143.031   5.239  04/06  \n",
       "1    946.828   2.082  04/06  \n",
       "2  1.789.225   7.986  04/06  \n",
       "3    358.689  20.580  04/06  \n",
       "4  1.619.578  22.403  04/06  "
      ]
     },
     "execution_count": 31,
     "metadata": {},
     "output_type": "execute_result"
    }
   ],
   "source": [
    "# Con los datos así leidos, generamos un DataFrame de Pandas (seleccionando solo las filas y columnas con datos)\n",
    "cotizaciones = pd.DataFrame([fila[0:-1] for fila in datos[1:]], columns=columnas[0:-1])\n",
    "cotizaciones.head()"
   ]
  },
  {
   "cell_type": "code",
   "execution_count": 32,
   "metadata": {},
   "outputs": [
    {
     "name": "stdout",
     "output_type": "stream",
     "text": [
      "<class 'pandas.core.frame.DataFrame'>\n",
      "RangeIndex: 35 entries, 0 to 34\n",
      "Data columns (total 10 columns):\n",
      " #   Column     Non-Null Count  Dtype \n",
      "---  ------     --------------  ----- \n",
      " 0   Valor      35 non-null     object\n",
      " 1   Último     35 non-null     object\n",
      " 2   Var. %     35 non-null     object\n",
      " 3   Var.       35 non-null     object\n",
      " 4   Ac. % año  35 non-null     object\n",
      " 5   Máx.       35 non-null     object\n",
      " 6   Mín.       35 non-null     object\n",
      " 7   Vol.       35 non-null     object\n",
      " 8   Capit.     35 non-null     object\n",
      " 9   Hora       35 non-null     object\n",
      "dtypes: object(10)\n",
      "memory usage: 2.9+ KB\n"
     ]
    }
   ],
   "source": [
    "# Comprobemos si todo ha ido bien...\n",
    "cotizaciones.info()"
   ]
  },
  {
   "cell_type": "code",
   "execution_count": 33,
   "metadata": {},
   "outputs": [
    {
     "name": "stdout",
     "output_type": "stream",
     "text": [
      "<class 'pandas.core.frame.DataFrame'>\n",
      "RangeIndex: 35 entries, 0 to 34\n",
      "Data columns (total 10 columns):\n",
      " #   Column     Non-Null Count  Dtype \n",
      "---  ------     --------------  ----- \n",
      " 0   Valor      35 non-null     object\n",
      " 1   Último     35 non-null     object\n",
      " 2   Var. %     35 non-null     object\n",
      " 3   Var.       35 non-null     object\n",
      " 4   Ac. % año  35 non-null     object\n",
      " 5   Máx.       35 non-null     object\n",
      " 6   Mín.       35 non-null     object\n",
      " 7   Vol.       35 non-null     object\n",
      " 8   Capit.     35 non-null     object\n",
      " 9   Hora       35 non-null     object\n",
      "dtypes: object(10)\n",
      "memory usage: 2.9+ KB\n"
     ]
    }
   ],
   "source": [
    "cotizaciones.info()"
   ]
  },
  {
   "cell_type": "code",
   "execution_count": 34,
   "metadata": {},
   "outputs": [],
   "source": [
    "# Todos los datos se han importado como cadenas de texto; para hacer el procesamiento de los datos más sencillo\n",
    "# conviene transformarlos a sus tipos reales\n",
    "\n",
    "for col in cotizaciones.columns[1:9].tolist() : \n",
    "    cotizaciones[col] = cotizaciones[col].str.replace('.', '').str.replace(',', '.').astype('float64')"
   ]
  },
  {
   "cell_type": "code",
   "execution_count": 35,
   "metadata": {},
   "outputs": [
    {
     "name": "stdout",
     "output_type": "stream",
     "text": [
      "<class 'pandas.core.frame.DataFrame'>\n",
      "RangeIndex: 35 entries, 0 to 34\n",
      "Data columns (total 10 columns):\n",
      " #   Column     Non-Null Count  Dtype  \n",
      "---  ------     --------------  -----  \n",
      " 0   Valor      35 non-null     object \n",
      " 1   Último     35 non-null     float64\n",
      " 2   Var. %     35 non-null     float64\n",
      " 3   Var.       35 non-null     float64\n",
      " 4   Ac. % año  35 non-null     float64\n",
      " 5   Máx.       35 non-null     float64\n",
      " 6   Mín.       35 non-null     float64\n",
      " 7   Vol.       35 non-null     float64\n",
      " 8   Capit.     35 non-null     float64\n",
      " 9   Hora       35 non-null     object \n",
      "dtypes: float64(8), object(2)\n",
      "memory usage: 2.9+ KB\n"
     ]
    }
   ],
   "source": [
    "# Volvemos a comprobar...\n",
    "cotizaciones.info()"
   ]
  },
  {
   "cell_type": "code",
   "execution_count": 39,
   "metadata": {},
   "outputs": [
    {
     "data": {
      "text/html": [
       "\n",
       "<div id=\"altair-viz-c18d15c04bdf4695b55357df83a31d29\"></div>\n",
       "<script type=\"text/javascript\">\n",
       "  (function(spec, embedOpt){\n",
       "    let outputDiv = document.currentScript.previousElementSibling;\n",
       "    if (outputDiv.id !== \"altair-viz-c18d15c04bdf4695b55357df83a31d29\") {\n",
       "      outputDiv = document.getElementById(\"altair-viz-c18d15c04bdf4695b55357df83a31d29\");\n",
       "    }\n",
       "    const paths = {\n",
       "      \"vega\": \"https://cdn.jsdelivr.net/npm//vega@5?noext\",\n",
       "      \"vega-lib\": \"https://cdn.jsdelivr.net/npm//vega-lib?noext\",\n",
       "      \"vega-lite\": \"https://cdn.jsdelivr.net/npm//vega-lite@4.8.1?noext\",\n",
       "      \"vega-embed\": \"https://cdn.jsdelivr.net/npm//vega-embed@6?noext\",\n",
       "    };\n",
       "\n",
       "    function loadScript(lib) {\n",
       "      return new Promise(function(resolve, reject) {\n",
       "        var s = document.createElement('script');\n",
       "        s.src = paths[lib];\n",
       "        s.async = true;\n",
       "        s.onload = () => resolve(paths[lib]);\n",
       "        s.onerror = () => reject(`Error loading script: ${paths[lib]}`);\n",
       "        document.getElementsByTagName(\"head\")[0].appendChild(s);\n",
       "      });\n",
       "    }\n",
       "\n",
       "    function showError(err) {\n",
       "      outputDiv.innerHTML = `<div class=\"error\" style=\"color:red;\">${err}</div>`;\n",
       "      throw err;\n",
       "    }\n",
       "\n",
       "    function displayChart(vegaEmbed) {\n",
       "      vegaEmbed(outputDiv, spec, embedOpt)\n",
       "        .catch(err => showError(`Javascript Error: ${err.message}<br>This usually means there's a typo in your chart specification. See the javascript console for the full traceback.`));\n",
       "    }\n",
       "\n",
       "    if(typeof define === \"function\" && define.amd) {\n",
       "      requirejs.config({paths});\n",
       "      require([\"vega-embed\"], displayChart, err => showError(`Error loading script: ${err.message}`));\n",
       "    } else if (typeof vegaEmbed === \"function\") {\n",
       "      displayChart(vegaEmbed);\n",
       "    } else {\n",
       "      loadScript(\"vega\")\n",
       "        .then(() => loadScript(\"vega-lite\"))\n",
       "        .then(() => loadScript(\"vega-embed\"))\n",
       "        .catch(showError)\n",
       "        .then(() => displayChart(vegaEmbed));\n",
       "    }\n",
       "  })({\"config\": {\"view\": {\"continuousWidth\": 400, \"continuousHeight\": 300}}, \"data\": {\"name\": \"data-8595cde0f12696d141905a3813f2a005\"}, \"mark\": \"bar\", \"encoding\": {\"x\": {\"type\": \"nominal\", \"field\": \"Valor\", \"sort\": \"-y\", \"title\": null}, \"y\": {\"type\": \"quantitative\", \"field\": \"Capitalizaci\\u00f3n.\", \"title\": \"Capitalizaci\\u00f3n bursatil (M\\u20ac)\"}}, \"height\": 250, \"title\": \"Capitalizaci\\u00f3n de las empresas del IBEX35 a dia de hoy\", \"width\": 800, \"$schema\": \"https://vega.github.io/schema/vega-lite/v4.8.1.json\", \"datasets\": {\"data-8595cde0f12696d141905a3813f2a005\": [{\"Valor\": \"ACCIONA\", \"Capitalizaci\\u00f3n\": 5239.0}, {\"Valor\": \"ACERINOX\", \"Capitalizaci\\u00f3n\": 2082.0}, {\"Valor\": \"ACS\", \"Capitalizaci\\u00f3n\": 7986.0}, {\"Valor\": \"AENA\", \"Capitalizaci\\u00f3n\": 20580.0}, {\"Valor\": \"AMADEUS IT GROUP\", \"Capitalizaci\\u00f3n\": 22403.0}, {\"Valor\": \"ARCELORMITTAL\", \"Capitalizaci\\u00f3n\": 11083.0}, {\"Valor\": \"BANCO SABADELL\", \"Capitalizaci\\u00f3n\": 1811.0}, {\"Valor\": \"BANKIA\", \"Capitalizaci\\u00f3n\": 2769.0}, {\"Valor\": \"BANKINTER\", \"Capitalizaci\\u00f3n\": 3784.0}, {\"Valor\": \"BBVA\", \"Capitalizaci\\u00f3n\": 21417.0}, {\"Valor\": \"CAIXABANK\", \"Capitalizaci\\u00f3n\": 11401.0}, {\"Valor\": \"CELLNEX TELECOM\", \"Capitalizaci\\u00f3n\": 19166.0}, {\"Valor\": \"CIE. AUTOMOTIVE\", \"Capitalizaci\\u00f3n\": 2260.0}, {\"Valor\": \"COLONIAL\", \"Capitalizaci\\u00f3n\": 4382.0}, {\"Valor\": \"ENAGAS\", \"Capitalizaci\\u00f3n\": 5808.0}, {\"Valor\": \"ENCE\", \"Capitalizaci\\u00f3n\": 754.0}, {\"Valor\": \"ENDESA\", \"Capitalizaci\\u00f3n\": 23758.0}, {\"Valor\": \"FERROVIAL\", \"Capitalizaci\\u00f3n\": 18858.0}, {\"Valor\": \"GRIFOLS\", \"Capitalizaci\\u00f3n\": 11578.0}, {\"Valor\": \"IAG\", \"Capitalizaci\\u00f3n\": 6823.0}, {\"Valor\": \"IBERDROLA\", \"Capitalizaci\\u00f3n\": 64265.0}, {\"Valor\": \"INDITEX\", \"Capitalizaci\\u00f3n\": 81874.0}, {\"Valor\": \"INDRA\", \"Capitalizaci\\u00f3n\": 1389.0}, {\"Valor\": \"MAPFRE\", \"Capitalizaci\\u00f3n\": 5568.0}, {\"Valor\": \"MASMOVIL\", \"Capitalizaci\\u00f3n\": 3003.0}, {\"Valor\": \"MEDIASET\", \"Capitalizaci\\u00f3n\": 1145.0}, {\"Valor\": \"MELI\\u00c1 HOTELS\", \"Capitalizaci\\u00f3n\": 1092.0}, {\"Valor\": \"MERLIN PROP.\", \"Capitalizaci\\u00f3n\": 3970.0}, {\"Valor\": \"NATURGY\", \"Capitalizaci\\u00f3n\": 16784.0}, {\"Valor\": \"RED EL\\u00c9CTRICA\", \"Capitalizaci\\u00f3n\": 9060.0}, {\"Valor\": \"REPSOL\", \"Capitalizaci\\u00f3n\": 14166.0}, {\"Valor\": \"SANTANDER\", \"Capitalizaci\\u00f3n\": 37715.0}, {\"Valor\": \"SIEMENS GAMESA\", \"Capitalizaci\\u00f3n\": 10374.0}, {\"Valor\": \"TELEF\\u00d3NICA\", \"Capitalizaci\\u00f3n\": 24107.0}, {\"Valor\": \"VISCOFAN\", \"Capitalizaci\\u00f3n\": 2718.0}]}}, {\"mode\": \"vega-lite\"});\n",
       "</script>"
      ],
      "text/plain": [
       "alt.Chart(...)"
      ]
     },
     "execution_count": 39,
     "metadata": {},
     "output_type": "execute_result"
    }
   ],
   "source": [
    "# Los datos ya están listos para analizar, por ejemplo, haciendo alguna gráfica...\n",
    "\n",
    "data = cotizaciones[['Valor', 'Capit.']].rename(columns = {'Capit.': 'Capitalización'})\n",
    "\n",
    "alt.Chart(data, width=800, height=250, title='Capitalización de las empresas del IBEX35 a dia de hoy').mark_bar().encode(\n",
    "    x = alt.X('Valor', sort = '-y', title = None),\n",
    "    y = alt.Y('Capitalización.:Q', title = 'Capitalización bursatil (M€)'))"
   ]
  },
  {
   "cell_type": "code",
   "execution_count": null,
   "metadata": {},
   "outputs": [],
   "source": []
  }
 ],
 "metadata": {
  "kernelspec": {
   "display_name": "Python 3",
   "language": "python",
   "name": "python3"
  },
  "language_info": {
   "codemirror_mode": {
    "name": "ipython",
    "version": 3
   },
   "file_extension": ".py",
   "mimetype": "text/x-python",
   "name": "python",
   "nbconvert_exporter": "python",
   "pygments_lexer": "ipython3",
   "version": "3.8.8"
  }
 },
 "nbformat": 4,
 "nbformat_minor": 4
}
