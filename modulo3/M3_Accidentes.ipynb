{
 "cells": [
  {
   "cell_type": "markdown",
   "metadata": {},
   "source": [
    "# José Luis Padilla\n",
    "# Modulo 3 - Unidad 4 Caso práctico: Carga y limpieza de datos (datos de accidentes de Madrid)"
   ]
  },
  {
   "cell_type": "code",
   "execution_count": 1,
   "metadata": {},
   "outputs": [],
   "source": [
    "import pandas as pd\n",
    "import numpy as np\n",
    "# Altair es una librería de visualización de datos, basada en Vega y Vega-Lite, que usa un lenguaje declarativo que busca minimizar la cantidad de código requerido para la construcción de gráficos.\n",
    "import altair as alt\n",
    "# El módulo \"os.path\" nos permite gestionar diferentes opciones relativas al sistema de ficheros como pueden ser ficheros, directorios, etc.\n",
    "import os.path\n",
    "# \"urllib. request\" es un módulo Python para acceder y utilizar recursos de internet identificados por URLs. \n",
    "# Ofrece una interfaz muy simple, a través de la función urlopen. Esta función es capaz de acceder a URLs usando una variedad de protocolos diferentes.\n",
    "import urllib.request\n",
    "\n",
    "import os"
   ]
  },
  {
   "cell_type": "markdown",
   "metadata": {},
   "source": [
    "## Descripción del caso"
   ]
  },
  {
   "cell_type": "markdown",
   "metadata": {},
   "source": [
    "En este caso práctico se accede a unos datos públicos y se realiza un análisis exploratorio y una limpieza y preparación de los datos.\n",
    "Los datos a analizar corresponden a los accidentes de tráfico en la ciudad de Madrid, que están disponibles a través del portal de datos abiertos del Ayuntamiento de Madrid. Se trata de un conjunto de datos con múltiples dimensiones de distinto tipo y una cardinalidad pequeña, de modo que son sencillos de manipular pero ricos."
   ]
  },
  {
   "cell_type": "markdown",
   "metadata": {},
   "source": [
    "## Descarga de los datos"
   ]
  },
  {
   "cell_type": "markdown",
   "metadata": {},
   "source": [
    "En primer lugar se muestra como descargar los datos y los almacenarlos localmente. Este paso no es necesario repetirlo cada vez que se ejecute este código, de manera que primero comprobamos si ya existen los ficheros para no volver a descargarlos.\n",
    "\n",
    "(En este ejemplo, este medio de acceso a los datos está comentado, y se sustituye por un acceso local, para que sea posible ejecutar el notebook aún sin conexión a internet o aunque el sitio datos.madrid.es deje de estar disponible. De todos modos se muestra aquí con fines didácticos)"
   ]
  },
  {
   "cell_type": "code",
   "execution_count": 2,
   "metadata": {},
   "outputs": [],
   "source": [
    "# Si no existe el directorio 'datos', lo creamos\n",
    "\n",
    "# if not os.path.exists('./datos'):\n",
    "#     os.makedirs('./datos')\n",
    "\n",
    "# # URLs de los datos a acceder y nombre de los ficheros en los que guardarlos\n",
    "# URL_DATOS_ACCIDENTES = 'https://datos.madrid.es/egob/catalogo/300228-19-accidentes-trafico-detalle.csv'\n",
    "# PATH_DATOS_ACCIDENTES = './datos/accidentes2019.csv'\n",
    "\n",
    "# # El ayuntamiento ofrece un pequeño documento con la descripción de los datos, que aprovechamos para descargar también\n",
    "# # (Desde Jupyter Lab, basta con hacer doble click sobre el nombre del fichero en el panel de la izquierda \n",
    "# # para que se abra en una nueva pestaña)\n",
    "# URL_PDF_ACCIDENTES = 'https://datos.madrid.es/FWProjects/egob/Catalogo/Seguridad/Ficheros/Estructura_DS_Accidentes_trafico_desde_2019.pdf'\n",
    "# PATH_PDF_ACCIDENTES = './datos/accidentes2019.pdf'\n",
    "\n",
    "# if not os.path.exists(PATH_DATOS_ACCIDENTES):\n",
    "#     urllib.request.urlretrieve(URL_DATOS_ACCIDENTES, PATH_DATOS_ACCIDENTES)\n",
    "    \n",
    "# if not os.path.exists(PATH_PDF_ACCIDENTES):\n",
    "#     urllib.request.urlretrieve(URL_PDF_ACCIDENTES, PATH_PDF_ACCIDENTES)"
   ]
  },
  {
   "cell_type": "markdown",
   "metadata": {},
   "source": [
    "## Lectura de los datos"
   ]
  },
  {
   "cell_type": "markdown",
   "metadata": {},
   "source": [
    "Una vez descargados los datos, que en este caso están en formato csv, lo más sencillo es cargarlos en un DataFrame de Pandas para proceder a una exploración inicial. En este caso concreto, para que esa carga funcione correctamente es necesario especificar el encoding del fichero csv, ya que no utiliza el estándar habitual UTF-8 pero contiene caracteres especiales (\"especiales\" para el estándar ASCII, como puede ser la letra eñe o las vocales acentuadas)"
   ]
  },
  {
   "cell_type": "markdown",
   "metadata": {},
   "source": [
    "En primer lugar, vemos las primeras líneas del fichero, para tener una idea del contenido"
   ]
  },
  {
   "cell_type": "code",
   "execution_count": 3,
   "metadata": {},
   "outputs": [
    {
     "name": "stdout",
     "output_type": "stream",
     "text": [
      "Nº  EXPEDIENTE;FECHA;HORA;CALLE;NÚMERO;DISTRITO;TIPO ACCIDENTE;ESTADO METEREOLÓGICO;TIPO VEHÍCULO;TIPO PERSONA;RANGO EDAD;SEXO;LESIVIDAD*;* La correspondencia de los códigos se encuentra descrito en la estructura del fichero.\n",
      "\n",
      "2019S000020;01/01/2019;23:30;CALL. FUENCARRAL;149;CHAMBERÍ;Caída;Despejado;Ciclomotor;Conductor;DE 25 A 29 AÑOS;Hombre;01;\n",
      "\n",
      "2019S000017;01/01/2019;22:15;CALL. OCA / CALL. PINZON;-;CARABANCHEL;Colisión fronto-lateral;Despejado;Turismo;Conductor;DE 40 A 44 AÑOS;Mujer;14;\n",
      "\n",
      "2019S000017;01/01/2019;22:15;CALL. OCA / CALL. PINZON;-;CARABANCHEL;Colisión fronto-lateral;Despejado;Ciclomotor;Conductor;DE 35 A 39 AÑOS;Hombre;03;\n",
      "\n",
      "2019S001812;01/01/2019;21:40;CALL. BAILEN / CUSTA. SAN VICENTE;-;CENTRO;Colisión fronto-lateral;Despejado;Turismo;Conductor;DE 40 A 44 AÑOS;Hombre;14;\n",
      "\n"
     ]
    }
   ],
   "source": [
    "with open('C:\\\\Users\\\\jlpad\\\\Desktop\\\\BBDD\\\\accidentes2019.csv', encoding = 'latin1') as f:\n",
    "    for _ in range(5) : print(f.readline())"
   ]
  },
  {
   "cell_type": "markdown",
   "metadata": {},
   "source": [
    "De esta inspección inicial podemos extraer algunas conclusiones (que también podrían obtenerse mediante ensayo y error con pd.read_csv():\n",
    "- El separador de campos es el caracter ; (esto es habitual en ficheros csv en España, donde la coma se usa para separar la parte decimal de los números)\n",
    "- La primera línea del fichero contiene los nombres de los campos, como es habitual en muchos ficheros csv\n",
    "- El segundo campo, \"FECHA\", es un dato de tipo fecha, y el tercero, \"HORA\" es una hora del día\n",
    "- Hay un comentario al final de la primera fila, que se interpretaría como el nombre de una columna más de datos, que habría que eliminar\n",
    "\n",
    "A continuación, pasamos a leer los datos en bruto en un dataframe de Pandas, para poder procesarlos más cómodamente, y mostramos las primeras cinco filas de datos y una descripción general del contenido del dataframe"
   ]
  },
  {
   "cell_type": "code",
   "execution_count": 4,
   "metadata": {},
   "outputs": [
    {
     "data": {
      "text/html": [
       "<div>\n",
       "<style scoped>\n",
       "    .dataframe tbody tr th:only-of-type {\n",
       "        vertical-align: middle;\n",
       "    }\n",
       "\n",
       "    .dataframe tbody tr th {\n",
       "        vertical-align: top;\n",
       "    }\n",
       "\n",
       "    .dataframe thead th {\n",
       "        text-align: right;\n",
       "    }\n",
       "</style>\n",
       "<table border=\"1\" class=\"dataframe\">\n",
       "  <thead>\n",
       "    <tr style=\"text-align: right;\">\n",
       "      <th></th>\n",
       "      <th>Nº  EXPEDIENTE</th>\n",
       "      <th>FECHA</th>\n",
       "      <th>HORA</th>\n",
       "      <th>CALLE</th>\n",
       "      <th>NÚMERO</th>\n",
       "      <th>DISTRITO</th>\n",
       "      <th>TIPO ACCIDENTE</th>\n",
       "      <th>ESTADO METEREOLÓGICO</th>\n",
       "      <th>TIPO VEHÍCULO</th>\n",
       "      <th>TIPO PERSONA</th>\n",
       "      <th>RANGO EDAD</th>\n",
       "      <th>SEXO</th>\n",
       "      <th>LESIVIDAD*</th>\n",
       "      <th>* La correspondencia de los códigos se encuentra descrito en la estructura del fichero.</th>\n",
       "    </tr>\n",
       "  </thead>\n",
       "  <tbody>\n",
       "    <tr>\n",
       "      <th>0</th>\n",
       "      <td>2019S000020</td>\n",
       "      <td>01/01/2019</td>\n",
       "      <td>23:30</td>\n",
       "      <td>CALL. FUENCARRAL</td>\n",
       "      <td>149</td>\n",
       "      <td>CHAMBERÍ</td>\n",
       "      <td>Caída</td>\n",
       "      <td>Despejado</td>\n",
       "      <td>Ciclomotor</td>\n",
       "      <td>Conductor</td>\n",
       "      <td>DE 25 A 29 AÑOS</td>\n",
       "      <td>Hombre</td>\n",
       "      <td>1.0</td>\n",
       "      <td>NaN</td>\n",
       "    </tr>\n",
       "    <tr>\n",
       "      <th>1</th>\n",
       "      <td>2019S000017</td>\n",
       "      <td>01/01/2019</td>\n",
       "      <td>22:15</td>\n",
       "      <td>CALL. OCA / CALL. PINZON</td>\n",
       "      <td>-</td>\n",
       "      <td>CARABANCHEL</td>\n",
       "      <td>Colisión fronto-lateral</td>\n",
       "      <td>Despejado</td>\n",
       "      <td>Turismo</td>\n",
       "      <td>Conductor</td>\n",
       "      <td>DE 40 A 44 AÑOS</td>\n",
       "      <td>Mujer</td>\n",
       "      <td>14.0</td>\n",
       "      <td>NaN</td>\n",
       "    </tr>\n",
       "    <tr>\n",
       "      <th>2</th>\n",
       "      <td>2019S000017</td>\n",
       "      <td>01/01/2019</td>\n",
       "      <td>22:15</td>\n",
       "      <td>CALL. OCA / CALL. PINZON</td>\n",
       "      <td>-</td>\n",
       "      <td>CARABANCHEL</td>\n",
       "      <td>Colisión fronto-lateral</td>\n",
       "      <td>Despejado</td>\n",
       "      <td>Ciclomotor</td>\n",
       "      <td>Conductor</td>\n",
       "      <td>DE 35 A 39 AÑOS</td>\n",
       "      <td>Hombre</td>\n",
       "      <td>3.0</td>\n",
       "      <td>NaN</td>\n",
       "    </tr>\n",
       "    <tr>\n",
       "      <th>3</th>\n",
       "      <td>2019S001812</td>\n",
       "      <td>01/01/2019</td>\n",
       "      <td>21:40</td>\n",
       "      <td>CALL. BAILEN / CUSTA. SAN VICENTE</td>\n",
       "      <td>-</td>\n",
       "      <td>CENTRO</td>\n",
       "      <td>Colisión fronto-lateral</td>\n",
       "      <td>Despejado</td>\n",
       "      <td>Turismo</td>\n",
       "      <td>Conductor</td>\n",
       "      <td>DE 40 A 44 AÑOS</td>\n",
       "      <td>Hombre</td>\n",
       "      <td>14.0</td>\n",
       "      <td>NaN</td>\n",
       "    </tr>\n",
       "    <tr>\n",
       "      <th>4</th>\n",
       "      <td>2019S001812</td>\n",
       "      <td>01/01/2019</td>\n",
       "      <td>21:40</td>\n",
       "      <td>CALL. BAILEN / CUSTA. SAN VICENTE</td>\n",
       "      <td>-</td>\n",
       "      <td>CENTRO</td>\n",
       "      <td>Colisión fronto-lateral</td>\n",
       "      <td>Despejado</td>\n",
       "      <td>Turismo</td>\n",
       "      <td>Conductor</td>\n",
       "      <td>DE 30 A 34 AÑOS</td>\n",
       "      <td>Mujer</td>\n",
       "      <td>7.0</td>\n",
       "      <td>NaN</td>\n",
       "    </tr>\n",
       "    <tr>\n",
       "      <th>5</th>\n",
       "      <td>2019S001812</td>\n",
       "      <td>01/01/2019</td>\n",
       "      <td>21:40</td>\n",
       "      <td>CALL. BAILEN / CUSTA. SAN VICENTE</td>\n",
       "      <td>-</td>\n",
       "      <td>CENTRO</td>\n",
       "      <td>Colisión fronto-lateral</td>\n",
       "      <td>Despejado</td>\n",
       "      <td>Turismo</td>\n",
       "      <td>Pasajero</td>\n",
       "      <td>DE 18 A 20 AÑOS</td>\n",
       "      <td>Mujer</td>\n",
       "      <td>14.0</td>\n",
       "      <td>NaN</td>\n",
       "    </tr>\n",
       "  </tbody>\n",
       "</table>\n",
       "</div>"
      ],
      "text/plain": [
       "  Nº  EXPEDIENTE       FECHA   HORA                              CALLE NÚMERO  \\\n",
       "0    2019S000020  01/01/2019  23:30                   CALL. FUENCARRAL    149   \n",
       "1    2019S000017  01/01/2019  22:15           CALL. OCA / CALL. PINZON      -   \n",
       "2    2019S000017  01/01/2019  22:15           CALL. OCA / CALL. PINZON      -   \n",
       "3    2019S001812  01/01/2019  21:40  CALL. BAILEN / CUSTA. SAN VICENTE      -   \n",
       "4    2019S001812  01/01/2019  21:40  CALL. BAILEN / CUSTA. SAN VICENTE      -   \n",
       "5    2019S001812  01/01/2019  21:40  CALL. BAILEN / CUSTA. SAN VICENTE      -   \n",
       "\n",
       "      DISTRITO           TIPO ACCIDENTE ESTADO METEREOLÓGICO TIPO VEHÍCULO  \\\n",
       "0     CHAMBERÍ                    Caída            Despejado    Ciclomotor   \n",
       "1  CARABANCHEL  Colisión fronto-lateral            Despejado       Turismo   \n",
       "2  CARABANCHEL  Colisión fronto-lateral            Despejado    Ciclomotor   \n",
       "3       CENTRO  Colisión fronto-lateral            Despejado       Turismo   \n",
       "4       CENTRO  Colisión fronto-lateral            Despejado       Turismo   \n",
       "5       CENTRO  Colisión fronto-lateral            Despejado       Turismo   \n",
       "\n",
       "  TIPO PERSONA       RANGO EDAD    SEXO  LESIVIDAD*  \\\n",
       "0    Conductor  DE 25 A 29 AÑOS  Hombre         1.0   \n",
       "1    Conductor  DE 40 A 44 AÑOS   Mujer        14.0   \n",
       "2    Conductor  DE 35 A 39 AÑOS  Hombre         3.0   \n",
       "3    Conductor  DE 40 A 44 AÑOS  Hombre        14.0   \n",
       "4    Conductor  DE 30 A 34 AÑOS   Mujer         7.0   \n",
       "5     Pasajero  DE 18 A 20 AÑOS   Mujer        14.0   \n",
       "\n",
       "   * La correspondencia de los códigos se encuentra descrito en la estructura del fichero.  \n",
       "0                                                NaN                                        \n",
       "1                                                NaN                                        \n",
       "2                                                NaN                                        \n",
       "3                                                NaN                                        \n",
       "4                                                NaN                                        \n",
       "5                                                NaN                                        "
      ]
     },
     "execution_count": 4,
     "metadata": {},
     "output_type": "execute_result"
    }
   ],
   "source": [
    "accidentes_raw = pd.read_csv('C:\\\\Users\\\\jlpad\\\\Desktop\\\\BBDD\\\\accidentes2019.csv', encoding = 'latin1', sep = ';')\n",
    "accidentes_raw.head(6)"
   ]
  },
  {
   "cell_type": "code",
   "execution_count": 5,
   "metadata": {},
   "outputs": [
    {
     "name": "stdout",
     "output_type": "stream",
     "text": [
      "<class 'pandas.core.frame.DataFrame'>\n",
      "RangeIndex: 51806 entries, 0 to 51805\n",
      "Data columns (total 14 columns):\n",
      " #   Column                                                                                   Non-Null Count  Dtype  \n",
      "---  ------                                                                                   --------------  -----  \n",
      " 0   Nº  EXPEDIENTE                                                                           51806 non-null  object \n",
      " 1   FECHA                                                                                    51806 non-null  object \n",
      " 2   HORA                                                                                     51806 non-null  object \n",
      " 3   CALLE                                                                                    51806 non-null  object \n",
      " 4   NÚMERO                                                                                   51802 non-null  object \n",
      " 5   DISTRITO                                                                                 51801 non-null  object \n",
      " 6   TIPO ACCIDENTE                                                                           51804 non-null  object \n",
      " 7   ESTADO METEREOLÓGICO                                                                     46674 non-null  object \n",
      " 8   TIPO VEHÍCULO                                                                            51628 non-null  object \n",
      " 9   TIPO PERSONA                                                                             51781 non-null  object \n",
      " 10  RANGO EDAD                                                                               51806 non-null  object \n",
      " 11  SEXO                                                                                     46756 non-null  object \n",
      " 12  LESIVIDAD*                                                                               30030 non-null  float64\n",
      " 13  * La correspondencia de los códigos se encuentra descrito en la estructura del fichero.  0 non-null      float64\n",
      "dtypes: float64(2), object(12)\n",
      "memory usage: 5.5+ MB\n"
     ]
    }
   ],
   "source": [
    "accidentes_raw.info()"
   ]
  },
  {
   "cell_type": "markdown",
   "metadata": {},
   "source": [
    "Efectivamente, vemos que ha aparecido una última columna con todos los valores NaN (\"Not a Number\") que podemos ignorar."
   ]
  },
  {
   "cell_type": "markdown",
   "metadata": {},
   "source": [
    "## Limpieza de datos"
   ]
  },
  {
   "cell_type": "markdown",
   "metadata": {},
   "source": [
    "Vamos a analizar y limpiar columna por columna, ya que vemos que cada una es un caso distinto. Para facilitarlo, escribimos una pequeña función que nos proporciona los datos más relevantes para esa limpieza"
   ]
  },
  {
   "cell_type": "code",
   "execution_count": 6,
   "metadata": {},
   "outputs": [],
   "source": [
    "def describe_columna(df, col):\n",
    "    print(f'Columna: {col}  -  Tipo de datos: {df[col].dtype}')\n",
    "    print(f'Número de valores nulos: {df[col].isnull().sum()}  -  Número de valores distintos: {df[col].nunique()}')\n",
    "    print('Valores más frecuentes:')\n",
    "    for i, v in df[col].value_counts().iloc[:10].items() :\n",
    "        print(i, '\\t', v)"
   ]
  },
  {
   "cell_type": "code",
   "execution_count": 7,
   "metadata": {},
   "outputs": [
    {
     "name": "stdout",
     "output_type": "stream",
     "text": [
      "Columna: Nº  EXPEDIENTE  -  Tipo de datos: object\n",
      "Número de valores nulos: 0  -  Número de valores distintos: 21935\n",
      "Valores más frecuentes:\n",
      "2019S036555 \t 13\n",
      "2019S028162 \t 12\n",
      "2019S013324 \t 12\n",
      "2019S000625 \t 12\n",
      "2019S038336 \t 12\n",
      "2019S029891 \t 12\n",
      "2019S032214 \t 12\n",
      "2019S024660 \t 11\n",
      "2019S022408 \t 11\n",
      "2019S017281 \t 11\n"
     ]
    }
   ],
   "source": [
    "describe_columna(accidentes_raw, 'Nº  EXPEDIENTE')"
   ]
  },
  {
   "cell_type": "markdown",
   "metadata": {},
   "source": [
    "Nada particulamente interesante en esta columna. Vemos que el número de expediente no es único (el valor más usado, el primero de la lista de valores, se usa un total de 13 veces): leyendo el documento de descripción de los datos, o simplemente inspeccionando los datos, podemos ver que el número de expediente identifica un accidente, pero en él pueden haber estado involucrados varios vehículos o más de una persona, y para cada uno de ellos existe una línea en este fichero. El número de accidentes, por lo tanto, no es el número de filas del fichero, sino el número de valores únicos del campo Nº  EXPEDIENTE.\n",
    "\n",
    "Para la limpieza campo por campo, VAMOS A CREAR UN NUEVO DATA FRAME al que asignaremos cada columna ya procesada. En este caso, el UNICO CAMBIO que realizamos es CORREGIR EL NOMBRE DEL CAMPO para que no tenga doble espacio entre 'Nº' y 'EXPEDIENTE', y pasar el nombre a minúsculas."
   ]
  },
  {
   "cell_type": "code",
   "execution_count": 8,
   "metadata": {},
   "outputs": [],
   "source": [
    "accidentes = pd.DataFrame()\n",
    "accidentes['Nº Expediente'] = accidentes_raw['Nº  EXPEDIENTE']"
   ]
  },
  {
   "cell_type": "markdown",
   "metadata": {},
   "source": [
    "Siguiente columna..."
   ]
  },
  {
   "cell_type": "code",
   "execution_count": 9,
   "metadata": {},
   "outputs": [
    {
     "name": "stdout",
     "output_type": "stream",
     "text": [
      "Columna: FECHA  -  Tipo de datos: object\n",
      "Número de valores nulos: 0  -  Número de valores distintos: 365\n",
      "Valores más frecuentes:\n",
      "05/04/2019 \t 272\n",
      "31/05/2019 \t 239\n",
      "24/04/2019 \t 234\n",
      "01/02/2019 \t 229\n",
      "20/12/2019 \t 229\n",
      "12/12/2019 \t 226\n",
      "22/02/2019 \t 212\n",
      "19/01/2019 \t 210\n",
      "04/10/2019 \t 209\n",
      "31/10/2019 \t 207\n",
      "\n",
      "Columna: HORA  -  Tipo de datos: object\n",
      "Número de valores nulos: 0  -  Número de valores distintos: 1213\n",
      "Valores más frecuentes:\n",
      "18:00 \t 464\n",
      "19:30 \t 457\n",
      "20:00 \t 452\n",
      "16:00 \t 452\n",
      "18:30 \t 441\n",
      "17:00 \t 424\n",
      "13:00 \t 421\n",
      "21:00 \t 405\n",
      "14:00 \t 395\n",
      "14:30 \t 395\n"
     ]
    }
   ],
   "source": [
    "describe_columna(accidentes_raw, 'FECHA')\n",
    "print()\n",
    "describe_columna(accidentes_raw, 'HORA')"
   ]
  },
  {
   "cell_type": "markdown",
   "metadata": {},
   "source": [
    "Vemos que tanto las FECHAS como las HORAS se han leido como TIPO de datos \"OBJECT\", que es la forma como Pandas identifica las cadenas de caracteres (al menos, hasta la versión 1.0, a partir de la cual existe un tipo específico, string, para las cadenas de caracteres). Para que sea más sencillo operar con ellas, LAS TRANSFORMAMOS a TIPO de datos \"DATETIME\" Y LAS JUNTAMOS en 1 SOLO CAMPO QUE INCLUYA tanto la FECHA como la HORA (para poder ordenar los accidentes, buscar fácilmente todos los accidentes entre dos instantes concretos cualquiera, etc.)"
   ]
  },
  {
   "cell_type": "code",
   "execution_count": 10,
   "metadata": {},
   "outputs": [],
   "source": [
    "accidentes['Fecha'] = pd.to_datetime(accidentes_raw.FECHA) + \\\n",
    "                      pd.to_timedelta(accidentes_raw.HORA + ':00')"
   ]
  },
  {
   "cell_type": "markdown",
   "metadata": {},
   "source": [
    "Siguientes columnas..."
   ]
  },
  {
   "cell_type": "code",
   "execution_count": 11,
   "metadata": {},
   "outputs": [
    {
     "name": "stdout",
     "output_type": "stream",
     "text": [
      "Columna: CALLE  -  Tipo de datos: object\n",
      "Número de valores nulos: 0  -  Número de valores distintos: 10456\n",
      "Valores más frecuentes:\n",
      "PASEO. CASTELLANA \t 719\n",
      "CALL. ALCALA \t 646\n",
      "CALL. BRAVO MURILLO \t 265\n",
      "AVDA. ALBUFERA \t 264\n",
      "CALL. FRANCISCO SILVELA \t 179\n",
      "CALL. SERRANO \t 177\n",
      "PASEO. SANTA MARIA DE LA CABEZA \t 169\n",
      "PASEO. EXTREMADURA \t 167\n",
      "CALL. PRINCIPE DE VERGARA \t 167\n",
      "CALL. DOCTOR ESQUERDO \t 153\n"
     ]
    }
   ],
   "source": [
    "describe_columna(accidentes_raw, 'CALLE')"
   ]
  },
  {
   "cell_type": "code",
   "execution_count": 12,
   "metadata": {},
   "outputs": [],
   "source": [
    "accidentes['Calle'] = accidentes_raw['CALLE']"
   ]
  },
  {
   "cell_type": "code",
   "execution_count": 13,
   "metadata": {},
   "outputs": [
    {
     "name": "stdout",
     "output_type": "stream",
     "text": [
      "Columna: NÚMERO  -  Tipo de datos: object\n",
      "Número de valores nulos: 4  -  Número de valores distintos: 604\n",
      "Valores más frecuentes:\n",
      "- \t 28523\n",
      "1 \t 1489\n",
      "2 \t 1077\n",
      "3 \t 701\n",
      "4 \t 642\n",
      "0 \t 519\n",
      "7 \t 494\n",
      "5 \t 448\n",
      "8 \t 421\n",
      "6 \t 388\n"
     ]
    }
   ],
   "source": [
    "describe_columna(accidentes_raw, 'NÚMERO')"
   ]
  },
  {
   "cell_type": "markdown",
   "metadata": {},
   "source": [
    "Podría parecer una buena idea convertir el campo \"NÚMERO\" a un tipo numérico, pero comprobemos primero cuantos valores se podrían convertir..."
   ]
  },
  {
   "cell_type": "code",
   "execution_count": 14,
   "metadata": {},
   "outputs": [
    {
     "data": {
      "text/plain": [
       "False    29306\n",
       "True     22496\n",
       "Name: NÚMERO, dtype: int64"
      ]
     },
     "execution_count": 14,
     "metadata": {},
     "output_type": "execute_result"
    }
   ],
   "source": [
    "# isnumeric() nos indica si un valor se puede trasformar en un tipo numérico o no\n",
    "accidentes_raw['NÚMERO'].str.isnumeric().value_counts()"
   ]
  },
  {
   "cell_type": "markdown",
   "metadata": {},
   "source": [
    "29.306 valores no se pueden convertir a números, mas del 50% del total. Comprobemos qué contienen esos campos"
   ]
  },
  {
   "cell_type": "code",
   "execution_count": 15,
   "metadata": {},
   "outputs": [
    {
     "data": {
      "text/plain": [
       "-        28523\n",
       " 1A         68\n",
       " 5A         35\n",
       " 2A         30\n",
       " 259A       19\n",
       "         ...  \n",
       " 200A        1\n",
       "2O           1\n",
       " T-3         1\n",
       " 7D          1\n",
       " 8B          1\n",
       "Name: NÚMERO, Length: 161, dtype: int64"
      ]
     },
     "execution_count": 15,
     "metadata": {},
     "output_type": "execute_result"
    }
   ],
   "source": [
    "# Seleccionamos los registros de accidentes_raw para los que isnumeric() del campo \"NÚMERO\" es falso,\n",
    "# nos quedamos con ese campo, y contamos los valores que más se repiten\n",
    "accidentes_raw[accidentes_raw['NÚMERO'].str.isnumeric() == False]['NÚMERO'].value_counts()"
   ]
  },
  {
   "cell_type": "markdown",
   "metadata": {},
   "source": [
    "Vemos que, aunque el campo se llama \"NÚMERO\", contiene valores que son cadenas de texto. También vemos ahí que hay un valor muy frecuente, el caracter \"-\", que se utiliza para indicar que no hay información disponible (no tiene ningún significado adicional). Siempre es conveniente normalizar los valores correspondientes a la falta de datos, y en este caso, la mejor manera de hacerlo es utilizar el mecanismo estándar de Pandas para marcar datos faltantes, los valores NaN"
   ]
  },
  {
   "cell_type": "code",
   "execution_count": 16,
   "metadata": {},
   "outputs": [],
   "source": [
    "accidentes['Número'] = accidentes_raw['NÚMERO']\n",
    "accidentes.loc[accidentes['Número'] == '-', 'Número'] = np.NaN"
   ]
  },
  {
   "cell_type": "markdown",
   "metadata": {},
   "source": [
    "Siguiente campo..."
   ]
  },
  {
   "cell_type": "code",
   "execution_count": 17,
   "metadata": {},
   "outputs": [
    {
     "name": "stdout",
     "output_type": "stream",
     "text": [
      "Columna: DISTRITO  -  Tipo de datos: object\n",
      "Número de valores nulos: 5  -  Número de valores distintos: 21\n",
      "Valores más frecuentes:\n",
      "SALAMANCA \t 4078\n",
      "PUENTE DE VALLECAS \t 4063\n",
      "CHAMARTÍN \t 3891\n",
      "CARABANCHEL \t 3365\n",
      "CIUDAD LINEAL \t 3362\n",
      "SAN BLAS-CANILLEJAS \t 2797\n",
      "CENTRO \t 2752\n",
      "MONCLOA-ARAVACA \t 2688\n",
      "CHAMBERÍ \t 2680\n",
      "RETIRO \t 2671\n"
     ]
    }
   ],
   "source": [
    "describe_columna(accidentes_raw, 'DISTRITO')"
   ]
  },
  {
   "cell_type": "markdown",
   "metadata": {},
   "source": [
    "Como el número de valores únicos de este campo es pequeño, y además los valores posibles están limitados (no hay en Madrid más distritos que esos, cualquier otro valor no debería aceptarse), conviene convertir el valor a tipo \"category\", ya que esto reduce el almacenamiento necesario, acelera los cálculos y facilita el análisis"
   ]
  },
  {
   "cell_type": "code",
   "execution_count": 18,
   "metadata": {},
   "outputs": [],
   "source": [
    "accidentes['Distrito'] = accidentes_raw['DISTRITO'].astype('category')"
   ]
  },
  {
   "cell_type": "markdown",
   "metadata": {},
   "source": [
    "Los siguientes cinco campos presentan casos similares al caso de \"DISTRITO\", y se tratan de la misma manera"
   ]
  },
  {
   "cell_type": "code",
   "execution_count": 19,
   "metadata": {},
   "outputs": [
    {
     "name": "stdout",
     "output_type": "stream",
     "text": [
      "Columna: ESTADO METEREOLÓGICO  -  Tipo de datos: object\n",
      "Número de valores nulos: 5132  -  Número de valores distintos: 7\n",
      "Valores más frecuentes:\n",
      "Despejado \t 39984\n",
      "Lluvia débil \t 3465\n",
      "Nublado \t 1862\n",
      "Se desconoce \t 695\n",
      "LLuvia intensa \t 652\n",
      "Granizando \t 14\n",
      "Nevando \t 2\n",
      "\n",
      "Columna: TIPO VEHÍCULO  -  Tipo de datos: object\n",
      "Número de valores nulos: 178  -  Número de valores distintos: 29\n",
      "Valores más frecuentes:\n",
      "Turismo \t 36499\n",
      "Motocicleta > 125cc \t 3527\n",
      "Furgoneta \t 3125\n",
      "Motocicleta hasta 125cc \t 2529\n",
      "Autobús \t 1408\n",
      "Camión rígido \t 1167\n",
      "Bicicleta \t 884\n",
      "Ciclomotor \t 809\n",
      "Todo terreno \t 689\n",
      "Otros vehículos con motor \t 330\n",
      "\n",
      "Columna: TIPO PERSONA  -  Tipo de datos: object\n",
      "Número de valores nulos: 25  -  Número de valores distintos: 3\n",
      "Valores más frecuentes:\n",
      "Conductor \t 41604\n",
      "Pasajero \t 8357\n",
      "Peatón \t 1820\n",
      "\n",
      "Columna: RANGO EDAD  -  Tipo de datos: object\n",
      "Número de valores nulos: 0  -  Número de valores distintos: 18\n",
      "Valores más frecuentes:\n",
      "DE 40 A 44 AÑOS \t 5736\n",
      "DE 25 A 29 AÑOS \t 5610\n",
      "DE 35 A 39 AÑOS \t 5573\n",
      "DE 30 A 34 AÑOS \t 5463\n",
      "DESCONOCIDA \t 5333\n",
      "DE 45 A 49 AÑOS \t 4955\n",
      "DE 50 A 54 AÑOS \t 4258\n",
      "DE 21 A 24 AÑOS \t 3350\n",
      "DE 55 A 59 AÑOS \t 3265\n",
      "DE 60 A 64 AÑOS \t 2036\n",
      "\n",
      "Columna: SEXO  -  Tipo de datos: object\n",
      "Número de valores nulos: 5050  -  Número de valores distintos: 2\n",
      "Valores más frecuentes:\n",
      "Hombre \t 31466\n",
      "Mujer \t 15290\n",
      "\n"
     ]
    }
   ],
   "source": [
    "for col in accidentes_raw.columns[7:12].to_list():\n",
    "    describe_columna(accidentes_raw, col)\n",
    "    print()"
   ]
  },
  {
   "cell_type": "code",
   "execution_count": 20,
   "metadata": {},
   "outputs": [],
   "source": [
    "for col in accidentes_raw.columns[7:12].to_list():\n",
    "    accidentes[col.capitalize()] = accidentes_raw[col].astype('category')\n",
    "\n",
    "accidentes.loc[accidentes['Estado metereológico'] == 'Se desconoce', 'Estado metereológico'] = np.NaN\n",
    "\n",
    "accidentes.loc[accidentes['Rango edad'] == 'DESCONOCIDA', 'Rango edad'] = np.NaN"
   ]
  },
  {
   "cell_type": "markdown",
   "metadata": {},
   "source": [
    "Un detalle sobre el campo \"Rango edad\": cuando los valores de un campo categórico tienen un orden natural, como en este caso, conviene representarlos mediante un tipo de datos categórico ordenado, porque esto facilita el análisis, permite hacer intervalos, hace que los gráficos salgan ordenados automáticamente, etc. En este caso, el orden automático que se asigna a las categorías, que es el alfabético, no coincide con el orden real, así que hay que asignarlo manualmente"
   ]
  },
  {
   "cell_type": "code",
   "execution_count": 21,
   "metadata": {},
   "outputs": [],
   "source": [
    "rangos_edad = pd.CategoricalDtype(\n",
    "    ['DE 0 A 5 AÑOS', 'DE 6 A 9 AÑOS', 'DE 10 A 14 AÑOS', 'DE 15 A 17 AÑOS',\n",
    "     'DE 18 A 20 AÑOS', 'DE 21 A 24 AÑOS', 'DE 25 A 29 AÑOS', 'DE 30 A 34 AÑOS', \n",
    "     'DE 35 A 39 AÑOS', 'DE 40 A 44 AÑOS', 'DE 45 A 49 AÑOS', 'DE 50 A 54 AÑOS',\n",
    "     'DE 55 A 59 AÑOS', 'DE 60 A 64 AÑOS', 'DE 65 A 69 AÑOS', 'DE 70 A 74 AÑOS', \n",
    "     'MAYOR DE 74 AÑOS'],\n",
    "    ordered=True)\n",
    "\n",
    "accidentes['Rango edad'] = accidentes['Rango edad'].astype(rangos_edad)"
   ]
  },
  {
   "cell_type": "markdown",
   "metadata": {},
   "source": [
    "Última columna..."
   ]
  },
  {
   "cell_type": "code",
   "execution_count": 22,
   "metadata": {},
   "outputs": [
    {
     "name": "stdout",
     "output_type": "stream",
     "text": [
      "Columna: LESIVIDAD*  -  Tipo de datos: float64\n",
      "Número de valores nulos: 21776  -  Número de valores distintos: 9\n",
      "Valores más frecuentes:\n",
      "14.0 \t 16599\n",
      "7.0 \t 7110\n",
      "2.0 \t 2157\n",
      "6.0 \t 1555\n",
      "1.0 \t 1320\n",
      "5.0 \t 715\n",
      "3.0 \t 539\n",
      "4.0 \t 34\n",
      "77.0 \t 1\n"
     ]
    }
   ],
   "source": [
    "describe_columna(accidentes_raw, 'LESIVIDAD*')"
   ]
  },
  {
   "cell_type": "markdown",
   "metadata": {},
   "source": [
    "El campo \"LESIVIDAD*\" presenta un caso interesante: los valores están codificados, y la clave para entenderlos está en el documento de explicación de los datos. Allí se describen los valores de esta manera:\n",
    "\n",
    "LESIVIDAD | Descripción\n",
    "--- | --- \n",
    "01        |  Atención en urgencias sin posterior ingreso. - LEVE\n",
    "02        |  Ingreso inferior o igual a 24 horas - LEVE \n",
    "03        |  Ingreso superior a 24 horas. - GRAVE\n",
    "04        |  Fallecido 24 horas - FALLECIDO\n",
    "05        |  Asistencia sanitaria ambulatoria con posterioridad - LEVE\n",
    "06        |  Asistencia sanitaria inmediata en centro de salud o mutua - LEVE\n",
    "07        |  Asistencia sanitaria sólo en el lugar del accidente - LEVE\n",
    "14        |  Sin asistencia sanitaria\n",
    "77        |  Se desconoce\n",
    "En blanco |  Sin asistencia sanitaria"
   ]
  },
  {
   "cell_type": "markdown",
   "metadata": {},
   "source": [
    "Para normalizar, en primer lugar podemos asignar los valores en blanco (leidos con NaN en accidentes_raw) a la categoría 14, y los valores de la categoría 77 asignarlos como NaN, que es la manera de representar datos faltantes o desconocidos. Adicionalmente, para tener accesible la información de la gravedad de las lesiones, que está codificada de manera oculta en las distintas categorías de lesividad, podemos crear un campo adicional con esos valores, que además puede ser una categoría ordenada con las ventajas que eso tiene."
   ]
  },
  {
   "cell_type": "code",
   "execution_count": 23,
   "metadata": {},
   "outputs": [],
   "source": [
    "accidentes['Lesividad'] = accidentes_raw['LESIVIDAD*']"
   ]
  },
  {
   "cell_type": "code",
   "execution_count": 24,
   "metadata": {},
   "outputs": [],
   "source": [
    "accidentes.loc[accidentes['Lesividad'].isnull(), 'Lesividad']  = 14\n",
    "accidentes.loc[accidentes['Lesividad'] == 77, 'Lesividad'] = np.NaN"
   ]
  },
  {
   "cell_type": "code",
   "execution_count": 25,
   "metadata": {},
   "outputs": [],
   "source": [
    "# Definición del tipo categórico para los grados de gravedad\n",
    "grados_gravedad = pd.CategoricalDtype(['Ileso', 'Leve', 'Grave', 'Fallecido'], ordered=True)\n",
    "\n",
    "# Definimos un diccionario que mapee los valores del Lesividad con los de Gravedad\n",
    "# Por comodidad, no incluimos los valores correspondientes a 'Leve', sino que se utiliza ese como valor por defecto\n",
    "dict_gravedad = {14: 'Ileso', 3: 'Grave', 4: 'Fallecido'} \n",
    "\n",
    "# Generamos un nuevo campo 'Gavedad' calculando el valor que corresponde al grado de Lesividad\n",
    "# de cada caso, y convirtiendolo al tipo categórico ordenado 'grados_gravedad'\n",
    "accidentes['Gravedad'] = accidentes['Lesividad'].apply(\n",
    "    lambda x: dict_gravedad.get(x,'Leve')).astype(grados_gravedad)"
   ]
  },
  {
   "cell_type": "markdown",
   "metadata": {},
   "source": [
    "## Comprobación y análisis"
   ]
  },
  {
   "cell_type": "markdown",
   "metadata": {},
   "source": [
    "Una vez limpiados los datos, podemos comprobar el dataframe generado..."
   ]
  },
  {
   "cell_type": "code",
   "execution_count": 26,
   "metadata": {},
   "outputs": [
    {
     "name": "stdout",
     "output_type": "stream",
     "text": [
      "<class 'pandas.core.frame.DataFrame'>\n",
      "RangeIndex: 51806 entries, 0 to 51805\n",
      "Data columns (total 12 columns):\n",
      " #   Column                Non-Null Count  Dtype         \n",
      "---  ------                --------------  -----         \n",
      " 0   Nº Expediente         51806 non-null  object        \n",
      " 1   Fecha                 51806 non-null  datetime64[ns]\n",
      " 2   Calle                 51806 non-null  object        \n",
      " 3   Número                23279 non-null  object        \n",
      " 4   Distrito              51801 non-null  category      \n",
      " 5   Estado metereológico  45979 non-null  category      \n",
      " 6   Tipo vehículo         51628 non-null  category      \n",
      " 7   Tipo persona          51781 non-null  category      \n",
      " 8   Rango edad            46473 non-null  category      \n",
      " 9   Sexo                  46756 non-null  category      \n",
      " 10  Lesividad             51805 non-null  float64       \n",
      " 11  Gravedad              51806 non-null  category      \n",
      "dtypes: category(7), datetime64[ns](1), float64(1), object(3)\n",
      "memory usage: 2.3+ MB\n"
     ]
    }
   ],
   "source": [
    "accidentes.info()"
   ]
  },
  {
   "cell_type": "markdown",
   "metadata": {},
   "source": [
    "... y proceder al análisis exploratorio (por ejemplo, haciendo sumarizaciones o realizando gráficos que nos permitan entender mejor los datos)"
   ]
  },
  {
   "cell_type": "code",
   "execution_count": 27,
   "metadata": {},
   "outputs": [],
   "source": [
    "top10_vehiculos = accidentes['Tipo vehículo'].value_counts()[:10].index.tolist()"
   ]
  },
  {
   "cell_type": "code",
   "execution_count": 28,
   "metadata": {},
   "outputs": [
    {
     "data": {
      "text/html": [
       "<div>\n",
       "<style scoped>\n",
       "    .dataframe tbody tr th:only-of-type {\n",
       "        vertical-align: middle;\n",
       "    }\n",
       "\n",
       "    .dataframe tbody tr th {\n",
       "        vertical-align: top;\n",
       "    }\n",
       "\n",
       "    .dataframe thead th {\n",
       "        text-align: right;\n",
       "    }\n",
       "</style>\n",
       "<table border=\"1\" class=\"dataframe\">\n",
       "  <thead>\n",
       "    <tr style=\"text-align: right;\">\n",
       "      <th>Tipo persona</th>\n",
       "      <th>Conductor</th>\n",
       "      <th>Pasajero</th>\n",
       "      <th>Peatón</th>\n",
       "    </tr>\n",
       "    <tr>\n",
       "      <th>Tipo vehículo</th>\n",
       "      <th></th>\n",
       "      <th></th>\n",
       "      <th></th>\n",
       "    </tr>\n",
       "  </thead>\n",
       "  <tbody>\n",
       "    <tr>\n",
       "      <th>Turismo</th>\n",
       "      <td>28523</td>\n",
       "      <td>6734</td>\n",
       "      <td>1224</td>\n",
       "    </tr>\n",
       "    <tr>\n",
       "      <th>Motocicleta &gt; 125cc</th>\n",
       "      <td>3179</td>\n",
       "      <td>232</td>\n",
       "      <td>115</td>\n",
       "    </tr>\n",
       "    <tr>\n",
       "      <th>Furgoneta</th>\n",
       "      <td>2616</td>\n",
       "      <td>371</td>\n",
       "      <td>135</td>\n",
       "    </tr>\n",
       "    <tr>\n",
       "      <th>Motocicleta hasta 125cc</th>\n",
       "      <td>2282</td>\n",
       "      <td>166</td>\n",
       "      <td>80</td>\n",
       "    </tr>\n",
       "    <tr>\n",
       "      <th>Autobús</th>\n",
       "      <td>893</td>\n",
       "      <td>467</td>\n",
       "      <td>47</td>\n",
       "    </tr>\n",
       "    <tr>\n",
       "      <th>Camión rígido</th>\n",
       "      <td>1040</td>\n",
       "      <td>98</td>\n",
       "      <td>29</td>\n",
       "    </tr>\n",
       "    <tr>\n",
       "      <th>Bicicleta</th>\n",
       "      <td>800</td>\n",
       "      <td>5</td>\n",
       "      <td>79</td>\n",
       "    </tr>\n",
       "    <tr>\n",
       "      <th>Ciclomotor</th>\n",
       "      <td>726</td>\n",
       "      <td>64</td>\n",
       "      <td>18</td>\n",
       "    </tr>\n",
       "    <tr>\n",
       "      <th>Todo terreno</th>\n",
       "      <td>539</td>\n",
       "      <td>120</td>\n",
       "      <td>30</td>\n",
       "    </tr>\n",
       "    <tr>\n",
       "      <th>Otros vehículos con motor</th>\n",
       "      <td>283</td>\n",
       "      <td>26</td>\n",
       "      <td>21</td>\n",
       "    </tr>\n",
       "  </tbody>\n",
       "</table>\n",
       "</div>"
      ],
      "text/plain": [
       "Tipo persona               Conductor  Pasajero  Peatón\n",
       "Tipo vehículo                                         \n",
       "Turismo                        28523      6734    1224\n",
       "Motocicleta > 125cc             3179       232     115\n",
       "Furgoneta                       2616       371     135\n",
       "Motocicleta hasta 125cc         2282       166      80\n",
       "Autobús                          893       467      47\n",
       "Camión rígido                   1040        98      29\n",
       "Bicicleta                        800         5      79\n",
       "Ciclomotor                       726        64      18\n",
       "Todo terreno                     539       120      30\n",
       "Otros vehículos con motor        283        26      21"
      ]
     },
     "execution_count": 28,
     "metadata": {},
     "output_type": "execute_result"
    }
   ],
   "source": [
    "# Número total de accidentados por tipo vehículo y rol del accidentado\n",
    "# Agrupamos los registros por los campos \"Tipo vehículo\" y \"Tipo persona\", seleccionamos el campo \"Nº Expediente\",\n",
    "# contamos el número de registros en cada grupo, ponemos los datos en forma de tabla cruzada y filtramos la filas\n",
    "# para seleccionar solo las que corresponden a los 10 tipos de vehículo más frecuentes\n",
    "\n",
    "accidentes.groupby(['Tipo vehículo', 'Tipo persona'])['Nº Expediente'].count().unstack().loc[top10_vehiculos]"
   ]
  },
  {
   "cell_type": "code",
   "execution_count": 29,
   "metadata": {},
   "outputs": [
    {
     "data": {
      "text/html": [
       "<style  type=\"text/css\" >\n",
       "</style><table id=\"T_f7dc8_\" ><thead>    <tr>        <th class=\"index_name level0\" >Sexo</th>        <th class=\"col_heading level0 col0\" >Hombre</th>        <th class=\"col_heading level0 col1\" >Mujer</th>    </tr>    <tr>        <th class=\"index_name level0\" >Tipo vehículo</th>        <th class=\"blank\" ></th>        <th class=\"blank\" ></th>    </tr></thead><tbody>\n",
       "                <tr>\n",
       "                        <th id=\"T_f7dc8_level0_row0\" class=\"row_heading level0 row0\" >Turismo</th>\n",
       "                        <td id=\"T_f7dc8_row0_col0\" class=\"data row0 col0\" >61.5%</td>\n",
       "                        <td id=\"T_f7dc8_row0_col1\" class=\"data row0 col1\" >38.5%</td>\n",
       "            </tr>\n",
       "            <tr>\n",
       "                        <th id=\"T_f7dc8_level0_row1\" class=\"row_heading level0 row1\" >Motocicleta > 125cc</th>\n",
       "                        <td id=\"T_f7dc8_row1_col0\" class=\"data row1 col0\" >84.0%</td>\n",
       "                        <td id=\"T_f7dc8_row1_col1\" class=\"data row1 col1\" >16.0%</td>\n",
       "            </tr>\n",
       "            <tr>\n",
       "                        <th id=\"T_f7dc8_level0_row2\" class=\"row_heading level0 row2\" >Furgoneta</th>\n",
       "                        <td id=\"T_f7dc8_row2_col0\" class=\"data row2 col0\" >85.7%</td>\n",
       "                        <td id=\"T_f7dc8_row2_col1\" class=\"data row2 col1\" >14.3%</td>\n",
       "            </tr>\n",
       "            <tr>\n",
       "                        <th id=\"T_f7dc8_level0_row3\" class=\"row_heading level0 row3\" >Motocicleta hasta 125cc</th>\n",
       "                        <td id=\"T_f7dc8_row3_col0\" class=\"data row3 col0\" >77.0%</td>\n",
       "                        <td id=\"T_f7dc8_row3_col1\" class=\"data row3 col1\" >23.0%</td>\n",
       "            </tr>\n",
       "            <tr>\n",
       "                        <th id=\"T_f7dc8_level0_row4\" class=\"row_heading level0 row4\" >Autobús</th>\n",
       "                        <td id=\"T_f7dc8_row4_col0\" class=\"data row4 col0\" >69.1%</td>\n",
       "                        <td id=\"T_f7dc8_row4_col1\" class=\"data row4 col1\" >30.9%</td>\n",
       "            </tr>\n",
       "            <tr>\n",
       "                        <th id=\"T_f7dc8_level0_row5\" class=\"row_heading level0 row5\" >Camión rígido</th>\n",
       "                        <td id=\"T_f7dc8_row5_col0\" class=\"data row5 col0\" >94.6%</td>\n",
       "                        <td id=\"T_f7dc8_row5_col1\" class=\"data row5 col1\" >5.4%</td>\n",
       "            </tr>\n",
       "            <tr>\n",
       "                        <th id=\"T_f7dc8_level0_row6\" class=\"row_heading level0 row6\" >Bicicleta</th>\n",
       "                        <td id=\"T_f7dc8_row6_col0\" class=\"data row6 col0\" >74.3%</td>\n",
       "                        <td id=\"T_f7dc8_row6_col1\" class=\"data row6 col1\" >25.7%</td>\n",
       "            </tr>\n",
       "            <tr>\n",
       "                        <th id=\"T_f7dc8_level0_row7\" class=\"row_heading level0 row7\" >Ciclomotor</th>\n",
       "                        <td id=\"T_f7dc8_row7_col0\" class=\"data row7 col0\" >75.0%</td>\n",
       "                        <td id=\"T_f7dc8_row7_col1\" class=\"data row7 col1\" >25.0%</td>\n",
       "            </tr>\n",
       "            <tr>\n",
       "                        <th id=\"T_f7dc8_level0_row8\" class=\"row_heading level0 row8\" >Todo terreno</th>\n",
       "                        <td id=\"T_f7dc8_row8_col0\" class=\"data row8 col0\" >66.6%</td>\n",
       "                        <td id=\"T_f7dc8_row8_col1\" class=\"data row8 col1\" >33.4%</td>\n",
       "            </tr>\n",
       "            <tr>\n",
       "                        <th id=\"T_f7dc8_level0_row9\" class=\"row_heading level0 row9\" >Otros vehículos con motor</th>\n",
       "                        <td id=\"T_f7dc8_row9_col0\" class=\"data row9 col0\" >71.0%</td>\n",
       "                        <td id=\"T_f7dc8_row9_col1\" class=\"data row9 col1\" >29.0%</td>\n",
       "            </tr>\n",
       "    </tbody></table>"
      ],
      "text/plain": [
       "<pandas.io.formats.style.Styler at 0x24af41a4d00>"
      ]
     },
     "execution_count": 29,
     "metadata": {},
     "output_type": "execute_result"
    }
   ],
   "source": [
    "# Porcentaje de accidentados por tipo vehículo y sexo\n",
    "# Primero hacemos una selección similar a la del punto anterior, y a continuación, mediate la función apply,\n",
    "# calculamos la división de cada valor por la suma de valores de esa fila, y lo mostramos formateado como porcentaje\n",
    "\n",
    "acc_por_sexo = accidentes.groupby(['Tipo vehículo', 'Sexo'])['Nº Expediente'].count().unstack().loc[top10_vehiculos]\n",
    "\n",
    "acc_por_sexo.apply(lambda x: x/x.sum(), axis=1).style.format(\"{:.1%}\")"
   ]
  },
  {
   "cell_type": "code",
   "execution_count": 30,
   "metadata": {},
   "outputs": [
    {
     "data": {
      "text/html": [
       "\n",
       "<div id=\"altair-viz-1c593c7b82d0428bb8d99eda407ebd87\"></div>\n",
       "<script type=\"text/javascript\">\n",
       "  (function(spec, embedOpt){\n",
       "    const outputDiv = document.getElementById(\"altair-viz-1c593c7b82d0428bb8d99eda407ebd87\");\n",
       "    const paths = {\n",
       "      \"vega\": \"https://cdn.jsdelivr.net/npm//vega@5?noext\",\n",
       "      \"vega-lib\": \"https://cdn.jsdelivr.net/npm//vega-lib?noext\",\n",
       "      \"vega-lite\": \"https://cdn.jsdelivr.net/npm//vega-lite@4.0.2?noext\",\n",
       "      \"vega-embed\": \"https://cdn.jsdelivr.net/npm//vega-embed@6?noext\",\n",
       "    };\n",
       "\n",
       "    function loadScript(lib) {\n",
       "      return new Promise(function(resolve, reject) {\n",
       "        var s = document.createElement('script');\n",
       "        s.src = paths[lib];\n",
       "        s.async = true;\n",
       "        s.onload = () => resolve(paths[lib]);\n",
       "        s.onerror = () => reject(`Error loading script: ${paths[lib]}`);\n",
       "        document.getElementsByTagName(\"head\")[0].appendChild(s);\n",
       "      });\n",
       "    }\n",
       "\n",
       "    function showError(err) {\n",
       "      outputDiv.innerHTML = `<div class=\"error\" style=\"color:red;\">${err}</div>`;\n",
       "      throw err;\n",
       "    }\n",
       "\n",
       "    function displayChart(vegaEmbed) {\n",
       "      vegaEmbed(outputDiv, spec, embedOpt)\n",
       "        .catch(err => showError(`Javascript Error: ${err.message}<br>This usually means there's a typo in your chart specification. See the javascript console for the full traceback.`));\n",
       "    }\n",
       "\n",
       "    if(typeof define === \"function\" && define.amd) {\n",
       "      requirejs.config({paths});\n",
       "      require([\"vega-embed\"], displayChart, err => showError(`Error loading script: ${err.message}`));\n",
       "    } else if (typeof vegaEmbed === \"function\") {\n",
       "      displayChart(vegaEmbed);\n",
       "    } else {\n",
       "      loadScript(\"vega\")\n",
       "        .then(() => loadScript(\"vega-lite\"))\n",
       "        .then(() => loadScript(\"vega-embed\"))\n",
       "        .catch(showError)\n",
       "        .then(() => displayChart(vegaEmbed));\n",
       "    }\n",
       "  })({\"config\": {\"view\": {\"continuousWidth\": 400, \"continuousHeight\": 300}}, \"data\": {\"name\": \"data-e817849fd0ba929f283acc18128d2816\"}, \"mark\": \"bar\", \"encoding\": {\"facet\": {\"type\": \"nominal\", \"field\": \"Sexo\", \"title\": null}, \"x\": {\"type\": \"ordinal\", \"field\": \"Rango edad\", \"sort\": [\"DE 0 A 5 A\\u00d1OS\", \"DE 6 A 9 A\\u00d1OS\", \"DE 10 A 14 A\\u00d1OS\", \"DE 15 A 17 A\\u00d1OS\", \"DE 18 A 20 A\\u00d1OS\", \"DE 21 A 24 A\\u00d1OS\", \"DE 25 A 29 A\\u00d1OS\", \"DE 30 A 34 A\\u00d1OS\", \"DE 35 A 39 A\\u00d1OS\", \"DE 40 A 44 A\\u00d1OS\", \"DE 45 A 49 A\\u00d1OS\", \"DE 50 A 54 A\\u00d1OS\", \"DE 55 A 59 A\\u00d1OS\", \"DE 60 A 64 A\\u00d1OS\", \"DE 65 A 69 A\\u00d1OS\", \"DE 70 A 74 A\\u00d1OS\", \"MAYOR DE 74 A\\u00d1OS\"], \"title\": null}, \"y\": {\"type\": \"quantitative\", \"field\": \"N\\u00ba Expediente\", \"title\": \"Numero de implicados\"}}, \"height\": 200, \"title\": \"Accidentes en Madrid durante 2019\", \"width\": 600, \"$schema\": \"https://vega.github.io/schema/vega-lite/v4.0.2.json\", \"datasets\": {\"data-e817849fd0ba929f283acc18128d2816\": [{\"Rango edad\": \"DE 0 A 5 A\\u00d1OS\", \"Sexo\": \"Hombre\", \"N\\u00ba Expediente\": 283}, {\"Rango edad\": \"DE 0 A 5 A\\u00d1OS\", \"Sexo\": \"Mujer\", \"N\\u00ba Expediente\": 237}, {\"Rango edad\": \"DE 6 A 9 A\\u00d1OS\", \"Sexo\": \"Hombre\", \"N\\u00ba Expediente\": 191}, {\"Rango edad\": \"DE 6 A 9 A\\u00d1OS\", \"Sexo\": \"Mujer\", \"N\\u00ba Expediente\": 184}, {\"Rango edad\": \"DE 10 A 14 A\\u00d1OS\", \"Sexo\": \"Hombre\", \"N\\u00ba Expediente\": 242}, {\"Rango edad\": \"DE 10 A 14 A\\u00d1OS\", \"Sexo\": \"Mujer\", \"N\\u00ba Expediente\": 251}, {\"Rango edad\": \"DE 15 A 17 A\\u00d1OS\", \"Sexo\": \"Hombre\", \"N\\u00ba Expediente\": 185}, {\"Rango edad\": \"DE 15 A 17 A\\u00d1OS\", \"Sexo\": \"Mujer\", \"N\\u00ba Expediente\": 159}, {\"Rango edad\": \"DE 18 A 20 A\\u00d1OS\", \"Sexo\": \"Hombre\", \"N\\u00ba Expediente\": 991}, {\"Rango edad\": \"DE 18 A 20 A\\u00d1OS\", \"Sexo\": \"Mujer\", \"N\\u00ba Expediente\": 543}, {\"Rango edad\": \"DE 21 A 24 A\\u00d1OS\", \"Sexo\": \"Hombre\", \"N\\u00ba Expediente\": 2258}, {\"Rango edad\": \"DE 21 A 24 A\\u00d1OS\", \"Sexo\": \"Mujer\", \"N\\u00ba Expediente\": 1092}, {\"Rango edad\": \"DE 25 A 29 A\\u00d1OS\", \"Sexo\": \"Hombre\", \"N\\u00ba Expediente\": 3620}, {\"Rango edad\": \"DE 25 A 29 A\\u00d1OS\", \"Sexo\": \"Mujer\", \"N\\u00ba Expediente\": 1989}, {\"Rango edad\": \"DE 30 A 34 A\\u00d1OS\", \"Sexo\": \"Hombre\", \"N\\u00ba Expediente\": 3637}, {\"Rango edad\": \"DE 30 A 34 A\\u00d1OS\", \"Sexo\": \"Mujer\", \"N\\u00ba Expediente\": 1825}, {\"Rango edad\": \"DE 35 A 39 A\\u00d1OS\", \"Sexo\": \"Hombre\", \"N\\u00ba Expediente\": 3829}, {\"Rango edad\": \"DE 35 A 39 A\\u00d1OS\", \"Sexo\": \"Mujer\", \"N\\u00ba Expediente\": 1744}, {\"Rango edad\": \"DE 40 A 44 A\\u00d1OS\", \"Sexo\": \"Hombre\", \"N\\u00ba Expediente\": 4022}, {\"Rango edad\": \"DE 40 A 44 A\\u00d1OS\", \"Sexo\": \"Mujer\", \"N\\u00ba Expediente\": 1714}, {\"Rango edad\": \"DE 45 A 49 A\\u00d1OS\", \"Sexo\": \"Hombre\", \"N\\u00ba Expediente\": 3381}, {\"Rango edad\": \"DE 45 A 49 A\\u00d1OS\", \"Sexo\": \"Mujer\", \"N\\u00ba Expediente\": 1574}, {\"Rango edad\": \"DE 50 A 54 A\\u00d1OS\", \"Sexo\": \"Hombre\", \"N\\u00ba Expediente\": 3014}, {\"Rango edad\": \"DE 50 A 54 A\\u00d1OS\", \"Sexo\": \"Mujer\", \"N\\u00ba Expediente\": 1244}, {\"Rango edad\": \"DE 55 A 59 A\\u00d1OS\", \"Sexo\": \"Hombre\", \"N\\u00ba Expediente\": 2350}, {\"Rango edad\": \"DE 55 A 59 A\\u00d1OS\", \"Sexo\": \"Mujer\", \"N\\u00ba Expediente\": 915}, {\"Rango edad\": \"DE 60 A 64 A\\u00d1OS\", \"Sexo\": \"Hombre\", \"N\\u00ba Expediente\": 1443}, {\"Rango edad\": \"DE 60 A 64 A\\u00d1OS\", \"Sexo\": \"Mujer\", \"N\\u00ba Expediente\": 593}, {\"Rango edad\": \"DE 65 A 69 A\\u00d1OS\", \"Sexo\": \"Hombre\", \"N\\u00ba Expediente\": 662}, {\"Rango edad\": \"DE 65 A 69 A\\u00d1OS\", \"Sexo\": \"Mujer\", \"N\\u00ba Expediente\": 372}, {\"Rango edad\": \"DE 70 A 74 A\\u00d1OS\", \"Sexo\": \"Hombre\", \"N\\u00ba Expediente\": 452}, {\"Rango edad\": \"DE 70 A 74 A\\u00d1OS\", \"Sexo\": \"Mujer\", \"N\\u00ba Expediente\": 278}, {\"Rango edad\": \"MAYOR DE 74 A\\u00d1OS\", \"Sexo\": \"Hombre\", \"N\\u00ba Expediente\": 707}, {\"Rango edad\": \"MAYOR DE 74 A\\u00d1OS\", \"Sexo\": \"Mujer\", \"N\\u00ba Expediente\": 489}]}}, {\"mode\": \"vega-lite\"});\n",
       "</script>"
      ],
      "text/plain": [
       "alt.Chart(...)"
      ]
     },
     "execution_count": 30,
     "metadata": {},
     "output_type": "execute_result"
    }
   ],
   "source": [
    "# Accidentados por sexo y rango de edad\n",
    "# Generamos los datos de la siguiente manera: agrupamos por rango de edad y sexo, seleccionamos el campo \"Nº Expediente\",\n",
    "# contamos el número de registros y reseteamos el índice \n",
    "# (esto último, para que los datos de \"Rango de edad\" y \"Sexo\" aparezcan como columnas del dataset, no como niveles del índice)\n",
    "data = accidentes.groupby(['Rango edad', 'Sexo'])['Nº Expediente'].count().reset_index()\n",
    "\n",
    "# Luego mostramos los datos en un trellis de gráficos de barras\n",
    "alt.Chart(data, width=600, height=200, title='Accidentes en Madrid durante 2019').mark_bar().encode(\n",
    "   x = alt.X('Rango edad:O', sort = rangos_edad.categories.to_list(), title = None),\n",
    "   y = alt.Y('Nº Expediente:Q', title = 'Numero de implicados'),\n",
    "   facet=alt.Facet('Sexo:N', title = None))"
   ]
  },
  {
   "cell_type": "code",
   "execution_count": 31,
   "metadata": {},
   "outputs": [
    {
     "data": {
      "text/html": [
       "\n",
       "<div id=\"altair-viz-69f3f58b073e44d08841428460e2cec5\"></div>\n",
       "<script type=\"text/javascript\">\n",
       "  (function(spec, embedOpt){\n",
       "    const outputDiv = document.getElementById(\"altair-viz-69f3f58b073e44d08841428460e2cec5\");\n",
       "    const paths = {\n",
       "      \"vega\": \"https://cdn.jsdelivr.net/npm//vega@5?noext\",\n",
       "      \"vega-lib\": \"https://cdn.jsdelivr.net/npm//vega-lib?noext\",\n",
       "      \"vega-lite\": \"https://cdn.jsdelivr.net/npm//vega-lite@4.0.2?noext\",\n",
       "      \"vega-embed\": \"https://cdn.jsdelivr.net/npm//vega-embed@6?noext\",\n",
       "    };\n",
       "\n",
       "    function loadScript(lib) {\n",
       "      return new Promise(function(resolve, reject) {\n",
       "        var s = document.createElement('script');\n",
       "        s.src = paths[lib];\n",
       "        s.async = true;\n",
       "        s.onload = () => resolve(paths[lib]);\n",
       "        s.onerror = () => reject(`Error loading script: ${paths[lib]}`);\n",
       "        document.getElementsByTagName(\"head\")[0].appendChild(s);\n",
       "      });\n",
       "    }\n",
       "\n",
       "    function showError(err) {\n",
       "      outputDiv.innerHTML = `<div class=\"error\" style=\"color:red;\">${err}</div>`;\n",
       "      throw err;\n",
       "    }\n",
       "\n",
       "    function displayChart(vegaEmbed) {\n",
       "      vegaEmbed(outputDiv, spec, embedOpt)\n",
       "        .catch(err => showError(`Javascript Error: ${err.message}<br>This usually means there's a typo in your chart specification. See the javascript console for the full traceback.`));\n",
       "    }\n",
       "\n",
       "    if(typeof define === \"function\" && define.amd) {\n",
       "      requirejs.config({paths});\n",
       "      require([\"vega-embed\"], displayChart, err => showError(`Error loading script: ${err.message}`));\n",
       "    } else if (typeof vegaEmbed === \"function\") {\n",
       "      displayChart(vegaEmbed);\n",
       "    } else {\n",
       "      loadScript(\"vega\")\n",
       "        .then(() => loadScript(\"vega-lite\"))\n",
       "        .then(() => loadScript(\"vega-embed\"))\n",
       "        .catch(showError)\n",
       "        .then(() => displayChart(vegaEmbed));\n",
       "    }\n",
       "  })({\"config\": {\"view\": {\"continuousWidth\": 400, \"continuousHeight\": 300}}, \"data\": {\"name\": \"data-118b85019255d845db0a5dd2352cb33b\"}, \"mark\": \"bar\", \"encoding\": {\"x\": {\"type\": \"nominal\", \"field\": \"Distrito\", \"sort\": \"-y\", \"title\": null}, \"y\": {\"type\": \"quantitative\", \"aggregate\": \"sum\", \"field\": \"N\\u00ba Expediente\", \"title\": \"Numero de accidentes\"}}, \"height\": 300, \"title\": \"Accidentes en Madrid durante 2019\", \"width\": 600, \"$schema\": \"https://vega.github.io/schema/vega-lite/v4.0.2.json\", \"datasets\": {\"data-118b85019255d845db0a5dd2352cb33b\": [{\"Distrito\": \"ARGANZUELA\", \"N\\u00ba Expediente\": 944}, {\"Distrito\": \"BARAJAS\", \"N\\u00ba Expediente\": 481}, {\"Distrito\": \"CARABANCHEL\", \"N\\u00ba Expediente\": 1346}, {\"Distrito\": \"CENTRO\", \"N\\u00ba Expediente\": 1320}, {\"Distrito\": \"CHAMART\\u00cdN\", \"N\\u00ba Expediente\": 1608}, {\"Distrito\": \"CHAMBER\\u00cd\", \"N\\u00ba Expediente\": 1209}, {\"Distrito\": \"CIUDAD LINEAL\", \"N\\u00ba Expediente\": 1343}, {\"Distrito\": \"FUENCARRAL-EL PARDO\", \"N\\u00ba Expediente\": 1111}, {\"Distrito\": \"HORTALEZA\", \"N\\u00ba Expediente\": 907}, {\"Distrito\": \"LATINA\", \"N\\u00ba Expediente\": 1063}, {\"Distrito\": \"MONCLOA-ARAVACA\", \"N\\u00ba Expediente\": 1192}, {\"Distrito\": \"MORATALAZ\", \"N\\u00ba Expediente\": 626}, {\"Distrito\": \"PUENTE DE VALLECAS\", \"N\\u00ba Expediente\": 1611}, {\"Distrito\": \"RETIRO\", \"N\\u00ba Expediente\": 1086}, {\"Distrito\": \"SALAMANCA\", \"N\\u00ba Expediente\": 1736}, {\"Distrito\": \"SAN BLAS-CANILLEJAS\", \"N\\u00ba Expediente\": 1107}, {\"Distrito\": \"TETU\\u00c1N\", \"N\\u00ba Expediente\": 1048}, {\"Distrito\": \"USERA\", \"N\\u00ba Expediente\": 742}, {\"Distrito\": \"VIC\\u00c1LVARO\", \"N\\u00ba Expediente\": 306}, {\"Distrito\": \"VILLA DE VALLECAS\", \"N\\u00ba Expediente\": 556}, {\"Distrito\": \"VILLAVERDE\", \"N\\u00ba Expediente\": 590}]}}, {\"mode\": \"vega-lite\"});\n",
       "</script>"
      ],
      "text/plain": [
       "alt.Chart(...)"
      ]
     },
     "execution_count": 31,
     "metadata": {},
     "output_type": "execute_result"
    }
   ],
   "source": [
    "# Accidentados por distrito\n",
    "# Generamos los datos de la siguiente manera: agrupamos por distrito, seleccionamos el campo \"Nº Expediente\",\n",
    "# contamos el número de registros únicos (para contar accidentes, no personas accidentadas) y reseteamos el índice \n",
    "# Luego mostramos los datos en un gráfico de barras sencillo (ordenando la coordenada X, o sea, los distritos,\n",
    "# en sentido inverso al valor de la coordenada Y, o sea, el número de accidentes)\n",
    "\n",
    "data = accidentes.groupby(['Distrito'])['Nº Expediente'].nunique().reset_index()\n",
    "\n",
    "alt.Chart(data, width=600, height=300, title='Accidentes en Madrid durante 2019').mark_bar().encode(\n",
    "    x = alt.X('Distrito:N', sort = '-y', title = None),\n",
    "    y = alt.Y('sum(Nº Expediente):Q', title = 'Numero de accidentes'))"
   ]
  },
  {
   "cell_type": "code",
   "execution_count": null,
   "metadata": {},
   "outputs": [],
   "source": []
  }
 ],
 "metadata": {
  "kernelspec": {
   "display_name": "Python 3",
   "language": "python",
   "name": "python3"
  },
  "language_info": {
   "codemirror_mode": {
    "name": "ipython",
    "version": 3
   },
   "file_extension": ".py",
   "mimetype": "text/x-python",
   "name": "python",
   "nbconvert_exporter": "python",
   "pygments_lexer": "ipython3",
   "version": "3.8.8"
  }
 },
 "nbformat": 4,
 "nbformat_minor": 4
}
