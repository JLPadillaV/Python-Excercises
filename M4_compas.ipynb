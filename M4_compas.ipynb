{
 "cells": [
  {
   "cell_type": "markdown",
   "metadata": {},
   "source": [
    "(tf-gpu) environment on anaconda"
   ]
  },
  {
   "cell_type": "markdown",
   "metadata": {},
   "source": [
    "___\n",
    "## JOSÉ LUIS PADILLA VALENZUELA\n",
    "#### MODULO 4 La ciencia de datos. Técnicas de análisis, minería y visualización\n",
    "#### EVALUACIÓN FINAL\n",
    "___\n",
    "### CONTEXTO\n",
    "\n",
    "Cada día es más frecuente la introducción de la ciencia de datos en el ámbito del derecho y la justicia. Un ejemplo bien conocido de ello es el sistema COMPAS (Correctional offender management profiling for alternative sanctions) que se usa en varios estados de los Estados Unidos para hacer una evaluación del riesgo de reincidencia de las personas detenidas.\n",
    "\n",
    "En este caso, proporciona un conjunto de datos en bruto con información de las evaluaciones (fichero compas-scores.csv) y la historia legal de unos 11.000 casos en los años 2013 y 2014 (se trata de uno de los ficheros originales utilizados en un análisis independiente del sistema COMPAS llevado a cabo por ProPublica, disponible en internet).\n",
    "\n",
    "Aunque el conjunto de datos contiene información adicional, para resolver las cuestiones planteadas en este caso son necesarios (aparte de algunos campos cuyo nombre es autoexplicativo) los siguientes campos:\n",
    "\n",
    "   compas_screening_date”  = FECHA en la que se realizó la EVALUACION\n",
    "   decile_score            = RIESGO DE REINCIDENCIA EN GENERAL de 1 a 10 (a mayor riesgo, mayor número).\n",
    "    v_decile_score          = RIESGO DE REINCIDENCIA EN DELITOS VIOLENTOS (potencialmente distinto del anterior), de 1 a 10 (a mayor riesgo, mayor número).\n",
    "    is_recid                = PERSONA REINCIDENTE.\n",
    "    r_offense_date          = FECHA en la que se cometió el DELITO por el que se considera REINCIDENTE.\n",
    "    is_violent_recid        = REINCIDENTE EN UN DELITO CON VIOLENCIA.\n",
    "    vr_offense_date         = FECHA DEL DELITO VIOLENTO.\n",
    "\n",
    "### Se pide:\n",
    "\n",
    "1- Cargar los datos y realizar un análisis exploratorio y una evaluación de la calidad de los datos necesarios para el resto del caso. Específicamente, evaluar la integridad, validez y actualidad de los datos y proponer estrategias de mitigación de los posibles problemas encontrados.\n",
    "\n",
    "2- ¿Son los campos “is_recid” e “is_violent_recid” en este conjunto de datos adecuados para evaluar la precisión de las estimaciones de riesgo generadas por el sistema COMPAS? Si no es así, definir y calcular una feature que sí lo sea.\n",
    "\n",
    "3- El umbral para establecer medidas preventivas de la reincidencia es de 7 en adelante. Dado este umbral, generar una tabla de contingencia, explicando qué caso se considera como “positivo” (y, por lo tanto, cuáles son los errores de tipo I y los errores de tipo II).\n",
    "\n",
    "4- El sistema asigna, de media, evaluaciones de riesgo más altas a los hombres que a las mujeres, y a las personas de raza afroamericana que a las de raza caucásica. Sin embargo, también las tasas de reincidencia son más altas para esos colectivos, aunque no está claro que la asignación de riesgo sea “justa” o no. Mostrar estas diferencias mediante representaciones gráficas y utilizarlas para analizar si la asignación de evaluaciones es justa o no.\n",
    "\n",
    "5- ¿Para qué tipo de riesgos, el de delitos generales o el de delitos violentos, tiene el sistema más capacidad predictiva?"
   ]
  },
  {
   "cell_type": "code",
   "execution_count": 1,
   "metadata": {},
   "outputs": [],
   "source": [
    "# Tratamiento de datos\n",
    "import pandas as pd\n",
    "import numpy as np\n",
    "from pandas.api.types import CategoricalDtype\n",
    "from pandas.plotting import scatter_matrix\n",
    "from sklearn import metrics\n",
    "from sklearn.metrics import roc_auc_score\n",
    "from sklearn.linear_model import LogisticRegression\n",
    "\n",
    "# pd.set_option('display.max_columns', 60) #Display 60 columns for better visualitation. \n",
    "\n",
    "# Graficos\n",
    "import seaborn as sns\n",
    "import matplotlib.pyplot as plt\n",
    "%matplotlib inline\n",
    "plt.style.use('ggplot')\n",
    "from plotnine import *\n",
    "\n",
    "#from bokeh.io import output_notebook, show\n",
    "#from bokeh.plotting import figure\n",
    "\n",
    "# Configuracion warnings\n",
    "import warnings\n",
    "warnings.simplefilter(\"ignore\")\n",
    "\n",
    "#Preprocesado y analisis\n",
    "import statsmodels.api as sm\n",
    "from scipy import stats\n",
    "from scipy.stats import pearsonr"
   ]
  },
  {
   "cell_type": "markdown",
   "metadata": {},
   "source": [
    "#### 1- Cargar los datos y realizar un análisis exploratorio y una evaluación de la calidad de los datos necesarios para el resto del caso. \n",
    "Específicamente, evaluar la integridad, validez y actualidad de los datos y proponer estrategias de mitigación de los posibles problemas encontrados.\n",
    "\n",
    "* validez (conformidad con los formatos y estándares)\n",
    "* integridad (ausencia de “huecos” en los datos)\n",
    "* actualidad (datos suficientemente recientes)."
   ]
  },
  {
   "cell_type": "code",
   "execution_count": 2,
   "metadata": {},
   "outputs": [],
   "source": [
    "# Cargamos los datos desde el archivo CSV\n",
    "compas = pd.read_csv('C:\\\\Users\\\\jlpad\\Desktop\\\\BBDD\\\\compas-scores.csv') "
   ]
  },
  {
   "cell_type": "code",
   "execution_count": 3,
   "metadata": {},
   "outputs": [
    {
     "data": {
      "text/html": [
       "<div>\n",
       "<style scoped>\n",
       "    .dataframe tbody tr th:only-of-type {\n",
       "        vertical-align: middle;\n",
       "    }\n",
       "\n",
       "    .dataframe tbody tr th {\n",
       "        vertical-align: top;\n",
       "    }\n",
       "\n",
       "    .dataframe thead th {\n",
       "        text-align: right;\n",
       "    }\n",
       "</style>\n",
       "<table border=\"1\" class=\"dataframe\">\n",
       "  <thead>\n",
       "    <tr style=\"text-align: right;\">\n",
       "      <th></th>\n",
       "      <th>id</th>\n",
       "      <th>name</th>\n",
       "      <th>first</th>\n",
       "      <th>last</th>\n",
       "      <th>compas_screening_date</th>\n",
       "      <th>sex</th>\n",
       "      <th>dob</th>\n",
       "      <th>age</th>\n",
       "      <th>age_cat</th>\n",
       "      <th>race</th>\n",
       "      <th>...</th>\n",
       "      <th>vr_offense_date</th>\n",
       "      <th>vr_charge_desc</th>\n",
       "      <th>v_type_of_assessment</th>\n",
       "      <th>v_decile_score</th>\n",
       "      <th>v_score_text</th>\n",
       "      <th>v_screening_date</th>\n",
       "      <th>type_of_assessment</th>\n",
       "      <th>decile_score.1</th>\n",
       "      <th>score_text</th>\n",
       "      <th>screening_date</th>\n",
       "    </tr>\n",
       "  </thead>\n",
       "  <tbody>\n",
       "    <tr>\n",
       "      <th>0</th>\n",
       "      <td>1</td>\n",
       "      <td>miguel hernandez</td>\n",
       "      <td>miguel</td>\n",
       "      <td>hernandez</td>\n",
       "      <td>2013-08-14</td>\n",
       "      <td>Male</td>\n",
       "      <td>1947-04-18</td>\n",
       "      <td>69</td>\n",
       "      <td>Greater than 45</td>\n",
       "      <td>Other</td>\n",
       "      <td>...</td>\n",
       "      <td>NaN</td>\n",
       "      <td>NaN</td>\n",
       "      <td>Risk of Violence</td>\n",
       "      <td>1</td>\n",
       "      <td>Low</td>\n",
       "      <td>2013-08-14</td>\n",
       "      <td>Risk of Recidivism</td>\n",
       "      <td>1</td>\n",
       "      <td>Low</td>\n",
       "      <td>2013-08-14</td>\n",
       "    </tr>\n",
       "    <tr>\n",
       "      <th>1</th>\n",
       "      <td>2</td>\n",
       "      <td>michael ryan</td>\n",
       "      <td>michael</td>\n",
       "      <td>ryan</td>\n",
       "      <td>2014-12-31</td>\n",
       "      <td>Male</td>\n",
       "      <td>1985-02-06</td>\n",
       "      <td>31</td>\n",
       "      <td>25 - 45</td>\n",
       "      <td>Caucasian</td>\n",
       "      <td>...</td>\n",
       "      <td>NaN</td>\n",
       "      <td>NaN</td>\n",
       "      <td>Risk of Violence</td>\n",
       "      <td>2</td>\n",
       "      <td>Low</td>\n",
       "      <td>2014-12-31</td>\n",
       "      <td>Risk of Recidivism</td>\n",
       "      <td>5</td>\n",
       "      <td>Medium</td>\n",
       "      <td>2014-12-31</td>\n",
       "    </tr>\n",
       "    <tr>\n",
       "      <th>2</th>\n",
       "      <td>3</td>\n",
       "      <td>kevon dixon</td>\n",
       "      <td>kevon</td>\n",
       "      <td>dixon</td>\n",
       "      <td>2013-01-27</td>\n",
       "      <td>Male</td>\n",
       "      <td>1982-01-22</td>\n",
       "      <td>34</td>\n",
       "      <td>25 - 45</td>\n",
       "      <td>African-American</td>\n",
       "      <td>...</td>\n",
       "      <td>2013-07-05</td>\n",
       "      <td>Felony Battery (Dom Strang)</td>\n",
       "      <td>Risk of Violence</td>\n",
       "      <td>1</td>\n",
       "      <td>Low</td>\n",
       "      <td>2013-01-27</td>\n",
       "      <td>Risk of Recidivism</td>\n",
       "      <td>3</td>\n",
       "      <td>Low</td>\n",
       "      <td>2013-01-27</td>\n",
       "    </tr>\n",
       "    <tr>\n",
       "      <th>3</th>\n",
       "      <td>4</td>\n",
       "      <td>ed philo</td>\n",
       "      <td>ed</td>\n",
       "      <td>philo</td>\n",
       "      <td>2013-04-14</td>\n",
       "      <td>Male</td>\n",
       "      <td>1991-05-14</td>\n",
       "      <td>24</td>\n",
       "      <td>Less than 25</td>\n",
       "      <td>African-American</td>\n",
       "      <td>...</td>\n",
       "      <td>NaN</td>\n",
       "      <td>NaN</td>\n",
       "      <td>Risk of Violence</td>\n",
       "      <td>3</td>\n",
       "      <td>Low</td>\n",
       "      <td>2013-04-14</td>\n",
       "      <td>Risk of Recidivism</td>\n",
       "      <td>4</td>\n",
       "      <td>Low</td>\n",
       "      <td>2013-04-14</td>\n",
       "    </tr>\n",
       "    <tr>\n",
       "      <th>4</th>\n",
       "      <td>5</td>\n",
       "      <td>marcu brown</td>\n",
       "      <td>marcu</td>\n",
       "      <td>brown</td>\n",
       "      <td>2013-01-13</td>\n",
       "      <td>Male</td>\n",
       "      <td>1993-01-21</td>\n",
       "      <td>23</td>\n",
       "      <td>Less than 25</td>\n",
       "      <td>African-American</td>\n",
       "      <td>...</td>\n",
       "      <td>NaN</td>\n",
       "      <td>NaN</td>\n",
       "      <td>Risk of Violence</td>\n",
       "      <td>6</td>\n",
       "      <td>Medium</td>\n",
       "      <td>2013-01-13</td>\n",
       "      <td>Risk of Recidivism</td>\n",
       "      <td>8</td>\n",
       "      <td>High</td>\n",
       "      <td>2013-01-13</td>\n",
       "    </tr>\n",
       "  </tbody>\n",
       "</table>\n",
       "<p>5 rows × 47 columns</p>\n",
       "</div>"
      ],
      "text/plain": [
       "   id              name    first       last compas_screening_date   sex  \\\n",
       "0   1  miguel hernandez   miguel  hernandez            2013-08-14  Male   \n",
       "1   2      michael ryan  michael       ryan            2014-12-31  Male   \n",
       "2   3       kevon dixon    kevon      dixon            2013-01-27  Male   \n",
       "3   4          ed philo       ed      philo            2013-04-14  Male   \n",
       "4   5       marcu brown    marcu      brown            2013-01-13  Male   \n",
       "\n",
       "          dob  age          age_cat              race  ...  vr_offense_date  \\\n",
       "0  1947-04-18   69  Greater than 45             Other  ...              NaN   \n",
       "1  1985-02-06   31          25 - 45         Caucasian  ...              NaN   \n",
       "2  1982-01-22   34          25 - 45  African-American  ...       2013-07-05   \n",
       "3  1991-05-14   24     Less than 25  African-American  ...              NaN   \n",
       "4  1993-01-21   23     Less than 25  African-American  ...              NaN   \n",
       "\n",
       "                vr_charge_desc  v_type_of_assessment  v_decile_score  \\\n",
       "0                          NaN      Risk of Violence               1   \n",
       "1                          NaN      Risk of Violence               2   \n",
       "2  Felony Battery (Dom Strang)      Risk of Violence               1   \n",
       "3                          NaN      Risk of Violence               3   \n",
       "4                          NaN      Risk of Violence               6   \n",
       "\n",
       "   v_score_text  v_screening_date  type_of_assessment decile_score.1  \\\n",
       "0           Low        2013-08-14  Risk of Recidivism              1   \n",
       "1           Low        2014-12-31  Risk of Recidivism              5   \n",
       "2           Low        2013-01-27  Risk of Recidivism              3   \n",
       "3           Low        2013-04-14  Risk of Recidivism              4   \n",
       "4        Medium        2013-01-13  Risk of Recidivism              8   \n",
       "\n",
       "  score_text screening_date  \n",
       "0        Low     2013-08-14  \n",
       "1     Medium     2014-12-31  \n",
       "2        Low     2013-01-27  \n",
       "3        Low     2013-04-14  \n",
       "4       High     2013-01-13  \n",
       "\n",
       "[5 rows x 47 columns]"
      ]
     },
     "execution_count": 3,
     "metadata": {},
     "output_type": "execute_result"
    }
   ],
   "source": [
    "# Comenzamos el analisis explotarotio del dataframe.\n",
    "compas.head()"
   ]
  },
  {
   "cell_type": "code",
   "execution_count": 4,
   "metadata": {},
   "outputs": [
    {
     "data": {
      "text/plain": [
       "Index(['id', 'name', 'first', 'last', 'compas_screening_date', 'sex', 'dob',\n",
       "       'age', 'age_cat', 'race', 'juv_fel_count', 'decile_score',\n",
       "       'juv_misd_count', 'juv_other_count', 'priors_count',\n",
       "       'days_b_screening_arrest', 'c_jail_in', 'c_jail_out', 'c_case_number',\n",
       "       'c_offense_date', 'c_arrest_date', 'c_days_from_compas',\n",
       "       'c_charge_degree', 'c_charge_desc', 'is_recid', 'num_r_cases',\n",
       "       'r_case_number', 'r_charge_degree', 'r_days_from_arrest',\n",
       "       'r_offense_date', 'r_charge_desc', 'r_jail_in', 'r_jail_out',\n",
       "       'is_violent_recid', 'num_vr_cases', 'vr_case_number',\n",
       "       'vr_charge_degree', 'vr_offense_date', 'vr_charge_desc',\n",
       "       'v_type_of_assessment', 'v_decile_score', 'v_score_text',\n",
       "       'v_screening_date', 'type_of_assessment', 'decile_score.1',\n",
       "       'score_text', 'screening_date'],\n",
       "      dtype='object')"
      ]
     },
     "execution_count": 4,
     "metadata": {},
     "output_type": "execute_result"
    }
   ],
   "source": [
    "compas.columns"
   ]
  },
  {
   "cell_type": "code",
   "execution_count": 5,
   "metadata": {},
   "outputs": [
    {
     "name": "stdout",
     "output_type": "stream",
     "text": [
      "<class 'pandas.core.frame.DataFrame'>\n",
      "RangeIndex: 11757 entries, 0 to 11756\n",
      "Data columns (total 47 columns):\n",
      " #   Column                   Non-Null Count  Dtype  \n",
      "---  ------                   --------------  -----  \n",
      " 0   id                       11757 non-null  int64  \n",
      " 1   name                     11757 non-null  object \n",
      " 2   first                    11757 non-null  object \n",
      " 3   last                     11757 non-null  object \n",
      " 4   compas_screening_date    11757 non-null  object \n",
      " 5   sex                      11757 non-null  object \n",
      " 6   dob                      11757 non-null  object \n",
      " 7   age                      11757 non-null  int64  \n",
      " 8   age_cat                  11757 non-null  object \n",
      " 9   race                     11757 non-null  object \n",
      " 10  juv_fel_count            11757 non-null  int64  \n",
      " 11  decile_score             11757 non-null  int64  \n",
      " 12  juv_misd_count           11757 non-null  int64  \n",
      " 13  juv_other_count          11757 non-null  int64  \n",
      " 14  priors_count             11757 non-null  int64  \n",
      " 15  days_b_screening_arrest  10577 non-null  float64\n",
      " 16  c_jail_in                10577 non-null  object \n",
      " 17  c_jail_out               10577 non-null  object \n",
      " 18  c_case_number            11015 non-null  object \n",
      " 19  c_offense_date           9157 non-null   object \n",
      " 20  c_arrest_date            1858 non-null   object \n",
      " 21  c_days_from_compas       11015 non-null  float64\n",
      " 22  c_charge_degree          11757 non-null  object \n",
      " 23  c_charge_desc            11008 non-null  object \n",
      " 24  is_recid                 11757 non-null  int64  \n",
      " 25  num_r_cases              0 non-null      float64\n",
      " 26  r_case_number            3703 non-null   object \n",
      " 27  r_charge_degree          11757 non-null  object \n",
      " 28  r_days_from_arrest       2460 non-null   float64\n",
      " 29  r_offense_date           3703 non-null   object \n",
      " 30  r_charge_desc            3643 non-null   object \n",
      " 31  r_jail_in                2460 non-null   object \n",
      " 32  r_jail_out               2460 non-null   object \n",
      " 33  is_violent_recid         11757 non-null  int64  \n",
      " 34  num_vr_cases             0 non-null      float64\n",
      " 35  vr_case_number           882 non-null    object \n",
      " 36  vr_charge_degree         882 non-null    object \n",
      " 37  vr_offense_date          882 non-null    object \n",
      " 38  vr_charge_desc           882 non-null    object \n",
      " 39  v_type_of_assessment     11757 non-null  object \n",
      " 40  v_decile_score           11757 non-null  int64  \n",
      " 41  v_score_text             11752 non-null  object \n",
      " 42  v_screening_date         11757 non-null  object \n",
      " 43  type_of_assessment       11757 non-null  object \n",
      " 44  decile_score.1           11757 non-null  int64  \n",
      " 45  score_text               11742 non-null  object \n",
      " 46  screening_date           11757 non-null  object \n",
      "dtypes: float64(5), int64(11), object(31)\n",
      "memory usage: 4.2+ MB\n"
     ]
    }
   ],
   "source": [
    "compas.info()"
   ]
  },
  {
   "cell_type": "code",
   "execution_count": 6,
   "metadata": {},
   "outputs": [],
   "source": [
    "# Creamos una copia del dataframe inicial tomando en cuenta solo 17 de las 47 columnas que consideramos importantes para nuestro caso.\n",
    "df = compas[['id','name', 'sex', 'age', 'age_cat', 'is_recid', 'is_violent_recid','decile_score', 'v_decile_score', 'vr_offense_date', \n",
    "             'r_offense_date', 'race', 'score_text', 'v_score_text', 'compas_screening_date', 'c_charge_degree', 'priors_count']].copy()"
   ]
  },
  {
   "cell_type": "code",
   "execution_count": 7,
   "metadata": {},
   "outputs": [
    {
     "name": "stdout",
     "output_type": "stream",
     "text": [
      "<class 'pandas.core.frame.DataFrame'>\n",
      "RangeIndex: 11757 entries, 0 to 11756\n",
      "Data columns (total 17 columns):\n",
      " #   Column                 Non-Null Count  Dtype \n",
      "---  ------                 --------------  ----- \n",
      " 0   id                     11757 non-null  int64 \n",
      " 1   name                   11757 non-null  object\n",
      " 2   sex                    11757 non-null  object\n",
      " 3   age                    11757 non-null  int64 \n",
      " 4   age_cat                11757 non-null  object\n",
      " 5   is_recid               11757 non-null  int64 \n",
      " 6   is_violent_recid       11757 non-null  int64 \n",
      " 7   decile_score           11757 non-null  int64 \n",
      " 8   v_decile_score         11757 non-null  int64 \n",
      " 9   vr_offense_date        882 non-null    object\n",
      " 10  r_offense_date         3703 non-null   object\n",
      " 11  race                   11757 non-null  object\n",
      " 12  score_text             11742 non-null  object\n",
      " 13  v_score_text           11752 non-null  object\n",
      " 14  compas_screening_date  11757 non-null  object\n",
      " 15  c_charge_degree        11757 non-null  object\n",
      " 16  priors_count           11757 non-null  int64 \n",
      "dtypes: int64(7), object(10)\n",
      "memory usage: 1.5+ MB\n"
     ]
    }
   ],
   "source": [
    "# De las 17 columnas todas excepto 4 (r_offense_date, , vr_offense_date, v_score_text y score_text) cuentan con 11.757 datos.  \n",
    "df.info()"
   ]
  },
  {
   "cell_type": "code",
   "execution_count": 8,
   "metadata": {},
   "outputs": [],
   "source": [
    "# Definimos una función para ver los nulos y porcentaje de nulos del dataframe.\n",
    "def show_nulls(df):\n",
    "    total_nulos = df.isnull().sum()\n",
    "    perc_nulos = total_nulos/len(df)*100\n",
    "    return total_nulos, perc_nulos"
   ]
  },
  {
   "cell_type": "code",
   "execution_count": 9,
   "metadata": {},
   "outputs": [
    {
     "name": "stdout",
     "output_type": "stream",
     "text": [
      "Total nulos    id                           0\n",
      "name                         0\n",
      "sex                          0\n",
      "age                          0\n",
      "age_cat                      0\n",
      "is_recid                     0\n",
      "is_violent_recid             0\n",
      "decile_score                 0\n",
      "v_decile_score               0\n",
      "vr_offense_date          10875\n",
      "r_offense_date            8054\n",
      "race                         0\n",
      "score_text                  15\n",
      "v_score_text                 5\n",
      "compas_screening_date        0\n",
      "c_charge_degree              0\n",
      "priors_count                 0\n",
      "dtype: int64\n",
      "Porcentaje de nulos     id                        0.000000\n",
      "name                      0.000000\n",
      "sex                       0.000000\n",
      "age                       0.000000\n",
      "age_cat                   0.000000\n",
      "is_recid                  0.000000\n",
      "is_violent_recid          0.000000\n",
      "decile_score              0.000000\n",
      "v_decile_score            0.000000\n",
      "vr_offense_date          92.498086\n",
      "r_offense_date           68.503870\n",
      "race                      0.000000\n",
      "score_text                0.127584\n",
      "v_score_text              0.042528\n",
      "compas_screening_date     0.000000\n",
      "c_charge_degree           0.000000\n",
      "priors_count              0.000000\n",
      "dtype: float64\n"
     ]
    }
   ],
   "source": [
    "# Se puede ver que los nulos se encuentran solamente en 4 de las 17 columnas:\n",
    "    \n",
    "#    vr_offense_date             \"FECHA en la que se cometió el DELITO VIOLENTO que da lugar a la consideración de reincidente\".\n",
    "#    r_offense_date              \"FECHA en la que se cometió el DELITO por el que se considera reincidente a la persona\",\n",
    "#    score_text                  \"SCORE\" \n",
    "#    v_score_text                \"SCORE VIOLENTO\"\n",
    "\n",
    "print('Total nulos   ', show_nulls(df=df)[0])\n",
    "print('Porcentaje de nulos    ', show_nulls(df=df)[1])"
   ]
  },
  {
   "cell_type": "markdown",
   "metadata": {},
   "source": [
    "Tomando en cuenta que tenemos 11.757 registros en total que existan datos nulos en tres columnas nos sugiere que la informacón NO ES INTEGRA.\n",
    "\n",
    "    vr_offense_date         10.875 (92.49%)\n",
    "    r_offense_date           8.054 (68.50%)   \n",
    "    \n",
    "Para las otras dos la cantidad de valores nulos no llegan ni al 1%; por tanto no son significativas.\n",
    "\n",
    "    score_text                  15 (0.13%)\n",
    "    v_score_text                 5 (0.04%)\n",
    "\n",
    "Vamos a revisar cada columna individualmente para asegurarnos si la infomacion es VALIDA, INTEGRA y SIN VALORES NULOS."
   ]
  },
  {
   "cell_type": "code",
   "execution_count": 10,
   "metadata": {},
   "outputs": [],
   "source": [
    "# Definimos otra función para analizar la integridad, validez y actualidad de los datos de cada una de las columnas.\n",
    "def desc_column(df, col):\n",
    "    print(f'Columna: {col} - Tipo de datos: {df[col].dtype}')\n",
    "    print(f'Número de valores nulos: {df[col].isnull().sum()} - Número de valores distintos: {df[col].nunique()}')\n",
    "    print('Valores más frecuentes:')\n",
    "    for i, v in df[col].value_counts().iloc[:10].items():\n",
    "        print(i, '\\t', v)"
   ]
  },
  {
   "cell_type": "code",
   "execution_count": 11,
   "metadata": {},
   "outputs": [
    {
     "name": "stdout",
     "output_type": "stream",
     "text": [
      "Columna: id - Tipo de datos: int64\n",
      "Número de valores nulos: 0 - Número de valores distintos: 11757\n",
      "Valores más frecuentes:\n",
      "2049 \t 1\n",
      "6790 \t 1\n",
      "10888 \t 1\n",
      "8841 \t 1\n",
      "2700 \t 1\n",
      "653 \t 1\n",
      "6798 \t 1\n",
      "4751 \t 1\n",
      "10896 \t 1\n",
      "8849 \t 1\n"
     ]
    }
   ],
   "source": [
    "# Columna valida e integra sin valores nulos.\n",
    "desc_column(df, 'id')"
   ]
  },
  {
   "cell_type": "code",
   "execution_count": 12,
   "metadata": {},
   "outputs": [
    {
     "name": "stdout",
     "output_type": "stream",
     "text": [
      "Columna: name - Tipo de datos: object\n",
      "Número de valores nulos: 0 - Número de valores distintos: 11584\n",
      "Valores más frecuentes:\n",
      "robert taylor \t 4\n",
      "michael cunningham \t 4\n",
      "carlos vasquez \t 4\n",
      "john brown \t 4\n",
      "gregory williams \t 3\n",
      "anthony jackson \t 3\n",
      "steven wilson \t 3\n",
      "james brown \t 3\n",
      "richard jones \t 3\n",
      "travis wilson \t 3\n"
     ]
    }
   ],
   "source": [
    "# Se puede ver que algunos nombres se repiten de 3 a 4 veces estos podrían ser duplicados o simplemente homónimos. \n",
    "# Columna valida e integra sin valores nulos.\n",
    "desc_column(df, 'name')"
   ]
  },
  {
   "cell_type": "code",
   "execution_count": 13,
   "metadata": {},
   "outputs": [
    {
     "name": "stdout",
     "output_type": "stream",
     "text": [
      "Columna: sex - Tipo de datos: object\n",
      "Número de valores nulos: 0 - Número de valores distintos: 2\n",
      "Valores más frecuentes:\n",
      "Male \t 9336\n",
      "Female \t 2421\n"
     ]
    }
   ],
   "source": [
    "# Columna valida e integra sin valores nulos.\n",
    "desc_column(df, 'sex')"
   ]
  },
  {
   "cell_type": "code",
   "execution_count": 14,
   "metadata": {},
   "outputs": [
    {
     "name": "stdout",
     "output_type": "stream",
     "text": [
      "Columna: age - Tipo de datos: int64\n",
      "Número de valores nulos: 0 - Número de valores distintos: 66\n",
      "Valores más frecuentes:\n",
      "26 \t 540\n",
      "24 \t 539\n",
      "25 \t 521\n",
      "23 \t 507\n",
      "27 \t 506\n",
      "22 \t 503\n",
      "21 \t 500\n",
      "29 \t 456\n",
      "30 \t 441\n",
      "28 \t 430\n",
      "18\n",
      "96\n"
     ]
    }
   ],
   "source": [
    "# Columna valida e integra sin valores nulos. Van desde los 18 a los 96 años.\n",
    "desc_column(df, 'age')\n",
    "print(df.age.min())\n",
    "print(df.age.max())"
   ]
  },
  {
   "cell_type": "code",
   "execution_count": 15,
   "metadata": {},
   "outputs": [
    {
     "name": "stdout",
     "output_type": "stream",
     "text": [
      "Columna: age_cat - Tipo de datos: object\n",
      "Número de valores nulos: 0 - Número de valores distintos: 3\n",
      "Valores más frecuentes:\n",
      "25 - 45 \t 6649\n",
      "Greater than 45 \t 2668\n",
      "Less than 25 \t 2440\n"
     ]
    }
   ],
   "source": [
    "# Columna valida e integra sin valores nulos.\n",
    "desc_column(df, 'age_cat')"
   ]
  },
  {
   "cell_type": "code",
   "execution_count": 16,
   "metadata": {},
   "outputs": [
    {
     "name": "stdout",
     "output_type": "stream",
     "text": [
      "Columna: race - Tipo de datos: object\n",
      "Número de valores nulos: 0 - Número de valores distintos: 6\n",
      "Valores más frecuentes:\n",
      "African-American \t 5813\n",
      "Caucasian \t 4085\n",
      "Hispanic \t 1100\n",
      "Other \t 661\n",
      "Asian \t 58\n",
      "Native American \t 40\n"
     ]
    }
   ],
   "source": [
    "# Columna valida e integra sin valores nulos.\n",
    "desc_column(df, 'race')"
   ]
  },
  {
   "cell_type": "code",
   "execution_count": 17,
   "metadata": {},
   "outputs": [
    {
     "name": "stdout",
     "output_type": "stream",
     "text": [
      "Columna: c_charge_degree - Tipo de datos: object\n",
      "Número de valores nulos: 0 - Número de valores distintos: 3\n",
      "Valores más frecuentes:\n",
      "F \t 7232\n",
      "M \t 3771\n",
      "O \t 754\n"
     ]
    }
   ],
   "source": [
    "# CARGO POR DELITO MAYOR O MENOR \n",
    "# Columna valida e integra sin valores nulos.\n",
    "desc_column(df, 'c_charge_degree')"
   ]
  },
  {
   "cell_type": "code",
   "execution_count": 18,
   "metadata": {},
   "outputs": [
    {
     "name": "stdout",
     "output_type": "stream",
     "text": [
      "Columna: priors_count - Tipo de datos: int64\n",
      "Número de valores nulos: 0 - Número de valores distintos: 39\n",
      "Valores más frecuentes:\n",
      "0 \t 4184\n",
      "1 \t 2199\n",
      "2 \t 1281\n",
      "3 \t 857\n",
      "4 \t 588\n",
      "5 \t 474\n",
      "6 \t 349\n",
      "7 \t 315\n",
      "8 \t 260\n",
      "9 \t 201\n"
     ]
    }
   ],
   "source": [
    "# NUMERO DE ARRESTOS PREVIOS\n",
    "# Columna valida e integra sin valores nulos.\n",
    "desc_column(df, 'priors_count')"
   ]
  },
  {
   "cell_type": "code",
   "execution_count": 19,
   "metadata": {},
   "outputs": [
    {
     "name": "stdout",
     "output_type": "stream",
     "text": [
      "Columna: decile_score - Tipo de datos: int64\n",
      "Número de valores nulos: 0 - Número de valores distintos: 11\n",
      "Valores más frecuentes:\n",
      "1 \t 2577\n",
      "2 \t 1572\n",
      "3 \t 1259\n",
      "4 \t 1199\n",
      "5 \t 1034\n",
      "6 \t 993\n",
      "7 \t 900\n",
      "9 \t 802\n",
      "8 \t 796\n",
      "10 \t 610\n"
     ]
    }
   ],
   "source": [
    "# Indica el RIESGO DE REINCIDENCIA en general (a mayor riesgo, mayor número).\n",
    "# Columna valida e integra sin valores nulos.\n",
    "desc_column(df, 'decile_score')"
   ]
  },
  {
   "cell_type": "code",
   "execution_count": 20,
   "metadata": {},
   "outputs": [
    {
     "name": "stdout",
     "output_type": "stream",
     "text": [
      "Columna: is_recid - Tipo de datos: int64\n",
      "Número de valores nulos: 0 - Número de valores distintos: 3\n",
      "Valores más frecuentes:\n",
      "0 \t 7335\n",
      "1 \t 3703\n",
      "-1 \t 719\n"
     ]
    }
   ],
   "source": [
    "# Indica si la persona ES REINCIDENTE, observamos 3.703 registros que si serian reincidentes. Encontramos 719 registros sin antecedentes.\n",
    "# Columna valida e integra sin valores nulos.\n",
    "desc_column(df, 'is_recid')"
   ]
  },
  {
   "cell_type": "code",
   "execution_count": 21,
   "metadata": {},
   "outputs": [
    {
     "name": "stdout",
     "output_type": "stream",
     "text": [
      "Columna: v_decile_score - Tipo de datos: int64\n",
      "Número de valores nulos: 0 - Número de valores distintos: 11\n",
      "Valores más frecuentes:\n",
      "1 \t 3359\n",
      "2 \t 1789\n",
      "3 \t 1581\n",
      "4 \t 1239\n",
      "5 \t 1083\n",
      "6 \t 919\n",
      "7 \t 666\n",
      "8 \t 476\n",
      "9 \t 440\n",
      "10 \t 200\n"
     ]
    }
   ],
   "source": [
    "# de 1 a 10, indica el RIESGO DE REINCIDENCIA EN DELITOS VIOLENTOS (a mayor riesgo, mayor número).\n",
    "# Columna valida e integra sin valores nulos.\n",
    "desc_column(df, 'v_decile_score')"
   ]
  },
  {
   "cell_type": "code",
   "execution_count": 22,
   "metadata": {},
   "outputs": [
    {
     "name": "stdout",
     "output_type": "stream",
     "text": [
      "Columna: is_violent_recid - Tipo de datos: int64\n",
      "Número de valores nulos: 0 - Número de valores distintos: 2\n",
      "Valores más frecuentes:\n",
      "0 \t 10875\n",
      "1 \t 882\n"
     ]
    }
   ],
   "source": [
    "# Indica si la persona es REINCIDENTE EN UN DELITO CON VIOLENCIA, observamos 882 registros que si serían reincidentes.\n",
    "# Columna valida e integra sin valores nulos.\n",
    "desc_column(df, 'is_violent_recid')"
   ]
  },
  {
   "cell_type": "code",
   "execution_count": 23,
   "metadata": {},
   "outputs": [
    {
     "name": "stdout",
     "output_type": "stream",
     "text": [
      "Columna: compas_screening_date - Tipo de datos: object\n",
      "Número de valores nulos: 0 - Número de valores distintos: 704\n",
      "Valores más frecuentes:\n",
      "2013-03-20 \t 39\n",
      "2013-04-20 \t 38\n",
      "2013-09-23 \t 35\n",
      "2013-02-20 \t 34\n",
      "2013-02-22 \t 33\n",
      "2013-09-26 \t 33\n",
      "2013-08-27 \t 32\n",
      "2014-11-12 \t 32\n",
      "2013-02-07 \t 32\n",
      "2013-10-07 \t 31\n"
     ]
    }
   ],
   "source": [
    "# Columna valida e integra sin valores nulos.\n",
    "desc_column(df, 'compas_screening_date')"
   ]
  },
  {
   "cell_type": "code",
   "execution_count": 24,
   "metadata": {},
   "outputs": [
    {
     "name": "stdout",
     "output_type": "stream",
     "text": [
      "Columna: r_offense_date - Tipo de datos: object\n",
      "Número de valores nulos: 8054 - Número de valores distintos: 1090\n",
      "Valores más frecuentes:\n",
      "2014-12-08 \t 12\n",
      "2015-01-28 \t 11\n",
      "2015-02-10 \t 11\n",
      "2014-09-15 \t 10\n",
      "2014-06-07 \t 10\n",
      "2014-10-17 \t 10\n",
      "2015-03-11 \t 10\n",
      "2014-06-05 \t 10\n",
      "2014-04-03 \t 10\n",
      "2014-07-28 \t 9\n"
     ]
    },
    {
     "data": {
      "text/plain": [
       "3703"
      ]
     },
     "execution_count": 24,
     "metadata": {},
     "output_type": "execute_result"
    }
   ],
   "source": [
    "# FECHA DEL DELITO por el que se considera reincidente a la persona.\n",
    "# Columna valida, aparentemente NO integra con 8.054 (68.50%) valores nulos pero los 3.703 (31.50%) registros que si estan corresponderían a personas reincidentes que coincide con (is_recid).\n",
    "desc_column(df, 'r_offense_date')\n",
    "\n",
    "df['r_offense_date'].value_counts().sum()"
   ]
  },
  {
   "cell_type": "code",
   "execution_count": 25,
   "metadata": {},
   "outputs": [
    {
     "name": "stdout",
     "output_type": "stream",
     "text": [
      "Columna: vr_offense_date - Tipo de datos: object\n",
      "Número de valores nulos: 10875 - Número de valores distintos: 599\n",
      "Valores más frecuentes:\n",
      "2015-08-15 \t 6\n",
      "2015-09-04 \t 5\n",
      "2015-10-01 \t 4\n",
      "2015-06-27 \t 4\n",
      "2015-03-29 \t 4\n",
      "2014-02-18 \t 4\n",
      "2014-07-28 \t 4\n",
      "2015-04-27 \t 4\n",
      "2015-10-14 \t 4\n",
      "2014-12-26 \t 4\n"
     ]
    }
   ],
   "source": [
    "# FECHA DEL DELITO VIOLENTO que da lugar a la consideración de reincidente.\n",
    "# Columna valida, aparentemente NO integra con 10.875 (92.5%) de valores nulos.  \n",
    "desc_column(df, 'vr_offense_date')"
   ]
  },
  {
   "cell_type": "code",
   "execution_count": 26,
   "metadata": {},
   "outputs": [
    {
     "data": {
      "text/plain": [
       "882"
      ]
     },
     "execution_count": 26,
     "metadata": {},
     "output_type": "execute_result"
    }
   ],
   "source": [
    "# 882 registros que coincide con un REINCIDENTE EN UN DELITO CON VIOLENCIA (is_violent_recid). \n",
    "df['vr_offense_date'].value_counts().sum()"
   ]
  },
  {
   "cell_type": "code",
   "execution_count": 27,
   "metadata": {},
   "outputs": [
    {
     "name": "stdout",
     "output_type": "stream",
     "text": [
      "Columna: score_text - Tipo de datos: object\n",
      "Número de valores nulos: 15 - Número de valores distintos: 3\n",
      "Valores más frecuentes:\n",
      "Low \t 6607\n",
      "Medium \t 2927\n",
      "High \t 2208\n"
     ]
    }
   ],
   "source": [
    "# SCORE DELITO NO VIOLENTO\n",
    "# Columna valida e integra con solo 15 valores nulos, el 0.13%.\n",
    "desc_column(df,'score_text')"
   ]
  },
  {
   "cell_type": "code",
   "execution_count": 28,
   "metadata": {},
   "outputs": [
    {
     "name": "stdout",
     "output_type": "stream",
     "text": [
      "Columna: v_score_text - Tipo de datos: object\n",
      "Número de valores nulos: 5 - Número de valores distintos: 3\n",
      "Valores más frecuentes:\n",
      "Low \t 7968\n",
      "Medium \t 2668\n",
      "High \t 1116\n"
     ]
    }
   ],
   "source": [
    "# SCORE DELITO VIOLENTO \n",
    "# Columna valida e integra con solo 5 valores nulos, el 0.04%.\n",
    "desc_column(df, 'v_score_text')"
   ]
  },
  {
   "cell_type": "markdown",
   "metadata": {},
   "source": [
    "2- ¿Son los campos “is_recid” e “is_violent_recid” en este conjunto de datos adecuados para evaluar la precisión de las estimaciones de riesgo generadas por el sistema COMPAS?\n",
    "Si no es así, definir y calcular una feature que sí lo sea."
   ]
  },
  {
   "cell_type": "code",
   "execution_count": 29,
   "metadata": {},
   "outputs": [],
   "source": [
    "# Creamos una copia del dataframe inicial \"df\" para trabajar independientemente sin afectar al punto 1 con cada cambio que realicemos a partir de ahora.\n",
    "df1 = compas[['id', 'name', 'sex', 'age', 'age_cat', 'race', 'c_charge_degree', 'priors_count', 'is_recid', 'is_violent_recid', 'decile_score', \n",
    "          'v_decile_score', 'score_text', 'v_score_text', 'r_offense_date', 'vr_offense_date', 'compas_screening_date']].copy()"
   ]
  },
  {
   "cell_type": "code",
   "execution_count": 30,
   "metadata": {},
   "outputs": [
    {
     "data": {
      "text/plain": [
       " 1     2577\n",
       " 2     1572\n",
       " 3     1259\n",
       " 4     1199\n",
       " 5     1034\n",
       " 6      993\n",
       " 7      900\n",
       " 9      802\n",
       " 8      796\n",
       " 10     610\n",
       "-1       15\n",
       "Name: decile_score, dtype: int64"
      ]
     },
     "execution_count": 30,
     "metadata": {},
     "output_type": "execute_result"
    }
   ],
   "source": [
    "# RIESGO DE REINCIDENCIA\n",
    "df1['decile_score'].value_counts()"
   ]
  },
  {
   "cell_type": "code",
   "execution_count": 31,
   "metadata": {},
   "outputs": [
    {
     "data": {
      "text/plain": [
       "1     2577\n",
       "2     1572\n",
       "3     1259\n",
       "4     1199\n",
       "5     1034\n",
       "6      993\n",
       "7      900\n",
       "9      802\n",
       "8      796\n",
       "10     610\n",
       "Name: decile_score, dtype: int64"
      ]
     },
     "execution_count": 31,
     "metadata": {},
     "output_type": "execute_result"
    }
   ],
   "source": [
    "# Eliminmos los 15 valores sin antecedentes.\n",
    "df1 = df1.drop(df1[df1['decile_score']== -1].index)\n",
    "df1['decile_score'].value_counts()"
   ]
  },
  {
   "cell_type": "code",
   "execution_count": 32,
   "metadata": {},
   "outputs": [
    {
     "data": {
      "text/plain": [
       " 0    7326\n",
       " 1    3701\n",
       "-1     715\n",
       "Name: is_recid, dtype: int64"
      ]
     },
     "execution_count": 32,
     "metadata": {},
     "output_type": "execute_result"
    }
   ],
   "source": [
    "# REINCIDENTE \n",
    "df1['is_recid'].value_counts()"
   ]
  },
  {
   "cell_type": "code",
   "execution_count": 33,
   "metadata": {},
   "outputs": [
    {
     "data": {
      "text/plain": [
       "0    7326\n",
       "1    3701\n",
       "Name: is_recid, dtype: int64"
      ]
     },
     "execution_count": 33,
     "metadata": {},
     "output_type": "execute_result"
    }
   ],
   "source": [
    "# Eliminmos los 715 valores sin antecedentes de reincidencia.\n",
    "df1 = df1.drop(df1[df1['is_recid']== -1].index)\n",
    "df1['is_recid'].value_counts()"
   ]
  },
  {
   "cell_type": "code",
   "execution_count": 34,
   "metadata": {},
   "outputs": [
    {
     "data": {
      "text/plain": [
       "0.2818400252884746"
      ]
     },
     "execution_count": 34,
     "metadata": {},
     "output_type": "execute_result"
    }
   ],
   "source": [
    "# La correlacion entre RIESGO DE REINCIDENCIA y REINCIDENTE es \"0.28\"\n",
    "corr_mat1 = df1.corr()\n",
    "corr_mat1.loc['is_recid', 'decile_score']"
   ]
  },
  {
   "cell_type": "code",
   "execution_count": 35,
   "metadata": {},
   "outputs": [
    {
     "data": {
      "text/plain": [
       "1     3095\n",
       "2     1689\n",
       "3     1483\n",
       "4     1180\n",
       "5     1017\n",
       "6      855\n",
       "7      644\n",
       "8      454\n",
       "9      423\n",
       "10     187\n",
       "Name: v_decile_score, dtype: int64"
      ]
     },
     "execution_count": 35,
     "metadata": {},
     "output_type": "execute_result"
    }
   ],
   "source": [
    "# RIESGO DE REINCIDENCIA VIOLENTA\n",
    "df1['v_decile_score'].value_counts()"
   ]
  },
  {
   "cell_type": "code",
   "execution_count": 36,
   "metadata": {},
   "outputs": [
    {
     "data": {
      "text/plain": [
       "0    10145\n",
       "1      882\n",
       "Name: is_violent_recid, dtype: int64"
      ]
     },
     "execution_count": 36,
     "metadata": {},
     "output_type": "execute_result"
    }
   ],
   "source": [
    "# REINCIDENTE CON VIOLENCIA\n",
    "df1['is_violent_recid'].value_counts()"
   ]
  },
  {
   "cell_type": "code",
   "execution_count": 37,
   "metadata": {},
   "outputs": [
    {
     "data": {
      "text/plain": [
       "0.15752055968810763"
      ]
     },
     "execution_count": 37,
     "metadata": {},
     "output_type": "execute_result"
    }
   ],
   "source": [
    "# La correlacion entre RIESGO DE REINCIDENCIA VIOLENTA (v_decile_score) Y REINCIDENTE CON VIOLENCIA (is_violent_recid) es \"0.16\"\n",
    "corr_mat2 = df1.corr()\n",
    "corr_mat2.loc['is_violent_recid', 'v_decile_score']"
   ]
  },
  {
   "cell_type": "code",
   "execution_count": 38,
   "metadata": {},
   "outputs": [
    {
     "data": {
      "text/plain": [
       "Text(0.5, 1.0, 'Correlacion entre variables')"
      ]
     },
     "execution_count": 38,
     "metadata": {},
     "output_type": "execute_result"
    },
    {
     "data": {
      "image/png": "[encoded data removed]",
      "text/plain": [
       "<Figure size 1008x360 with 2 Axes>"
      ]
     },
     "metadata": {},
     "output_type": "display_data"
    }
   ],
   "source": [
    "# Vamos a ver gráficamente la correlación entre variables con un gráfico de Seaborn Correlation Heatmap.\n",
    "plt.figure(figsize=(14,5))\n",
    "mask = np.triu(np.ones_like(df1.corr(), dtype=np.bool))\n",
    "heatmap = sns.heatmap(df1.corr(), mask=mask, annot=True, cmap='BrBG')\n",
    "heatmap.set_title('Correlacion entre variables', fontdict={'fontsize':15}, pad=12)"
   ]
  },
  {
   "cell_type": "markdown",
   "metadata": {},
   "source": [
    "A la pregunta planteada de sí ¿son los campos “is_recid” e “is_violent_recid” adecuados para evaluar la precisión de las estimaciones de riesgo generadas por el sistema COMPAS?\n",
    "\n",
    "Basandome en el análisis de correlaciones entre:\n",
    "\n",
    "    decile_score e is_recid             = 0.28 \n",
    "    v_decile_score e is_violent_recid   = 0.16\n",
    "\n",
    "Puedemos indicar que estas dos variables no cuentan con una correlación alta ya que ambas están más proximas a cero por tanto no las considero adecuadas.\n",
    "\n",
    "Siguiendo como ejemplo el trabajo de Propublica voy a analizar el modelo COMPAS tomando en cuenta las variables r_offense_date, vr_offense_date y compas_screening_date de los dos ultimos años."
   ]
  },
  {
   "cell_type": "code",
   "execution_count": 39,
   "metadata": {},
   "outputs": [],
   "source": [
    "# Creamos \"df_date\" \n",
    "df_date = df1.copy()"
   ]
  },
  {
   "cell_type": "code",
   "execution_count": 40,
   "metadata": {},
   "outputs": [],
   "source": [
    "# Eliminamos los nulos de la variable r_offense_date para asi contar con los datos de todos los REINCIDENTES NO VIOLENTOS por fechas de reincidencia.\n",
    "df_date.drop(df_date[df_date.r_offense_date.isnull()].index, inplace = True)"
   ]
  },
  {
   "cell_type": "code",
   "execution_count": 41,
   "metadata": {},
   "outputs": [],
   "source": [
    "# Reenumeramsos las filas desde cero.\n",
    "df_date.reset_index(inplace=True, drop=True)"
   ]
  },
  {
   "cell_type": "code",
   "execution_count": 42,
   "metadata": {},
   "outputs": [],
   "source": [
    "# Remplazamos el index por los valores de la columna r_offense_date\n",
    "df_date.index  = df_date['r_offense_date']\n",
    "type(df_date.index[0])\n",
    "df_date.drop('r_offense_date', axis=1, inplace=True)"
   ]
  },
  {
   "cell_type": "code",
   "execution_count": 43,
   "metadata": {},
   "outputs": [],
   "source": [
    "#Eliminamos las fechas previas al 30/03/2014 para trabajar con los ultimos dos años. \n",
    "df_date = df_date.loc['2014-03-30':]"
   ]
  },
  {
   "cell_type": "code",
   "execution_count": 44,
   "metadata": {},
   "outputs": [],
   "source": [
    "# Creamos un modelo para la Feature1\n",
    "def model1(caso):\n",
    "    if caso['is_violent_recid'] == 1 and caso['race'] == ('African-American') and caso['age_cat'] == ('25 - 45'):\n",
    "        return 1\n",
    "    else:\n",
    "        return 0\n",
    "    \n",
    "feature1 = df_date.apply(lambda x: model1(x), axis = 1)"
   ]
  },
  {
   "cell_type": "code",
   "execution_count": 45,
   "metadata": {},
   "outputs": [
    {
     "data": {
      "text/plain": [
       "0.46524228174197507"
      ]
     },
     "execution_count": 45,
     "metadata": {},
     "output_type": "execute_result"
    }
   ],
   "source": [
    "# Verificación de la efectividad del model1 que es bajo llega solo a \"0.46\" lo cual esta más cercano a cero que a uno, \n",
    "# podemos decir que el modelo no es correcto aunque el resultado es mejore que el anterior que tomaba en cuentan las otras variables:\n",
    "\n",
    "#    decile_score e is_recid             = 0.28 \n",
    "#    v_decile_score e is_violent_recid   = 0.16\n",
    "\n",
    "roc_auc_score((df_date['v_score_text'] == 'Low'), feature1)"
   ]
  },
  {
   "cell_type": "markdown",
   "metadata": {},
   "source": [
    "3- El umbral para establecer medidas preventivas de la reincidencia es de 7 en adelante. Dado este umbral, generar una tabla de contingencia, \n",
    "   explicando qué caso se considera como “positivo” (y, por lo tanto, cuáles son los errores de tipo I y los errores de tipo II)."
   ]
  },
  {
   "cell_type": "code",
   "execution_count": 46,
   "metadata": {},
   "outputs": [],
   "source": [
    "# Model2 para las predicciones de REINCIDENTE \"is_recid\"\n",
    "def model2(caso):\n",
    "    if caso['is_recid'] == 1 or caso['is_violent_recid'] == 1 and caso['age_cat'=='25 - 45'] and caso['sex'] == ('Male'):\n",
    "        return 1\n",
    "    else:\n",
    "        return 0\n",
    "\n",
    "feature2 = df1.apply(lambda x: model2(x), axis = 1).rename('Predicción')"
   ]
  },
  {
   "cell_type": "code",
   "execution_count": 47,
   "metadata": {},
   "outputs": [
    {
     "data": {
      "text/plain": [
       "0.6175484622683529"
      ]
     },
     "execution_count": 47,
     "metadata": {},
     "output_type": "execute_result"
    }
   ],
   "source": [
    "# Feature2 nos da un valor más próximo a 1, \"0.62\" lo que nos dice que su predicción es medianemente correcta.\n",
    "roc_auc_score((df1['decile_score'] >= 7), feature2)"
   ]
  },
  {
   "cell_type": "code",
   "execution_count": 48,
   "metadata": {},
   "outputs": [
    {
     "data": {
      "text/html": [
       "<div>\n",
       "<style scoped>\n",
       "    .dataframe tbody tr th:only-of-type {\n",
       "        vertical-align: middle;\n",
       "    }\n",
       "\n",
       "    .dataframe tbody tr th {\n",
       "        vertical-align: top;\n",
       "    }\n",
       "\n",
       "    .dataframe thead th {\n",
       "        text-align: right;\n",
       "    }\n",
       "</style>\n",
       "<table border=\"1\" class=\"dataframe\">\n",
       "  <thead>\n",
       "    <tr style=\"text-align: right;\">\n",
       "      <th>decile_score</th>\n",
       "      <th>False</th>\n",
       "      <th>True</th>\n",
       "    </tr>\n",
       "    <tr>\n",
       "      <th>Predicción</th>\n",
       "      <th></th>\n",
       "      <th></th>\n",
       "    </tr>\n",
       "  </thead>\n",
       "  <tbody>\n",
       "    <tr>\n",
       "      <th>0</th>\n",
       "      <td>5868</td>\n",
       "      <td>1458</td>\n",
       "    </tr>\n",
       "    <tr>\n",
       "      <th>1</th>\n",
       "      <td>2198</td>\n",
       "      <td>1503</td>\n",
       "    </tr>\n",
       "  </tbody>\n",
       "</table>\n",
       "</div>"
      ],
      "text/plain": [
       "decile_score  False  True \n",
       "Predicción                \n",
       "0              5868   1458\n",
       "1              2198   1503"
      ]
     },
     "execution_count": 48,
     "metadata": {},
     "output_type": "execute_result"
    }
   ],
   "source": [
    "# Como se puede ver en la tabla de contigencia \"tc2\" según la predicción tenemos: \n",
    "    \n",
    "    # ERRORES TIPO I / FALSOS POSITIVOS \n",
    "    # (esquina superior derecha - True/0)  1.458 casos \n",
    "    # NO POSIBLES REINCIDENTES cuando en verdad su decile_score es >= 7 \n",
    "\n",
    "    # ERRORES TIPO II / FALSOS NEGATIVOS \n",
    "    # (esquina inferior izquierda - False/1) 2.198 casos \n",
    "    # POSIBLES REINCIDENTES cuando en verdad su decile_score es >=7    \n",
    "\n",
    "tc2 = pd.crosstab(feature2, (df1['decile_score'] >= 7))\n",
    "tc2"
   ]
  },
  {
   "cell_type": "markdown",
   "metadata": {},
   "source": [
    "4- El sistema asigna, de media, evaluaciones de riesgo más altas a los hombres que a las mujeres, y a las personas de raza afroamericana que a las de raza caucásica. \n",
    "   \n",
    "   Sin embargo, también las tasas de reincidencia son más altas para esos colectivos, aunque no está claro que la asignación de riesgo sea “justa” o no. \n",
    "\n",
    "   Mostrar estas diferencias mediante representaciones gráficas y utilizarlas para analizar si la asignación de evaluaciones es justa o no."
   ]
  },
  {
   "cell_type": "code",
   "execution_count": 49,
   "metadata": {},
   "outputs": [
    {
     "name": "stdout",
     "output_type": "stream",
     "text": [
      "Columna: decile_score - Tipo de datos: int64\n",
      "Número de valores nulos: 0 - Número de valores distintos: 10\n",
      "Valores más frecuentes:\n",
      "1 \t 2368\n",
      "2 \t 1478\n",
      "3 \t 1167\n",
      "4 \t 1130\n",
      "5 \t 982\n",
      "6 \t 941\n",
      "7 \t 862\n",
      "9 \t 761\n",
      "8 \t 758\n",
      "10 \t 580\n",
      "Columna: v_decile_score - Tipo de datos: int64\n",
      "Número de valores nulos: 0 - Número de valores distintos: 10\n",
      "Valores más frecuentes:\n",
      "1 \t 3095\n",
      "2 \t 1689\n",
      "3 \t 1483\n",
      "4 \t 1180\n",
      "5 \t 1017\n",
      "6 \t 855\n",
      "7 \t 644\n",
      "8 \t 454\n",
      "9 \t 423\n",
      "10 \t 187\n"
     ]
    }
   ],
   "source": [
    "# Creamos una copia del dataframe inicial \"df1\" para trabajar independientemente sin afectar al resto de dataframes con los cambios que vayamos a realizar.\n",
    "df2 = df1[['id', 'name', 'sex', 'age', 'age_cat', 'race', 'c_charge_degree', 'is_recid', 'is_violent_recid',\n",
    "           'decile_score', 'v_decile_score', 'score_text', 'v_score_text', 'r_offense_date', 'vr_offense_date']].copy()\n",
    "\n",
    "desc_column(df2, 'decile_score')\n",
    "desc_column(df2, 'v_decile_score')"
   ]
  },
  {
   "cell_type": "markdown",
   "metadata": {},
   "source": [
    "4.1- Comenzaremos graficando decile_score y analizando uno a uno las variables ETNIA y GENERO para los tres grupos con más registros"
   ]
  },
  {
   "cell_type": "code",
   "execution_count": 50,
   "metadata": {},
   "outputs": [
    {
     "name": "stdout",
     "output_type": "stream",
     "text": [
      "Columna: race - Tipo de datos: object\n",
      "Número de valores nulos: 0 - Número de valores distintos: 6\n",
      "Valores más frecuentes:\n",
      "African-American \t 5498\n",
      "Caucasian \t 3811\n",
      "Hispanic \t 1009\n",
      "Other \t 620\n",
      "Asian \t 53\n",
      "Native American \t 36\n"
     ]
    },
    {
     "data": {
      "image/png": "[encoded data removed]",
      "text/plain": [
       "<Figure size 720x576 with 3 Axes>"
      ]
     },
     "metadata": {},
     "output_type": "display_data"
    }
   ],
   "source": [
    "# ETNIA  DECILE SCORE\n",
    "# Como se puede ver en el gráfico, la distribucion de las personas Afroamericanas es uniforme de 1 a 10, \n",
    "# para las demás etnias, en todos de los casos, los valores se concentran y son más altos en 1 y van bajando progresivamente hasta 10, lo cual nos\n",
    "# indica que presentan menor tendencia a reincidir.\n",
    "\n",
    "desc_column(df2, 'race')\n",
    "\n",
    "df_race_ds = df2.groupby('race')\n",
    "race_count_ds = df2.groupby('race')['name'].count()\n",
    "\n",
    "fig, ax = plt.subplots(3, figsize=(10, 8))\n",
    "\n",
    "for (i, race) in enumerate(['African-American', 'Caucasian', 'Hispanic']):\n",
    "    ((df_race_ds.get_group(race).groupby('decile_score')['name'].count()).plot(kind='bar', ax=ax[i], color='#35bd26', width = 0.6))\n",
    "      \n",
    "    ax[i].set_ylabel(race)\n",
    "    ax[i].set_xlabel('')\n",
    "\n",
    "    \n",
    "fig.suptitle(\"Frecuencia Score por Etnias\")\n",
    "plt.show()"
   ]
  },
  {
   "cell_type": "code",
   "execution_count": 51,
   "metadata": {},
   "outputs": [
    {
     "name": "stdout",
     "output_type": "stream",
     "text": [
      "Columna: sex - Tipo de datos: object\n",
      "Número de valores nulos: 0 - Número de valores distintos: 2\n",
      "Valores más frecuentes:\n",
      "Male \t 8764\n",
      "Female \t 2263\n"
     ]
    },
    {
     "data": {
      "image/png": "[encoded data removed]",
      "text/plain": [
       "<Figure size 720x576 with 2 Axes>"
      ]
     },
     "metadata": {},
     "output_type": "display_data"
    }
   ],
   "source": [
    "# GENERO  DECILE SCORE\n",
    "# Este gráfico nos muestra una clara preponderancia en cuanto a la cantidad de HOMBRES respecto de MUJERES en todos los niveles con mas del triple, \n",
    "# estando ambos concentrados en los primeros 6 niveles y con una visible tendencia decreciente de menor a mayor posibilidad de reincidencia.\n",
    "\n",
    "desc_column(df2, 'sex')\n",
    "\n",
    "df_sex_ds = df2.groupby('sex')\n",
    "sex_count_ds = df2.groupby('sex')['name'].count()\n",
    "\n",
    "fig, ax = plt.subplots(2, figsize=(10, 8))\n",
    "\n",
    "for (i, sex) in enumerate(['Male', 'Female']):\n",
    "    ((df_sex_ds.get_group(sex).groupby('decile_score')['name'].count()).plot(kind='bar', ax=ax[i], color='#4091ed'))\n",
    "    \n",
    "    ax[i].set_ylabel(sex)\n",
    "    ax[i].set_xlabel('')\n",
    "   \n",
    "fig.suptitle(\"Frecuencia Score por Genero\")\n",
    "plt.show()"
   ]
  },
  {
   "cell_type": "code",
   "execution_count": 52,
   "metadata": {},
   "outputs": [
    {
     "name": "stdout",
     "output_type": "stream",
     "text": [
      "Columna: race - Tipo de datos: object\n",
      "Número de valores nulos: 0 - Número de valores distintos: 6\n",
      "Valores más frecuentes:\n",
      "African-American \t 5498\n",
      "Caucasian \t 3811\n",
      "Hispanic \t 1009\n",
      "Other \t 620\n",
      "Asian \t 53\n",
      "Native American \t 36\n"
     ]
    },
    {
     "data": {
      "image/png": "[encoded data removed]",
      "text/plain": [
       "<Figure size 720x576 with 3 Axes>"
      ]
     },
     "metadata": {},
     "output_type": "display_data"
    }
   ],
   "source": [
    "# ETNIA  VIOLENT DECILE SCORE\n",
    "# Como se puede ver en el gráfico, la distribucion de las personas Afroamericanas con Riesgo de Reincidencia Violenta tiene un comportamiento decreciente concentradose el mayor numero de casos,\n",
    "# en los niveles más bajos de riesgo 1. Esto muestra una diferencia notable en cuanto a los registros de este grupo en Riesgo de Reincidencia. DECILE SCORE.  \n",
    "# Para las otras dos etnias, los valores se concentran y son más altos en 1 y van bajando progresivamente hasta 10, tal y como se obserba en el indicador \n",
    "# anterior DECILE SCORE.\n",
    "\n",
    "desc_column(df2, 'race')\n",
    "\n",
    "df_race_vds = df2.groupby('race')\n",
    "race_count_vds = df2.groupby('race')['name'].count()\n",
    "\n",
    "fig, ax = plt.subplots(3, figsize=(10, 8))\n",
    "\n",
    "for (i, race) in enumerate(['African-American', 'Caucasian', 'Hispanic']):\n",
    "    ((df_race_vds.get_group(race).groupby('v_decile_score')['name'].count()).plot(kind='bar', ax=ax[i], color='#63f707', width = 0.6))\n",
    "    \n",
    "    ax[i].set_ylabel(race)\n",
    "    ax[i].set_xlabel('')\n",
    "   \n",
    "fig.suptitle(\"Frecuencia Score por Etnias\")\n",
    "plt.show()"
   ]
  },
  {
   "cell_type": "code",
   "execution_count": 53,
   "metadata": {},
   "outputs": [
    {
     "name": "stdout",
     "output_type": "stream",
     "text": [
      "Columna: sex - Tipo de datos: object\n",
      "Número de valores nulos: 0 - Número de valores distintos: 2\n",
      "Valores más frecuentes:\n",
      "Male \t 8764\n",
      "Female \t 2263\n"
     ]
    },
    {
     "data": {
      "image/png": "[encoded data removed]",
      "text/plain": [
       "<Figure size 720x576 with 2 Axes>"
      ]
     },
     "metadata": {},
     "output_type": "display_data"
    }
   ],
   "source": [
    "# GENERO  VIOLENT DECILE SCORE\n",
    "# Como en el gráfico anterior la concentración de cantidad de HOMBRES respecto de MUJERES en todos los niveles es mayor, aunque el puntaje de posibles reincidentes, \n",
    "# estan más concentrados en los primeros 6 niveles y con una visible tendencia decreciente de menor a mayor posibilidad de reincidencia.\n",
    "\n",
    "desc_column(df2, 'sex')\n",
    "\n",
    "df_sex_vds = df2.groupby('sex')\n",
    "sex_count_vds = df2.groupby('sex')['name'].count()\n",
    "\n",
    "fig, ax = plt.subplots(2, figsize=(10, 8))\n",
    "\n",
    "for (i, sex) in enumerate(['Male', 'Female']):\n",
    "    ((df_sex_vds.get_group(sex).groupby('v_decile_score')['name'].count()).plot(kind='bar', ax=ax[i], color='#1136f2', width = 0.6))\n",
    "         \n",
    "    ax[i].set_ylabel(sex)\n",
    "    ax[i].set_xlabel('')\n",
    "\n",
    "fig.suptitle(\"Frecuencia Score por Genero\")\n",
    "plt.show()"
   ]
  },
  {
   "cell_type": "markdown",
   "metadata": {},
   "source": [
    "4.2-  Como segundo paso graficaremos REINCIDENTES \"is_recid\" y REINCIDENTES VIOLENTOS analizando uno a uno las variables ETNIA y GENERO para los tres grupos con más registros"
   ]
  },
  {
   "cell_type": "code",
   "execution_count": 54,
   "metadata": {},
   "outputs": [],
   "source": [
    "df_rein = df2 [[ 'sex', 'race', 'is_recid', 'is_violent_recid']].copy()"
   ]
  },
  {
   "cell_type": "code",
   "execution_count": 55,
   "metadata": {},
   "outputs": [],
   "source": [
    "rein = df_rein[df_rein.is_recid==1]"
   ]
  },
  {
   "cell_type": "code",
   "execution_count": 56,
   "metadata": {},
   "outputs": [],
   "source": [
    "# Reenumera las filas desde cero nuevamente\n",
    "rein.reset_index(inplace=True, drop=True)"
   ]
  },
  {
   "cell_type": "code",
   "execution_count": 57,
   "metadata": {},
   "outputs": [],
   "source": [
    "rein_vio = df_rein[df_rein.is_violent_recid==1]"
   ]
  },
  {
   "cell_type": "code",
   "execution_count": 58,
   "metadata": {},
   "outputs": [],
   "source": [
    "# Reenumera las filas desde cero nuevamente\n",
    "rein_vio.reset_index(inplace=True, drop=True)"
   ]
  },
  {
   "cell_type": "code",
   "execution_count": 59,
   "metadata": {},
   "outputs": [],
   "source": [
    "# Reincidentes por grupo etnico\n",
    "resid_race = rein.groupby('race')['is_recid'].count()\n",
    "total_is_resid = resid_race[:].sum()"
   ]
  },
  {
   "cell_type": "code",
   "execution_count": 60,
   "metadata": {},
   "outputs": [],
   "source": [
    "# Reincidente violentos por grupo etnico\n",
    "resid_race_vio = rein_vio.groupby('race')['is_violent_recid'].count()\n",
    "total_is_resid_vio = resid_race_vio[:].sum()"
   ]
  },
  {
   "cell_type": "code",
   "execution_count": 61,
   "metadata": {},
   "outputs": [],
   "source": [
    "# Reincidente por genero\n",
    "resid_sex = rein.groupby('sex')['is_recid'].count()\n",
    "total_is_resid_sex = resid_sex[:].sum()"
   ]
  },
  {
   "cell_type": "code",
   "execution_count": 62,
   "metadata": {},
   "outputs": [],
   "source": [
    "# Reincidente violentos por genero\n",
    "resid_sex_vio = rein_vio.groupby('sex')['is_violent_recid'].count()\n",
    "total_is_resid_vio_sex = resid_sex_vio[:].sum()"
   ]
  },
  {
   "cell_type": "code",
   "execution_count": 63,
   "metadata": {},
   "outputs": [
    {
     "name": "stdout",
     "output_type": "stream",
     "text": [
      "race\n",
      "African-American    58.74\n",
      "Asian                0.30\n",
      "Caucasian           29.40\n",
      "Hispanic             7.05\n",
      "Native American      0.35\n",
      "Other                4.16\n",
      "Name: is_recid, dtype: float64\n"
     ]
    }
   ],
   "source": [
    "# Reincidentes por grupo etnico en porcentajes\n",
    "colum_perce = resid_race[:]*100/total_is_resid\n",
    "values = pd.Series([round(val, 2) for val in colum_perce])\n",
    "colum_perce[0:] = values\n",
    "print(colum_perce)"
   ]
  },
  {
   "cell_type": "code",
   "execution_count": 64,
   "metadata": {},
   "outputs": [
    {
     "name": "stdout",
     "output_type": "stream",
     "text": [
      "race\n",
      "African-American    61.34\n",
      "Asian                0.45\n",
      "Caucasian           26.42\n",
      "Hispanic             6.58\n",
      "Native American      0.68\n",
      "Other                4.54\n",
      "Name: is_violent_recid, dtype: float64\n"
     ]
    }
   ],
   "source": [
    "# Reincidentes violentos por grupo etnico en porcentajes\n",
    "colum_perce1 = resid_race_vio[:]*100/total_is_resid_vio\n",
    "values1 = pd.Series([round(val, 2) for val in colum_perce1])\n",
    "colum_perce1[0:] = values1\n",
    "print(colum_perce1)"
   ]
  },
  {
   "cell_type": "code",
   "execution_count": 65,
   "metadata": {},
   "outputs": [
    {
     "name": "stdout",
     "output_type": "stream",
     "text": [
      "sex\n",
      "Female    15.56\n",
      "Male      84.44\n",
      "Name: is_recid, dtype: float64\n"
     ]
    }
   ],
   "source": [
    "# Reincidentes por genero en porcentajes\n",
    "colum_perce2 = resid_sex[:]*100/total_is_resid_sex\n",
    "values2 = pd.Series([round(val, 2) for val in colum_perce2])\n",
    "colum_perce2[0:] = values2\n",
    "print(colum_perce2)"
   ]
  },
  {
   "cell_type": "code",
   "execution_count": 66,
   "metadata": {},
   "outputs": [
    {
     "name": "stdout",
     "output_type": "stream",
     "text": [
      "sex\n",
      "Female    13.27\n",
      "Male      86.73\n",
      "Name: is_violent_recid, dtype: float64\n"
     ]
    }
   ],
   "source": [
    "# Reincidentes violentos por genero en porcentajes\n",
    "colum_perce3 = resid_sex_vio[:]*100/total_is_resid_vio_sex\n",
    "values3 = pd.Series([round(val, 2) for val in colum_perce3])\n",
    "colum_perce3[0:] = values3\n",
    "print(colum_perce3)"
   ]
  },
  {
   "cell_type": "markdown",
   "metadata": {},
   "source": [
    "Los dos gráficos nos muestran claramente la prevalecencia de los Afroamericanos en numero de REINCIDENTES en comparacion con los otros grupos con 58,7% de reincidencia y 61,35 en Reincidencia con Violencia.\n",
    "Los caucasicos representan el segundo grupo mayoritario con un 29,4% de Reincidentes y  26,4% Reincidentes Violentos.\n",
    "En tercer lugar esta el grupo de los hispanos con un 7% de reincidencia y un 6,6% de Reincidencia con violencia."
   ]
  },
  {
   "cell_type": "code",
   "execution_count": 67,
   "metadata": {},
   "outputs": [
    {
     "data": {
      "image/png": "[encoded data removed]",
      "text/plain": [
       "<Figure size 648x432 with 1 Axes>"
      ]
     },
     "metadata": {},
     "output_type": "display_data"
    }
   ],
   "source": [
    "# Gráfico REINCIDENTES por ETNIA \n",
    "ax = colum_perce.plot(x='race', y=['is_recid'], kind=\"bar\", figsize=(9,6), color='red', width = 0.6)\n",
    "totals= []\n",
    "for i in ax.patches:\n",
    "    totals.append(i.get_height())\n",
    "    \n",
    "total = sum(totals)\n",
    "\n",
    "for i in ax.patches:\n",
    "    ax.text(i.get_x()-.02, i.get_height()+.08,\\\n",
    "            str(round((i.get_height()/total)*100,2))+'%', fontsize=10, color='dimgrey')"
   ]
  },
  {
   "cell_type": "code",
   "execution_count": 68,
   "metadata": {},
   "outputs": [
    {
     "data": {
      "image/png": "[encoded data removed]",
      "text/plain": [
       "<Figure size 648x432 with 1 Axes>"
      ]
     },
     "metadata": {},
     "output_type": "display_data"
    }
   ],
   "source": [
    "# Gráfico REINCIDENTES VIOLENTOS por ETNIA \n",
    "ax1 = colum_perce1.plot(x='race', y=['is_violent_recid'], kind=\"bar\", figsize=(9,6), color='orange', width = 0.6)\n",
    "\n",
    "totals1= []\n",
    "for i in ax1.patches:\n",
    "    totals1.append(i.get_height())\n",
    "    \n",
    "total1 = sum(totals1)\n",
    "\n",
    "for i in ax1.patches:\n",
    "    ax1.text(i.get_x()-.02, i.get_height()+.08,\\\n",
    "            str(round((i.get_height()/total1)*100,2))+'%', fontsize=10, color='dimgrey')"
   ]
  },
  {
   "cell_type": "markdown",
   "metadata": {},
   "source": [
    "Los otros dos gráficos agrupados por Genero nos muestra una la prevalecencia mayoritaria de los hombres que para el caso de Reincidentes es del 84,4%.\n",
    "Los hombres son con diferencia tambien el grupo mas grande con un 86,7% de Reincidentes con Violencia frente a las mujeres que representan un 13,3%."
   ]
  },
  {
   "cell_type": "code",
   "execution_count": 69,
   "metadata": {},
   "outputs": [
    {
     "data": {
      "image/png": "[encoded data removed]",
      "text/plain": [
       "<Figure size 288x432 with 1 Axes>"
      ]
     },
     "metadata": {},
     "output_type": "display_data"
    }
   ],
   "source": [
    "# Gráfico REINCIDENTES por SEXO \n",
    "ax2 = colum_perce2.plot(x='sex', y=['is_recid'], kind=\"bar\", figsize=(4,6), color='lightgreen', width = 0.4)\n",
    "\n",
    "totals2= []\n",
    "for i in ax2.patches:\n",
    "    totals2.append(i.get_height())\n",
    "    \n",
    "total2 = sum(totals2)\n",
    "\n",
    "for i in ax2.patches:\n",
    "    ax2.text(i.get_x()-.02, i.get_height()+.08,\\\n",
    "            str(round((i.get_height()/total2)*100,2))+'%', fontsize=10, color='dimgrey')"
   ]
  },
  {
   "cell_type": "code",
   "execution_count": 70,
   "metadata": {},
   "outputs": [
    {
     "data": {
      "image/png": "[encoded data removed]",
      "text/plain": [
       "<Figure size 288x432 with 1 Axes>"
      ]
     },
     "metadata": {},
     "output_type": "display_data"
    }
   ],
   "source": [
    "# Gráfico REINCIDENTES VIOLENTOS por SEXO \n",
    "ax3 = colum_perce3.plot(x='race', y=['is_violent_recid'], kind=\"bar\", figsize=(4,6), color='green', width = 0.4)\n",
    "\n",
    "totals3= []\n",
    "for i in ax3.patches:\n",
    "    totals3.append(i.get_height())\n",
    "    \n",
    "total3 = sum(totals3)\n",
    "\n",
    "for i in ax3.patches:\n",
    "    ax3.text(i.get_x()-.02, i.get_height()+.08,\\\n",
    "            str(round((i.get_height()/total1)*100,2))+'%', fontsize=10, color='dimgrey')"
   ]
  },
  {
   "cell_type": "markdown",
   "metadata": {},
   "source": [
    "5- ¿Para qué tipo de riesgos, el de delitos generales o el de delitos violentos, tiene el sistema más capacidad predictiva?"
   ]
  },
  {
   "cell_type": "code",
   "execution_count": 71,
   "metadata": {},
   "outputs": [],
   "source": [
    "# Basandonos en las dos features creadas y los resultados que obtenemos podriamos indicar que ambas variables tienen un poder predictivo similar aunque la primera en conjunto se acerca al \"0.5\".\n",
    "# Al utilizar la informacion de las columnas efectivamente reincidentes \"==1\"  para ambas variables conseguimos un valor mas alto \"0.62\" por lo que podria asumir que ambas datas poseen un poder predictivo similar para las dos variables."
   ]
  }
 ],
 "metadata": {
  "kernelspec": {
   "display_name": "Python 3 (ipykernel)",
   "language": "python",
   "name": "python3"
  },
  "language_info": {
   "codemirror_mode": {
    "name": "ipython",
    "version": 3
   },
   "file_extension": ".py",
   "mimetype": "text/x-python",
   "name": "python",
   "nbconvert_exporter": "python",
   "pygments_lexer": "ipython3",
   "version": "3.8.10"
  }
 },
 "nbformat": 4,
 "nbformat_minor": 4
}
