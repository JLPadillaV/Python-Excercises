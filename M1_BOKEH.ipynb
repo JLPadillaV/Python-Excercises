{
 "cells": [
  {
   "cell_type": "markdown",
   "metadata": {},
   "source": [
    "# Jose Luis Padilla "
   ]
  },
  {
   "cell_type": "markdown",
   "metadata": {},
   "source": [
    "# BOKEH\n",
    "\n",
    "En Python, una de las librerías más potentes para comunicar e interactuar con los resultados, **Bokeh** destaca por las siguientes características:\n",
    "* Hace simple la creación de gráficos dinámicos.\n",
    "* Permite crear widgets en los que mostrar la evolución de un gráfico con diferentes valores.\n",
    "* Sus gráficos y cuadros de mando pueden ser publicados en páginas web o notebooks.\n",
    "* Optimizada para trabajar con las librerías más importantes de Python: Pandas, Numpy, Scipy, OpenCV, Scikit-Learn...\n",
    "\n",
    "Lo primero que realizaremos será importar la librería bokeh con la funcionalidad de mostrar los resultados de las gráficas dentro de notebook."
   ]
  },
  {
   "cell_type": "code",
   "execution_count": 1,
   "metadata": {},
   "outputs": [],
   "source": [
    "from bokeh.io import output_notebook, show"
   ]
  },
  {
   "cell_type": "markdown",
   "metadata": {},
   "source": [
    "Ahora, es importante cerciorarnos de que bokeh puede trabajar correctamente, para ello cargaremos la función <code>**output_notebook**</code>"
   ]
  },
  {
   "cell_type": "code",
   "execution_count": 2,
   "metadata": {},
   "outputs": [
    {
     "data": {
      "text/html": [
       "\n",
       "    <div class=\"bk-root\">\n",
       "        <a href=\"https://bokeh.org\" target=\"_blank\" class=\"bk-logo bk-logo-small bk-logo-notebook\"></a>\n",
       "        <span id=\"1001\">Loading BokehJS ...</span>\n",
       "    </div>"
      ]
     },
     "metadata": {},
     "output_type": "display_data"
    },
    {
     "data": {
      "application/javascript": [
       "\n",
       "(function(root) {\n",
       "  function now() {\n",
       "    return new Date();\n",
       "  }\n",
       "\n",
       "  var force = true;\n",
       "\n",
       "  if (typeof root._bokeh_onload_callbacks === \"undefined\" || force === true) {\n",
       "    root._bokeh_onload_callbacks = [];\n",
       "    root._bokeh_is_loading = undefined;\n",
       "  }\n",
       "\n",
       "  var JS_MIME_TYPE = 'application/javascript';\n",
       "  var HTML_MIME_TYPE = 'text/html';\n",
       "  var EXEC_MIME_TYPE = 'application/vnd.bokehjs_exec.v0+json';\n",
       "  var CLASS_NAME = 'output_bokeh rendered_html';\n",
       "\n",
       "  /**\n",
       "   * Render data to the DOM node\n",
       "   */\n",
       "  function render(props, node) {\n",
       "    var script = document.createElement(\"script\");\n",
       "    node.appendChild(script);\n",
       "  }\n",
       "\n",
       "  /**\n",
       "   * Handle when an output is cleared or removed\n",
       "   */\n",
       "  function handleClearOutput(event, handle) {\n",
       "    var cell = handle.cell;\n",
       "\n",
       "    var id = cell.output_area._bokeh_element_id;\n",
       "    var server_id = cell.output_area._bokeh_server_id;\n",
       "    // Clean up Bokeh references\n",
       "    if (id != null && id in Bokeh.index) {\n",
       "      Bokeh.index[id].model.document.clear();\n",
       "      delete Bokeh.index[id];\n",
       "    }\n",
       "\n",
       "    if (server_id !== undefined) {\n",
       "      // Clean up Bokeh references\n",
       "      var cmd = \"from bokeh.io.state import curstate; print(curstate().uuid_to_server['\" + server_id + \"'].get_sessions()[0].document.roots[0]._id)\";\n",
       "      cell.notebook.kernel.execute(cmd, {\n",
       "        iopub: {\n",
       "          output: function(msg) {\n",
       "            var id = msg.content.text.trim();\n",
       "            if (id in Bokeh.index) {\n",
       "              Bokeh.index[id].model.document.clear();\n",
       "              delete Bokeh.index[id];\n",
       "            }\n",
       "          }\n",
       "        }\n",
       "      });\n",
       "      // Destroy server and session\n",
       "      var cmd = \"import bokeh.io.notebook as ion; ion.destroy_server('\" + server_id + \"')\";\n",
       "      cell.notebook.kernel.execute(cmd);\n",
       "    }\n",
       "  }\n",
       "\n",
       "  /**\n",
       "   * Handle when a new output is added\n",
       "   */\n",
       "  function handleAddOutput(event, handle) {\n",
       "    var output_area = handle.output_area;\n",
       "    var output = handle.output;\n",
       "\n",
       "    // limit handleAddOutput to display_data with EXEC_MIME_TYPE content only\n",
       "    if ((output.output_type != \"display_data\") || (!output.data.hasOwnProperty(EXEC_MIME_TYPE))) {\n",
       "      return\n",
       "    }\n",
       "\n",
       "    var toinsert = output_area.element.find(\".\" + CLASS_NAME.split(' ')[0]);\n",
       "\n",
       "    if (output.metadata[EXEC_MIME_TYPE][\"id\"] !== undefined) {\n",
       "      toinsert[toinsert.length - 1].firstChild.textContent = output.data[JS_MIME_TYPE];\n",
       "      // store reference to embed id on output_area\n",
       "      output_area._bokeh_element_id = output.metadata[EXEC_MIME_TYPE][\"id\"];\n",
       "    }\n",
       "    if (output.metadata[EXEC_MIME_TYPE][\"server_id\"] !== undefined) {\n",
       "      var bk_div = document.createElement(\"div\");\n",
       "      bk_div.innerHTML = output.data[HTML_MIME_TYPE];\n",
       "      var script_attrs = bk_div.children[0].attributes;\n",
       "      for (var i = 0; i < script_attrs.length; i++) {\n",
       "        toinsert[toinsert.length - 1].firstChild.setAttribute(script_attrs[i].name, script_attrs[i].value);\n",
       "        toinsert[toinsert.length - 1].firstChild.textContent = bk_div.children[0].textContent\n",
       "      }\n",
       "      // store reference to server id on output_area\n",
       "      output_area._bokeh_server_id = output.metadata[EXEC_MIME_TYPE][\"server_id\"];\n",
       "    }\n",
       "  }\n",
       "\n",
       "  function register_renderer(events, OutputArea) {\n",
       "\n",
       "    function append_mime(data, metadata, element) {\n",
       "      // create a DOM node to render to\n",
       "      var toinsert = this.create_output_subarea(\n",
       "        metadata,\n",
       "        CLASS_NAME,\n",
       "        EXEC_MIME_TYPE\n",
       "      );\n",
       "      this.keyboard_manager.register_events(toinsert);\n",
       "      // Render to node\n",
       "      var props = {data: data, metadata: metadata[EXEC_MIME_TYPE]};\n",
       "      render(props, toinsert[toinsert.length - 1]);\n",
       "      element.append(toinsert);\n",
       "      return toinsert\n",
       "    }\n",
       "\n",
       "    /* Handle when an output is cleared or removed */\n",
       "    events.on('clear_output.CodeCell', handleClearOutput);\n",
       "    events.on('delete.Cell', handleClearOutput);\n",
       "\n",
       "    /* Handle when a new output is added */\n",
       "    events.on('output_added.OutputArea', handleAddOutput);\n",
       "\n",
       "    /**\n",
       "     * Register the mime type and append_mime function with output_area\n",
       "     */\n",
       "    OutputArea.prototype.register_mime_type(EXEC_MIME_TYPE, append_mime, {\n",
       "      /* Is output safe? */\n",
       "      safe: true,\n",
       "      /* Index of renderer in `output_area.display_order` */\n",
       "      index: 0\n",
       "    });\n",
       "  }\n",
       "\n",
       "  // register the mime type if in Jupyter Notebook environment and previously unregistered\n",
       "  if (root.Jupyter !== undefined) {\n",
       "    var events = require('base/js/events');\n",
       "    var OutputArea = require('notebook/js/outputarea').OutputArea;\n",
       "\n",
       "    if (OutputArea.prototype.mime_types().indexOf(EXEC_MIME_TYPE) == -1) {\n",
       "      register_renderer(events, OutputArea);\n",
       "    }\n",
       "  }\n",
       "\n",
       "  \n",
       "  if (typeof (root._bokeh_timeout) === \"undefined\" || force === true) {\n",
       "    root._bokeh_timeout = Date.now() + 5000;\n",
       "    root._bokeh_failed_load = false;\n",
       "  }\n",
       "\n",
       "  var NB_LOAD_WARNING = {'data': {'text/html':\n",
       "     \"<div style='background-color: #fdd'>\\n\"+\n",
       "     \"<p>\\n\"+\n",
       "     \"BokehJS does not appear to have successfully loaded. If loading BokehJS from CDN, this \\n\"+\n",
       "     \"may be due to a slow or bad network connection. Possible fixes:\\n\"+\n",
       "     \"</p>\\n\"+\n",
       "     \"<ul>\\n\"+\n",
       "     \"<li>re-rerun `output_notebook()` to attempt to load from CDN again, or</li>\\n\"+\n",
       "     \"<li>use INLINE resources instead, as so:</li>\\n\"+\n",
       "     \"</ul>\\n\"+\n",
       "     \"<code>\\n\"+\n",
       "     \"from bokeh.resources import INLINE\\n\"+\n",
       "     \"output_notebook(resources=INLINE)\\n\"+\n",
       "     \"</code>\\n\"+\n",
       "     \"</div>\"}};\n",
       "\n",
       "  function display_loaded() {\n",
       "    var el = document.getElementById(\"1001\");\n",
       "    if (el != null) {\n",
       "      el.textContent = \"BokehJS is loading...\";\n",
       "    }\n",
       "    if (root.Bokeh !== undefined) {\n",
       "      if (el != null) {\n",
       "        el.textContent = \"BokehJS \" + root.Bokeh.version + \" successfully loaded.\";\n",
       "      }\n",
       "    } else if (Date.now() < root._bokeh_timeout) {\n",
       "      setTimeout(display_loaded, 100)\n",
       "    }\n",
       "  }\n",
       "\n",
       "\n",
       "  function run_callbacks() {\n",
       "    try {\n",
       "      root._bokeh_onload_callbacks.forEach(function(callback) {\n",
       "        if (callback != null)\n",
       "          callback();\n",
       "      });\n",
       "    } finally {\n",
       "      delete root._bokeh_onload_callbacks\n",
       "    }\n",
       "    console.debug(\"Bokeh: all callbacks have finished\");\n",
       "  }\n",
       "\n",
       "  function load_libs(css_urls, js_urls, callback) {\n",
       "    if (css_urls == null) css_urls = [];\n",
       "    if (js_urls == null) js_urls = [];\n",
       "\n",
       "    root._bokeh_onload_callbacks.push(callback);\n",
       "    if (root._bokeh_is_loading > 0) {\n",
       "      console.debug(\"Bokeh: BokehJS is being loaded, scheduling callback at\", now());\n",
       "      return null;\n",
       "    }\n",
       "    if (js_urls == null || js_urls.length === 0) {\n",
       "      run_callbacks();\n",
       "      return null;\n",
       "    }\n",
       "    console.debug(\"Bokeh: BokehJS not loaded, scheduling load and callback at\", now());\n",
       "    root._bokeh_is_loading = css_urls.length + js_urls.length;\n",
       "\n",
       "    function on_load() {\n",
       "      root._bokeh_is_loading--;\n",
       "      if (root._bokeh_is_loading === 0) {\n",
       "        console.debug(\"Bokeh: all BokehJS libraries/stylesheets loaded\");\n",
       "        run_callbacks()\n",
       "      }\n",
       "    }\n",
       "\n",
       "    function on_error() {\n",
       "      console.error(\"failed to load \" + url);\n",
       "    }\n",
       "\n",
       "    for (var i = 0; i < css_urls.length; i++) {\n",
       "      var url = css_urls[i];\n",
       "      const element = document.createElement(\"link\");\n",
       "      element.onload = on_load;\n",
       "      element.onerror = on_error;\n",
       "      element.rel = \"stylesheet\";\n",
       "      element.type = \"text/css\";\n",
       "      element.href = url;\n",
       "      console.debug(\"Bokeh: injecting link tag for BokehJS stylesheet: \", url);\n",
       "      document.body.appendChild(element);\n",
       "    }\n",
       "\n",
       "    const hashes = {\"https://cdn.bokeh.org/bokeh/release/bokeh-2.2.3.min.js\": \"T2yuo9Oe71Cz/I4X9Ac5+gpEa5a8PpJCDlqKYO0CfAuEszu1JrXLl8YugMqYe3sM\", \"https://cdn.bokeh.org/bokeh/release/bokeh-widgets-2.2.3.min.js\": \"98GDGJ0kOMCUMUePhksaQ/GYgB3+NH9h996V88sh3aOiUNX3N+fLXAtry6xctSZ6\", \"https://cdn.bokeh.org/bokeh/release/bokeh-tables-2.2.3.min.js\": \"89bArO+nlbP3sgakeHjCo1JYxYR5wufVgA3IbUvDY+K7w4zyxJqssu7wVnfeKCq8\"};\n",
       "\n",
       "    for (var i = 0; i < js_urls.length; i++) {\n",
       "      var url = js_urls[i];\n",
       "      var element = document.createElement('script');\n",
       "      element.onload = on_load;\n",
       "      element.onerror = on_error;\n",
       "      element.async = false;\n",
       "      element.src = url;\n",
       "      if (url in hashes) {\n",
       "        element.crossOrigin = \"anonymous\";\n",
       "        element.integrity = \"sha384-\" + hashes[url];\n",
       "      }\n",
       "      console.debug(\"Bokeh: injecting script tag for BokehJS library: \", url);\n",
       "      document.head.appendChild(element);\n",
       "    }\n",
       "  };\n",
       "\n",
       "  function inject_raw_css(css) {\n",
       "    const element = document.createElement(\"style\");\n",
       "    element.appendChild(document.createTextNode(css));\n",
       "    document.body.appendChild(element);\n",
       "  }\n",
       "\n",
       "  \n",
       "  var js_urls = [\"https://cdn.bokeh.org/bokeh/release/bokeh-2.2.3.min.js\", \"https://cdn.bokeh.org/bokeh/release/bokeh-widgets-2.2.3.min.js\", \"https://cdn.bokeh.org/bokeh/release/bokeh-tables-2.2.3.min.js\"];\n",
       "  var css_urls = [];\n",
       "  \n",
       "\n",
       "  var inline_js = [\n",
       "    function(Bokeh) {\n",
       "      Bokeh.set_log_level(\"info\");\n",
       "    },\n",
       "    function(Bokeh) {\n",
       "    \n",
       "    \n",
       "    }\n",
       "  ];\n",
       "\n",
       "  function run_inline_js() {\n",
       "    \n",
       "    if (root.Bokeh !== undefined || force === true) {\n",
       "      \n",
       "    for (var i = 0; i < inline_js.length; i++) {\n",
       "      inline_js[i].call(root, root.Bokeh);\n",
       "    }\n",
       "    if (force === true) {\n",
       "        display_loaded();\n",
       "      }} else if (Date.now() < root._bokeh_timeout) {\n",
       "      setTimeout(run_inline_js, 100);\n",
       "    } else if (!root._bokeh_failed_load) {\n",
       "      console.log(\"Bokeh: BokehJS failed to load within specified timeout.\");\n",
       "      root._bokeh_failed_load = true;\n",
       "    } else if (force !== true) {\n",
       "      var cell = $(document.getElementById(\"1001\")).parents('.cell').data().cell;\n",
       "      cell.output_area.append_execute_result(NB_LOAD_WARNING)\n",
       "    }\n",
       "\n",
       "  }\n",
       "\n",
       "  if (root._bokeh_is_loading === 0) {\n",
       "    console.debug(\"Bokeh: BokehJS loaded, going straight to plotting\");\n",
       "    run_inline_js();\n",
       "  } else {\n",
       "    load_libs(css_urls, js_urls, function() {\n",
       "      console.debug(\"Bokeh: BokehJS plotting callback run at\", now());\n",
       "      run_inline_js();\n",
       "    });\n",
       "  }\n",
       "}(window));"
      ],
      "application/vnd.bokehjs_load.v0+json": "\n(function(root) {\n  function now() {\n    return new Date();\n  }\n\n  var force = true;\n\n  if (typeof root._bokeh_onload_callbacks === \"undefined\" || force === true) {\n    root._bokeh_onload_callbacks = [];\n    root._bokeh_is_loading = undefined;\n  }\n\n  \n\n  \n  if (typeof (root._bokeh_timeout) === \"undefined\" || force === true) {\n    root._bokeh_timeout = Date.now() + 5000;\n    root._bokeh_failed_load = false;\n  }\n\n  var NB_LOAD_WARNING = {'data': {'text/html':\n     \"<div style='background-color: #fdd'>\\n\"+\n     \"<p>\\n\"+\n     \"BokehJS does not appear to have successfully loaded. If loading BokehJS from CDN, this \\n\"+\n     \"may be due to a slow or bad network connection. Possible fixes:\\n\"+\n     \"</p>\\n\"+\n     \"<ul>\\n\"+\n     \"<li>re-rerun `output_notebook()` to attempt to load from CDN again, or</li>\\n\"+\n     \"<li>use INLINE resources instead, as so:</li>\\n\"+\n     \"</ul>\\n\"+\n     \"<code>\\n\"+\n     \"from bokeh.resources import INLINE\\n\"+\n     \"output_notebook(resources=INLINE)\\n\"+\n     \"</code>\\n\"+\n     \"</div>\"}};\n\n  function display_loaded() {\n    var el = document.getElementById(\"1001\");\n    if (el != null) {\n      el.textContent = \"BokehJS is loading...\";\n    }\n    if (root.Bokeh !== undefined) {\n      if (el != null) {\n        el.textContent = \"BokehJS \" + root.Bokeh.version + \" successfully loaded.\";\n      }\n    } else if (Date.now() < root._bokeh_timeout) {\n      setTimeout(display_loaded, 100)\n    }\n  }\n\n\n  function run_callbacks() {\n    try {\n      root._bokeh_onload_callbacks.forEach(function(callback) {\n        if (callback != null)\n          callback();\n      });\n    } finally {\n      delete root._bokeh_onload_callbacks\n    }\n    console.debug(\"Bokeh: all callbacks have finished\");\n  }\n\n  function load_libs(css_urls, js_urls, callback) {\n    if (css_urls == null) css_urls = [];\n    if (js_urls == null) js_urls = [];\n\n    root._bokeh_onload_callbacks.push(callback);\n    if (root._bokeh_is_loading > 0) {\n      console.debug(\"Bokeh: BokehJS is being loaded, scheduling callback at\", now());\n      return null;\n    }\n    if (js_urls == null || js_urls.length === 0) {\n      run_callbacks();\n      return null;\n    }\n    console.debug(\"Bokeh: BokehJS not loaded, scheduling load and callback at\", now());\n    root._bokeh_is_loading = css_urls.length + js_urls.length;\n\n    function on_load() {\n      root._bokeh_is_loading--;\n      if (root._bokeh_is_loading === 0) {\n        console.debug(\"Bokeh: all BokehJS libraries/stylesheets loaded\");\n        run_callbacks()\n      }\n    }\n\n    function on_error() {\n      console.error(\"failed to load \" + url);\n    }\n\n    for (var i = 0; i < css_urls.length; i++) {\n      var url = css_urls[i];\n      const element = document.createElement(\"link\");\n      element.onload = on_load;\n      element.onerror = on_error;\n      element.rel = \"stylesheet\";\n      element.type = \"text/css\";\n      element.href = url;\n      console.debug(\"Bokeh: injecting link tag for BokehJS stylesheet: \", url);\n      document.body.appendChild(element);\n    }\n\n    const hashes = {\"https://cdn.bokeh.org/bokeh/release/bokeh-2.2.3.min.js\": \"T2yuo9Oe71Cz/I4X9Ac5+gpEa5a8PpJCDlqKYO0CfAuEszu1JrXLl8YugMqYe3sM\", \"https://cdn.bokeh.org/bokeh/release/bokeh-widgets-2.2.3.min.js\": \"98GDGJ0kOMCUMUePhksaQ/GYgB3+NH9h996V88sh3aOiUNX3N+fLXAtry6xctSZ6\", \"https://cdn.bokeh.org/bokeh/release/bokeh-tables-2.2.3.min.js\": \"89bArO+nlbP3sgakeHjCo1JYxYR5wufVgA3IbUvDY+K7w4zyxJqssu7wVnfeKCq8\"};\n\n    for (var i = 0; i < js_urls.length; i++) {\n      var url = js_urls[i];\n      var element = document.createElement('script');\n      element.onload = on_load;\n      element.onerror = on_error;\n      element.async = false;\n      element.src = url;\n      if (url in hashes) {\n        element.crossOrigin = \"anonymous\";\n        element.integrity = \"sha384-\" + hashes[url];\n      }\n      console.debug(\"Bokeh: injecting script tag for BokehJS library: \", url);\n      document.head.appendChild(element);\n    }\n  };\n\n  function inject_raw_css(css) {\n    const element = document.createElement(\"style\");\n    element.appendChild(document.createTextNode(css));\n    document.body.appendChild(element);\n  }\n\n  \n  var js_urls = [\"https://cdn.bokeh.org/bokeh/release/bokeh-2.2.3.min.js\", \"https://cdn.bokeh.org/bokeh/release/bokeh-widgets-2.2.3.min.js\", \"https://cdn.bokeh.org/bokeh/release/bokeh-tables-2.2.3.min.js\"];\n  var css_urls = [];\n  \n\n  var inline_js = [\n    function(Bokeh) {\n      Bokeh.set_log_level(\"info\");\n    },\n    function(Bokeh) {\n    \n    \n    }\n  ];\n\n  function run_inline_js() {\n    \n    if (root.Bokeh !== undefined || force === true) {\n      \n    for (var i = 0; i < inline_js.length; i++) {\n      inline_js[i].call(root, root.Bokeh);\n    }\n    if (force === true) {\n        display_loaded();\n      }} else if (Date.now() < root._bokeh_timeout) {\n      setTimeout(run_inline_js, 100);\n    } else if (!root._bokeh_failed_load) {\n      console.log(\"Bokeh: BokehJS failed to load within specified timeout.\");\n      root._bokeh_failed_load = true;\n    } else if (force !== true) {\n      var cell = $(document.getElementById(\"1001\")).parents('.cell').data().cell;\n      cell.output_area.append_execute_result(NB_LOAD_WARNING)\n    }\n\n  }\n\n  if (root._bokeh_is_loading === 0) {\n    console.debug(\"Bokeh: BokehJS loaded, going straight to plotting\");\n    run_inline_js();\n  } else {\n    load_libs(css_urls, js_urls, function() {\n      console.debug(\"Bokeh: BokehJS plotting callback run at\", now());\n      run_inline_js();\n    });\n  }\n}(window));"
     },
     "metadata": {},
     "output_type": "display_data"
    }
   ],
   "source": [
    "output_notebook()"
   ]
  },
  {
   "cell_type": "markdown",
   "metadata": {},
   "source": [
    "Vemos que no arroja ningún mensaje de error, comenzaremos la creación de nuestro primer gráfico dinámico.\n",
    "\n",
    "El primero elemento que tendremos que configurar es el espacio que ocupará nuestro gráfico, en otras palabras, estaremos inicializando el espacio gráfico. Para ello, utilizamos la función <code>__figure__</code> con los siguientes parámetros **plot_width**, **plot_height**"
   ]
  },
  {
   "cell_type": "code",
   "execution_count": 3,
   "metadata": {},
   "outputs": [],
   "source": [
    "from bokeh.plotting import figure"
   ]
  },
  {
   "cell_type": "code",
   "execution_count": 4,
   "metadata": {},
   "outputs": [],
   "source": [
    "p = figure(plot_width=400, plot_height=400)"
   ]
  },
  {
   "cell_type": "markdown",
   "metadata": {},
   "source": [
    "Lo siguiente, será añadir el tipo de gráfico en sí. En Bokeh soporta una gran cantidad de gráficos, comenzaremos por un gráfico lineal, pero se recomienda visualizar todos los tipos de gráficos principles que podemos realizar desde la función figure https://docs.bokeh.org/en/latest/docs/reference/plotting.html#bokeh-plotting\n",
    "\n",
    "Así mismo, si queremos ver algunas demos de ejemplo sobre Dashboards que pueden realizarse en Bokeh, están disponibles en el siguiente link: https://docs.bokeh.org/en/latest/docs/gallery.html#gallery\n",
    "\n",
    "Un gráfico de líneas lo realizaremos a través de la función <code>**line**</code>"
   ]
  },
  {
   "cell_type": "code",
   "execution_count": 5,
   "metadata": {},
   "outputs": [
    {
     "data": {
      "text/html": [
       "<div style=\"display: table;\"><div style=\"display: table-row;\"><div style=\"display: table-cell;\"><b title=\"bokeh.models.renderers.GlyphRenderer\">GlyphRenderer</b>(</div><div style=\"display: table-cell;\">id&nbsp;=&nbsp;'1036', <span id=\"1039\" style=\"cursor: pointer;\">&hellip;)</span></div></div><div class=\"1038\" style=\"display: none;\"><div style=\"display: table-cell;\"></div><div style=\"display: table-cell;\">data_source&nbsp;=&nbsp;ColumnDataSource(id='1033', ...),</div></div><div class=\"1038\" style=\"display: none;\"><div style=\"display: table-cell;\"></div><div style=\"display: table-cell;\">glyph&nbsp;=&nbsp;Line(id='1034', ...),</div></div><div class=\"1038\" style=\"display: none;\"><div style=\"display: table-cell;\"></div><div style=\"display: table-cell;\">hover_glyph&nbsp;=&nbsp;None,</div></div><div class=\"1038\" style=\"display: none;\"><div style=\"display: table-cell;\"></div><div style=\"display: table-cell;\">js_event_callbacks&nbsp;=&nbsp;{},</div></div><div class=\"1038\" style=\"display: none;\"><div style=\"display: table-cell;\"></div><div style=\"display: table-cell;\">js_property_callbacks&nbsp;=&nbsp;{},</div></div><div class=\"1038\" style=\"display: none;\"><div style=\"display: table-cell;\"></div><div style=\"display: table-cell;\">level&nbsp;=&nbsp;'glyph',</div></div><div class=\"1038\" style=\"display: none;\"><div style=\"display: table-cell;\"></div><div style=\"display: table-cell;\">muted&nbsp;=&nbsp;False,</div></div><div class=\"1038\" style=\"display: none;\"><div style=\"display: table-cell;\"></div><div style=\"display: table-cell;\">muted_glyph&nbsp;=&nbsp;None,</div></div><div class=\"1038\" style=\"display: none;\"><div style=\"display: table-cell;\"></div><div style=\"display: table-cell;\">name&nbsp;=&nbsp;None,</div></div><div class=\"1038\" style=\"display: none;\"><div style=\"display: table-cell;\"></div><div style=\"display: table-cell;\">nonselection_glyph&nbsp;=&nbsp;Line(id='1035', ...),</div></div><div class=\"1038\" style=\"display: none;\"><div style=\"display: table-cell;\"></div><div style=\"display: table-cell;\">selection_glyph&nbsp;=&nbsp;None,</div></div><div class=\"1038\" style=\"display: none;\"><div style=\"display: table-cell;\"></div><div style=\"display: table-cell;\">subscribed_events&nbsp;=&nbsp;[],</div></div><div class=\"1038\" style=\"display: none;\"><div style=\"display: table-cell;\"></div><div style=\"display: table-cell;\">tags&nbsp;=&nbsp;[],</div></div><div class=\"1038\" style=\"display: none;\"><div style=\"display: table-cell;\"></div><div style=\"display: table-cell;\">view&nbsp;=&nbsp;CDSView(id='1037', ...),</div></div><div class=\"1038\" style=\"display: none;\"><div style=\"display: table-cell;\"></div><div style=\"display: table-cell;\">visible&nbsp;=&nbsp;True,</div></div><div class=\"1038\" style=\"display: none;\"><div style=\"display: table-cell;\"></div><div style=\"display: table-cell;\">x_range_name&nbsp;=&nbsp;'default',</div></div><div class=\"1038\" style=\"display: none;\"><div style=\"display: table-cell;\"></div><div style=\"display: table-cell;\">y_range_name&nbsp;=&nbsp;'default')</div></div></div>\n",
       "<script>\n",
       "(function() {\n",
       "  var expanded = false;\n",
       "  var ellipsis = document.getElementById(\"1039\");\n",
       "  ellipsis.addEventListener(\"click\", function() {\n",
       "    var rows = document.getElementsByClassName(\"1038\");\n",
       "    for (var i = 0; i < rows.length; i++) {\n",
       "      var el = rows[i];\n",
       "      el.style.display = expanded ? \"none\" : \"table-row\";\n",
       "    }\n",
       "    ellipsis.innerHTML = expanded ? \"&hellip;)\" : \"&lsaquo;&lsaquo;&lsaquo;\";\n",
       "    expanded = !expanded;\n",
       "  });\n",
       "})();\n",
       "</script>\n"
      ],
      "text/plain": [
       "GlyphRenderer(id='1036', ...)"
      ]
     },
     "execution_count": 5,
     "metadata": {},
     "output_type": "execute_result"
    }
   ],
   "source": [
    "p.line([1, 2, 3, 4, 5, 6, 7, 8] ,[20, 3, 12, 28, 15, 6, 19, 11])"
   ]
  },
  {
   "cell_type": "markdown",
   "metadata": {},
   "source": [
    "Finalmente, para mostrar el gráfico hacemos uso de la función importada de bokeh.io <code>**show**</code>"
   ]
  },
  {
   "cell_type": "code",
   "execution_count": 6,
   "metadata": {},
   "outputs": [
    {
     "data": {
      "text/html": [
       "\n",
       "\n",
       "\n",
       "\n",
       "\n",
       "\n",
       "  <div class=\"bk-root\" id=\"0a0247a9-5e2e-433f-a5a0-d20a464eb985\" data-root-id=\"1002\"></div>\n"
      ]
     },
     "metadata": {},
     "output_type": "display_data"
    },
    {
     "data": {
      "application/javascript": [
       "(function(root) {\n",
       "  function embed_document(root) {\n",
       "    \n",
       "  var docs_json = {\"22b946b8-f32c-44ae-8de1-8ff55af79147\":{\"roots\":{\"references\":[{\"attributes\":{\"below\":[{\"id\":\"1011\"}],\"center\":[{\"id\":\"1014\"},{\"id\":\"1018\"}],\"left\":[{\"id\":\"1015\"}],\"plot_height\":400,\"plot_width\":400,\"renderers\":[{\"id\":\"1036\"}],\"title\":{\"id\":\"1041\"},\"toolbar\":{\"id\":\"1026\"},\"x_range\":{\"id\":\"1003\"},\"x_scale\":{\"id\":\"1007\"},\"y_range\":{\"id\":\"1005\"},\"y_scale\":{\"id\":\"1009\"}},\"id\":\"1002\",\"subtype\":\"Figure\",\"type\":\"Plot\"},{\"attributes\":{},\"id\":\"1016\",\"type\":\"BasicTicker\"},{\"attributes\":{\"active_drag\":\"auto\",\"active_inspect\":\"auto\",\"active_multi\":null,\"active_scroll\":\"auto\",\"active_tap\":\"auto\",\"tools\":[{\"id\":\"1019\"},{\"id\":\"1020\"},{\"id\":\"1021\"},{\"id\":\"1022\"},{\"id\":\"1023\"},{\"id\":\"1024\"}]},\"id\":\"1026\",\"type\":\"Toolbar\"},{\"attributes\":{\"data_source\":{\"id\":\"1033\"},\"glyph\":{\"id\":\"1034\"},\"hover_glyph\":null,\"muted_glyph\":null,\"nonselection_glyph\":{\"id\":\"1035\"},\"selection_glyph\":null,\"view\":{\"id\":\"1037\"}},\"id\":\"1036\",\"type\":\"GlyphRenderer\"},{\"attributes\":{},\"id\":\"1020\",\"type\":\"WheelZoomTool\"},{\"attributes\":{\"text\":\"\"},\"id\":\"1041\",\"type\":\"Title\"},{\"attributes\":{},\"id\":\"1019\",\"type\":\"PanTool\"},{\"attributes\":{},\"id\":\"1045\",\"type\":\"BasicTickFormatter\"},{\"attributes\":{\"overlay\":{\"id\":\"1025\"}},\"id\":\"1021\",\"type\":\"BoxZoomTool\"},{\"attributes\":{},\"id\":\"1022\",\"type\":\"SaveTool\"},{\"attributes\":{},\"id\":\"1023\",\"type\":\"ResetTool\"},{\"attributes\":{\"source\":{\"id\":\"1033\"}},\"id\":\"1037\",\"type\":\"CDSView\"},{\"attributes\":{\"line_color\":\"#1f77b4\",\"x\":{\"field\":\"x\"},\"y\":{\"field\":\"y\"}},\"id\":\"1034\",\"type\":\"Line\"},{\"attributes\":{},\"id\":\"1047\",\"type\":\"UnionRenderers\"},{\"attributes\":{\"data\":{\"x\":[1,2,3,4,5,6,7,8],\"y\":[20,3,12,28,15,6,19,11]},\"selected\":{\"id\":\"1048\"},\"selection_policy\":{\"id\":\"1047\"}},\"id\":\"1033\",\"type\":\"ColumnDataSource\"},{\"attributes\":{},\"id\":\"1048\",\"type\":\"Selection\"},{\"attributes\":{\"axis\":{\"id\":\"1015\"},\"dimension\":1,\"ticker\":null},\"id\":\"1018\",\"type\":\"Grid\"},{\"attributes\":{\"bottom_units\":\"screen\",\"fill_alpha\":0.5,\"fill_color\":\"lightgrey\",\"left_units\":\"screen\",\"level\":\"overlay\",\"line_alpha\":1.0,\"line_color\":\"black\",\"line_dash\":[4,4],\"line_width\":2,\"right_units\":\"screen\",\"top_units\":\"screen\"},\"id\":\"1025\",\"type\":\"BoxAnnotation\"},{\"attributes\":{\"formatter\":{\"id\":\"1045\"},\"ticker\":{\"id\":\"1012\"}},\"id\":\"1011\",\"type\":\"LinearAxis\"},{\"attributes\":{},\"id\":\"1003\",\"type\":\"DataRange1d\"},{\"attributes\":{},\"id\":\"1007\",\"type\":\"LinearScale\"},{\"attributes\":{\"formatter\":{\"id\":\"1043\"},\"ticker\":{\"id\":\"1016\"}},\"id\":\"1015\",\"type\":\"LinearAxis\"},{\"attributes\":{},\"id\":\"1005\",\"type\":\"DataRange1d\"},{\"attributes\":{},\"id\":\"1009\",\"type\":\"LinearScale\"},{\"attributes\":{},\"id\":\"1024\",\"type\":\"HelpTool\"},{\"attributes\":{\"line_alpha\":0.1,\"line_color\":\"#1f77b4\",\"x\":{\"field\":\"x\"},\"y\":{\"field\":\"y\"}},\"id\":\"1035\",\"type\":\"Line\"},{\"attributes\":{},\"id\":\"1012\",\"type\":\"BasicTicker\"},{\"attributes\":{\"axis\":{\"id\":\"1011\"},\"ticker\":null},\"id\":\"1014\",\"type\":\"Grid\"},{\"attributes\":{},\"id\":\"1043\",\"type\":\"BasicTickFormatter\"}],\"root_ids\":[\"1002\"]},\"title\":\"Bokeh Application\",\"version\":\"2.2.3\"}};\n",
       "  var render_items = [{\"docid\":\"22b946b8-f32c-44ae-8de1-8ff55af79147\",\"root_ids\":[\"1002\"],\"roots\":{\"1002\":\"0a0247a9-5e2e-433f-a5a0-d20a464eb985\"}}];\n",
       "  root.Bokeh.embed.embed_items_notebook(docs_json, render_items);\n",
       "\n",
       "  }\n",
       "  if (root.Bokeh !== undefined) {\n",
       "    embed_document(root);\n",
       "  } else {\n",
       "    var attempts = 0;\n",
       "    var timer = setInterval(function(root) {\n",
       "      if (root.Bokeh !== undefined) {\n",
       "        clearInterval(timer);\n",
       "        embed_document(root);\n",
       "      } else {\n",
       "        attempts++;\n",
       "        if (attempts > 100) {\n",
       "          clearInterval(timer);\n",
       "          console.log(\"Bokeh: ERROR: Unable to run BokehJS code because BokehJS library is missing\");\n",
       "        }\n",
       "      }\n",
       "    }, 10, root)\n",
       "  }\n",
       "})(window);"
      ],
      "application/vnd.bokehjs_exec.v0+json": ""
     },
     "metadata": {
      "application/vnd.bokehjs_exec.v0+json": {
       "id": "1002"
      }
     },
     "output_type": "display_data"
    }
   ],
   "source": [
    "show(p)"
   ]
  },
  {
   "cell_type": "markdown",
   "metadata": {},
   "source": [
    "Vemos que aparece nuestro gráfico y a diferencia de otros paquetes de visualización, podemos desplazarnos en el gráfico, hacer zoom, mover con la rueda del ratón y guardar el gráfico de forma muy simple a través del menú de opciones.\n",
    "\n",
    "Agregamos nuevos parámetros."
   ]
  },
  {
   "cell_type": "code",
   "execution_count": 7,
   "metadata": {},
   "outputs": [
    {
     "data": {
      "text/html": [
       "\n",
       "\n",
       "\n",
       "\n",
       "\n",
       "\n",
       "  <div class=\"bk-root\" id=\"34ed854f-f997-4446-b831-4f67ac5bac8e\" data-root-id=\"1094\"></div>\n"
      ]
     },
     "metadata": {},
     "output_type": "display_data"
    },
    {
     "data": {
      "application/javascript": [
       "(function(root) {\n",
       "  function embed_document(root) {\n",
       "    \n",
       "  var docs_json = {\"77173afa-1bc6-469d-8833-a7314458818a\":{\"roots\":{\"references\":[{\"attributes\":{\"below\":[{\"id\":\"1103\"}],\"center\":[{\"id\":\"1106\"},{\"id\":\"1110\"}],\"left\":[{\"id\":\"1107\"}],\"plot_height\":400,\"plot_width\":400,\"renderers\":[{\"id\":\"1128\"}],\"title\":{\"id\":\"1140\"},\"toolbar\":{\"id\":\"1118\"},\"x_range\":{\"id\":\"1095\"},\"x_scale\":{\"id\":\"1099\"},\"y_range\":{\"id\":\"1097\"},\"y_scale\":{\"id\":\"1101\"}},\"id\":\"1094\",\"subtype\":\"Figure\",\"type\":\"Plot\"},{\"attributes\":{},\"id\":\"1116\",\"type\":\"HelpTool\"},{\"attributes\":{},\"id\":\"1097\",\"type\":\"DataRange1d\"},{\"attributes\":{},\"id\":\"1112\",\"type\":\"WheelZoomTool\"},{\"attributes\":{},\"id\":\"1111\",\"type\":\"PanTool\"},{\"attributes\":{\"overlay\":{\"id\":\"1117\"}},\"id\":\"1113\",\"type\":\"BoxZoomTool\"},{\"attributes\":{\"active_drag\":\"auto\",\"active_inspect\":\"auto\",\"active_multi\":null,\"active_scroll\":\"auto\",\"active_tap\":\"auto\",\"tools\":[{\"id\":\"1111\"},{\"id\":\"1112\"},{\"id\":\"1113\"},{\"id\":\"1114\"},{\"id\":\"1115\"},{\"id\":\"1116\"}]},\"id\":\"1118\",\"type\":\"Toolbar\"},{\"attributes\":{},\"id\":\"1114\",\"type\":\"SaveTool\"},{\"attributes\":{},\"id\":\"1146\",\"type\":\"UnionRenderers\"},{\"attributes\":{},\"id\":\"1115\",\"type\":\"ResetTool\"},{\"attributes\":{},\"id\":\"1147\",\"type\":\"Selection\"},{\"attributes\":{\"source\":{\"id\":\"1125\"}},\"id\":\"1129\",\"type\":\"CDSView\"},{\"attributes\":{\"formatter\":{\"id\":\"1142\"},\"ticker\":{\"id\":\"1108\"}},\"id\":\"1107\",\"type\":\"LinearAxis\"},{\"attributes\":{\"line_alpha\":0.5,\"line_color\":\"red\",\"line_width\":5,\"x\":{\"field\":\"x\"},\"y\":{\"field\":\"y\"}},\"id\":\"1126\",\"type\":\"Line\"},{\"attributes\":{},\"id\":\"1104\",\"type\":\"BasicTicker\"},{\"attributes\":{\"line_alpha\":0.1,\"line_color\":\"red\",\"line_width\":5,\"x\":{\"field\":\"x\"},\"y\":{\"field\":\"y\"}},\"id\":\"1127\",\"type\":\"Line\"},{\"attributes\":{},\"id\":\"1142\",\"type\":\"BasicTickFormatter\"},{\"attributes\":{\"axis\":{\"id\":\"1103\"},\"ticker\":null},\"id\":\"1106\",\"type\":\"Grid\"},{\"attributes\":{},\"id\":\"1108\",\"type\":\"BasicTicker\"},{\"attributes\":{\"text\":\"\"},\"id\":\"1140\",\"type\":\"Title\"},{\"attributes\":{},\"id\":\"1101\",\"type\":\"LinearScale\"},{\"attributes\":{\"bottom_units\":\"screen\",\"fill_alpha\":0.5,\"fill_color\":\"lightgrey\",\"left_units\":\"screen\",\"level\":\"overlay\",\"line_alpha\":1.0,\"line_color\":\"black\",\"line_dash\":[4,4],\"line_width\":2,\"right_units\":\"screen\",\"top_units\":\"screen\"},\"id\":\"1117\",\"type\":\"BoxAnnotation\"},{\"attributes\":{\"data_source\":{\"id\":\"1125\"},\"glyph\":{\"id\":\"1126\"},\"hover_glyph\":null,\"muted_glyph\":null,\"nonselection_glyph\":{\"id\":\"1127\"},\"selection_glyph\":null,\"view\":{\"id\":\"1129\"}},\"id\":\"1128\",\"type\":\"GlyphRenderer\"},{\"attributes\":{\"data\":{\"x\":[1,2,3,4,5,6,7,8],\"y\":[20,3,12,28,15,6,19,11]},\"selected\":{\"id\":\"1147\"},\"selection_policy\":{\"id\":\"1146\"}},\"id\":\"1125\",\"type\":\"ColumnDataSource\"},{\"attributes\":{},\"id\":\"1095\",\"type\":\"DataRange1d\"},{\"attributes\":{},\"id\":\"1144\",\"type\":\"BasicTickFormatter\"},{\"attributes\":{\"formatter\":{\"id\":\"1144\"},\"ticker\":{\"id\":\"1104\"}},\"id\":\"1103\",\"type\":\"LinearAxis\"},{\"attributes\":{},\"id\":\"1099\",\"type\":\"LinearScale\"},{\"attributes\":{\"axis\":{\"id\":\"1107\"},\"dimension\":1,\"ticker\":null},\"id\":\"1110\",\"type\":\"Grid\"}],\"root_ids\":[\"1094\"]},\"title\":\"Bokeh Application\",\"version\":\"2.2.3\"}};\n",
       "  var render_items = [{\"docid\":\"77173afa-1bc6-469d-8833-a7314458818a\",\"root_ids\":[\"1094\"],\"roots\":{\"1094\":\"34ed854f-f997-4446-b831-4f67ac5bac8e\"}}];\n",
       "  root.Bokeh.embed.embed_items_notebook(docs_json, render_items);\n",
       "\n",
       "  }\n",
       "  if (root.Bokeh !== undefined) {\n",
       "    embed_document(root);\n",
       "  } else {\n",
       "    var attempts = 0;\n",
       "    var timer = setInterval(function(root) {\n",
       "      if (root.Bokeh !== undefined) {\n",
       "        clearInterval(timer);\n",
       "        embed_document(root);\n",
       "      } else {\n",
       "        attempts++;\n",
       "        if (attempts > 100) {\n",
       "          clearInterval(timer);\n",
       "          console.log(\"Bokeh: ERROR: Unable to run BokehJS code because BokehJS library is missing\");\n",
       "        }\n",
       "      }\n",
       "    }, 10, root)\n",
       "  }\n",
       "})(window);"
      ],
      "application/vnd.bokehjs_exec.v0+json": ""
     },
     "metadata": {
      "application/vnd.bokehjs_exec.v0+json": {
       "id": "1094"
      }
     },
     "output_type": "display_data"
    }
   ],
   "source": [
    "p = figure(plot_width=400, plot_height=400)\n",
    "\n",
    "p.line([1, 2, 3, 4, 5, 6, 7, 8] ,[20, 3, 12, 28, 15, 6, 19, 11], \n",
    "       color = 'red', line_width=5, line_alpha = 0.5)\n",
    "show(p)"
   ]
  },
  {
   "cell_type": "markdown",
   "metadata": {},
   "source": [
    "Mostramos otro estilo de gráfico, un scatter plot, utilizamos la función <code>**circle**</code>"
   ]
  },
  {
   "cell_type": "code",
   "execution_count": 8,
   "metadata": {},
   "outputs": [
    {
     "data": {
      "text/html": [
       "\n",
       "\n",
       "\n",
       "\n",
       "\n",
       "\n",
       "  <div class=\"bk-root\" id=\"b002e283-d534-4b7f-829d-b41e7b565026\" data-root-id=\"1193\"></div>\n"
      ]
     },
     "metadata": {},
     "output_type": "display_data"
    },
    {
     "data": {
      "application/javascript": [
       "(function(root) {\n",
       "  function embed_document(root) {\n",
       "    \n",
       "  var docs_json = {\"7ac289fd-bf0b-44cd-bce4-67d0245d06f1\":{\"roots\":{\"references\":[{\"attributes\":{\"below\":[{\"id\":\"1202\"}],\"center\":[{\"id\":\"1205\"},{\"id\":\"1209\"}],\"left\":[{\"id\":\"1206\"}],\"plot_height\":500,\"plot_width\":500,\"renderers\":[{\"id\":\"1227\"}],\"title\":{\"id\":\"1248\"},\"toolbar\":{\"id\":\"1217\"},\"x_range\":{\"id\":\"1194\"},\"x_scale\":{\"id\":\"1198\"},\"y_range\":{\"id\":\"1196\"},\"y_scale\":{\"id\":\"1200\"}},\"id\":\"1193\",\"subtype\":\"Figure\",\"type\":\"Plot\"},{\"attributes\":{},\"id\":\"1203\",\"type\":\"BasicTicker\"},{\"attributes\":{},\"id\":\"1250\",\"type\":\"BasicTickFormatter\"},{\"attributes\":{\"bottom_units\":\"screen\",\"fill_alpha\":0.5,\"fill_color\":\"lightgrey\",\"left_units\":\"screen\",\"level\":\"overlay\",\"line_alpha\":1.0,\"line_color\":\"black\",\"line_dash\":[4,4],\"line_width\":2,\"right_units\":\"screen\",\"top_units\":\"screen\"},\"id\":\"1216\",\"type\":\"BoxAnnotation\"},{\"attributes\":{},\"id\":\"1194\",\"type\":\"DataRange1d\"},{\"attributes\":{},\"id\":\"1252\",\"type\":\"BasicTickFormatter\"},{\"attributes\":{\"fill_color\":{\"value\":\"red\"},\"line_alpha\":{\"value\":0.5},\"line_color\":{\"value\":\"red\"},\"line_width\":{\"value\":5},\"x\":{\"field\":\"x\"},\"y\":{\"field\":\"y\"}},\"id\":\"1225\",\"type\":\"Circle\"},{\"attributes\":{},\"id\":\"1196\",\"type\":\"DataRange1d\"},{\"attributes\":{},\"id\":\"1207\",\"type\":\"BasicTicker\"},{\"attributes\":{\"data\":{\"x\":[1,2,3,4,5,6,7,8],\"y\":[20,3,12,28,15,6,19,11]},\"selected\":{\"id\":\"1255\"},\"selection_policy\":{\"id\":\"1254\"}},\"id\":\"1224\",\"type\":\"ColumnDataSource\"},{\"attributes\":{\"axis\":{\"id\":\"1206\"},\"dimension\":1,\"ticker\":null},\"id\":\"1209\",\"type\":\"Grid\"},{\"attributes\":{\"formatter\":{\"id\":\"1252\"},\"ticker\":{\"id\":\"1203\"}},\"id\":\"1202\",\"type\":\"LinearAxis\"},{\"attributes\":{},\"id\":\"1254\",\"type\":\"UnionRenderers\"},{\"attributes\":{\"active_drag\":\"auto\",\"active_inspect\":\"auto\",\"active_multi\":null,\"active_scroll\":\"auto\",\"active_tap\":\"auto\",\"tools\":[{\"id\":\"1210\"},{\"id\":\"1211\"},{\"id\":\"1212\"},{\"id\":\"1213\"},{\"id\":\"1214\"},{\"id\":\"1215\"}]},\"id\":\"1217\",\"type\":\"Toolbar\"},{\"attributes\":{\"overlay\":{\"id\":\"1216\"}},\"id\":\"1212\",\"type\":\"BoxZoomTool\"},{\"attributes\":{},\"id\":\"1255\",\"type\":\"Selection\"},{\"attributes\":{},\"id\":\"1213\",\"type\":\"SaveTool\"},{\"attributes\":{},\"id\":\"1211\",\"type\":\"WheelZoomTool\"},{\"attributes\":{},\"id\":\"1210\",\"type\":\"PanTool\"},{\"attributes\":{},\"id\":\"1215\",\"type\":\"HelpTool\"},{\"attributes\":{},\"id\":\"1214\",\"type\":\"ResetTool\"},{\"attributes\":{\"fill_alpha\":{\"value\":0.1},\"fill_color\":{\"value\":\"red\"},\"line_alpha\":{\"value\":0.1},\"line_color\":{\"value\":\"red\"},\"line_width\":{\"value\":5},\"x\":{\"field\":\"x\"},\"y\":{\"field\":\"y\"}},\"id\":\"1226\",\"type\":\"Circle\"},{\"attributes\":{},\"id\":\"1200\",\"type\":\"LinearScale\"},{\"attributes\":{\"source\":{\"id\":\"1224\"}},\"id\":\"1228\",\"type\":\"CDSView\"},{\"attributes\":{\"formatter\":{\"id\":\"1250\"},\"ticker\":{\"id\":\"1207\"}},\"id\":\"1206\",\"type\":\"LinearAxis\"},{\"attributes\":{\"data_source\":{\"id\":\"1224\"},\"glyph\":{\"id\":\"1225\"},\"hover_glyph\":null,\"muted_glyph\":null,\"nonselection_glyph\":{\"id\":\"1226\"},\"selection_glyph\":null,\"view\":{\"id\":\"1228\"}},\"id\":\"1227\",\"type\":\"GlyphRenderer\"},{\"attributes\":{\"text\":\"\"},\"id\":\"1248\",\"type\":\"Title\"},{\"attributes\":{\"axis\":{\"id\":\"1202\"},\"ticker\":null},\"id\":\"1205\",\"type\":\"Grid\"},{\"attributes\":{},\"id\":\"1198\",\"type\":\"LinearScale\"}],\"root_ids\":[\"1193\"]},\"title\":\"Bokeh Application\",\"version\":\"2.2.3\"}};\n",
       "  var render_items = [{\"docid\":\"7ac289fd-bf0b-44cd-bce4-67d0245d06f1\",\"root_ids\":[\"1193\"],\"roots\":{\"1193\":\"b002e283-d534-4b7f-829d-b41e7b565026\"}}];\n",
       "  root.Bokeh.embed.embed_items_notebook(docs_json, render_items);\n",
       "\n",
       "  }\n",
       "  if (root.Bokeh !== undefined) {\n",
       "    embed_document(root);\n",
       "  } else {\n",
       "    var attempts = 0;\n",
       "    var timer = setInterval(function(root) {\n",
       "      if (root.Bokeh !== undefined) {\n",
       "        clearInterval(timer);\n",
       "        embed_document(root);\n",
       "      } else {\n",
       "        attempts++;\n",
       "        if (attempts > 100) {\n",
       "          clearInterval(timer);\n",
       "          console.log(\"Bokeh: ERROR: Unable to run BokehJS code because BokehJS library is missing\");\n",
       "        }\n",
       "      }\n",
       "    }, 10, root)\n",
       "  }\n",
       "})(window);"
      ],
      "application/vnd.bokehjs_exec.v0+json": ""
     },
     "metadata": {
      "application/vnd.bokehjs_exec.v0+json": {
       "id": "1193"
      }
     },
     "output_type": "display_data"
    }
   ],
   "source": [
    "p = figure(plot_width=500, plot_height=500)\n",
    "\n",
    "p.circle([1, 2, 3, 4, 5, 6, 7, 8] ,[20, 3, 12, 28, 15, 6, 19, 11], \n",
    "       color = 'red', line_width=5, line_alpha = 0.5)\n",
    "show(p)"
   ]
  },
  {
   "cell_type": "markdown",
   "metadata": {},
   "source": [
    "Añadimos más opciones y, en esta ocasión en lugar de utilizar listas, vamos a comprobar su integración con arrays."
   ]
  },
  {
   "cell_type": "code",
   "execution_count": 9,
   "metadata": {},
   "outputs": [
    {
     "data": {
      "text/html": [
       "\n",
       "\n",
       "\n",
       "\n",
       "\n",
       "\n",
       "  <div class=\"bk-root\" id=\"96cae089-22ef-48ec-8bd7-440b1f67411f\" data-root-id=\"1301\"></div>\n"
      ]
     },
     "metadata": {},
     "output_type": "display_data"
    },
    {
     "data": {
      "application/javascript": [
       "(function(root) {\n",
       "  function embed_document(root) {\n",
       "    \n",
       "  var docs_json = {\"399711ca-41ce-4758-8f79-e9a04a605931\":{\"roots\":{\"references\":[{\"attributes\":{\"below\":[{\"id\":\"1310\"}],\"center\":[{\"id\":\"1313\"},{\"id\":\"1317\"}],\"left\":[{\"id\":\"1314\"}],\"plot_height\":500,\"plot_width\":500,\"renderers\":[{\"id\":\"1335\"}],\"title\":{\"id\":\"1365\"},\"toolbar\":{\"id\":\"1325\"},\"x_range\":{\"id\":\"1302\"},\"x_scale\":{\"id\":\"1306\"},\"y_range\":{\"id\":\"1304\"},\"y_scale\":{\"id\":\"1308\"}},\"id\":\"1301\",\"subtype\":\"Figure\",\"type\":\"Plot\"},{\"attributes\":{},\"id\":\"1306\",\"type\":\"LinearScale\"},{\"attributes\":{},\"id\":\"1367\",\"type\":\"BasicTickFormatter\"},{\"attributes\":{\"source\":{\"id\":\"1332\"}},\"id\":\"1336\",\"type\":\"CDSView\"},{\"attributes\":{},\"id\":\"1308\",\"type\":\"LinearScale\"},{\"attributes\":{\"axis\":{\"id\":\"1310\"},\"ticker\":null},\"id\":\"1313\",\"type\":\"Grid\"},{\"attributes\":{\"formatter\":{\"id\":\"1369\"},\"ticker\":{\"id\":\"1311\"}},\"id\":\"1310\",\"type\":\"LinearAxis\"},{\"attributes\":{},\"id\":\"1311\",\"type\":\"BasicTicker\"},{\"attributes\":{},\"id\":\"1323\",\"type\":\"HelpTool\"},{\"attributes\":{\"fill_alpha\":{\"value\":0.1},\"fill_color\":{\"value\":\"lightgreen\"},\"line_alpha\":{\"value\":0.1},\"line_color\":{\"value\":\"red\"},\"radius\":{\"units\":\"data\",\"value\":0.01},\"x\":{\"field\":\"x\"},\"y\":{\"field\":\"y\"}},\"id\":\"1334\",\"type\":\"Circle\"},{\"attributes\":{\"axis\":{\"id\":\"1314\"},\"dimension\":1,\"ticker\":null},\"id\":\"1317\",\"type\":\"Grid\"},{\"attributes\":{},\"id\":\"1315\",\"type\":\"BasicTicker\"},{\"attributes\":{\"active_drag\":\"auto\",\"active_inspect\":\"auto\",\"active_multi\":null,\"active_scroll\":\"auto\",\"active_tap\":\"auto\",\"tools\":[{\"id\":\"1318\"},{\"id\":\"1319\"},{\"id\":\"1320\"},{\"id\":\"1321\"},{\"id\":\"1322\"},{\"id\":\"1323\"}]},\"id\":\"1325\",\"type\":\"Toolbar\"},{\"attributes\":{},\"id\":\"1319\",\"type\":\"WheelZoomTool\"},{\"attributes\":{},\"id\":\"1318\",\"type\":\"PanTool\"},{\"attributes\":{\"overlay\":{\"id\":\"1324\"}},\"id\":\"1320\",\"type\":\"BoxZoomTool\"},{\"attributes\":{},\"id\":\"1321\",\"type\":\"SaveTool\"},{\"attributes\":{},\"id\":\"1322\",\"type\":\"ResetTool\"},{\"attributes\":{\"data\":{\"x\":{\"__ndarray__\":\"cfGpiHzv7D+Mvs8/VQTTP1R1e3+fjsI/qG69/pbkuT/zNPRgrxLtP2bjs8Fn8uU/RRb0M/dt7D8CCi/CH8LdPwHly15/u+g/LD22GfBrzD+sSPZ0wITJP3ZJjESVUN4/uFyOEsO31T+aUw4bIFnUP4CgEJtJAqI/oN05cWQaoT9IM9zY9RyzPxhm6EdO3tc/6sD0Ifmt7D+g2T6lDjqRPxpCr0VekN8/DmVStDeb2j8A3jAkgAbPP8Tp1oOClOM/frcjdwkv4T/gnGDFq0CzP1ig01yRftY/epCvuJS26T+tYt7Qhb7mP9jvPUgEJ8I/kDHCjuZwuT8M4gnlyALMP0XKZ5icWew/5FyCL2lD3D8PJUby5TXtP1I4dYG/UdI/RA+Occdq5z/Yc09/X+e8PyinY9Cyjuo/zML8ELSB5D/sNCBcXenvP3lr+Z7P7+A/qSK0BNz64j9AG11YyGeoPxhsvgF/j9M/1axxlCN84j9H8ukj1ajkP+wJlrssKMg/emJtSSWp6z9eGkhHopXnPxwLG1oV0to/Xg2W3A0f5z8u5cLjUrDrP9Kajiq6hNM/d2faFJ2h6D+wc6hO+OjBP6xVhkaaU9M/HwgE+oEU4D/0RlCMtLTYP3ShiRF3Ku4/sNiqcwu2pj8d9gZrC2vsPyRfQ5wDYMk/RDkKNuxJ4T/eWWo+NtvbP+BrMhwSK9M/wJjVeKesxT9iS/eEqVLcP5MU09A79O8/a7HdtUvS6z9UzgDLBOrsPyTHGOpSOdE/MHgXea4c0D+TP4hV5GzlP8gzQstYQ8Y/EVkmLdT95j/0YBnsiG7QP5wdgy/p1uk/uhU9bbPU7D8+QlJiAwjqP9jJjcFzhdg/OHULLmVDtD8o9X9K0BO1Pxs6mhLlaOM/l7Xiw5595j9Q4AJ6noO9P5B2kdcnVuU/VaMxBWH67T8W9rBjn7zvP+C47iiCmrU/y1x5fZ+b7D9bwAjcgpfoP3RyvWOzGtY/kIvny5cx6j+MWd2DjLPhP+yMvIw/Y+8/7QO8Qn2S4j9GuOcdaFTuP6hd3mvaqes/NGqOk1gcxz8=\",\"dtype\":\"float64\",\"order\":\"little\",\"shape\":[100]},\"y\":{\"__ndarray__\":\"eXZHPRoq6j9qg/OjS5q2Pw2RIjTehZU/a4R+2IzzhD9J4MjI6GnqP6CNvOGoGt4/LcByfupB6T9SQScxc6zLPxHA0KiJHeM/iF+0QVA+qT+bPgtvk1mkPxoOls3it8w/UIBImJ56vT/KPBG5wOC5Px/KnvAlRVQ/eX2B+UBIUj9RiUNO/NR2P3pKQ+aYzcE/lBC/0CW06T/2/WDJMYwyP2NzjPhBIs8/PboJaSsfxj8jYi2YmRSuP7kVzmsY9tc/QXHNZH500j/vjSRanSp3P6ai5PX4n78/TE/6Hlqp5D8OrnFWZirgP/yubMcomJQ/cONzk/Y5hD80ItvO34SoPxi0w/zMHek/gtT0FIb2yD88BkaPC6rqP3moOo+Q+bQ/AZFnAeMi4T+1E6YKcBuKP66XguleCuY/DFH0mV1I2j8QXBy7ytLvP/5ZJpOp7dE/ksz5McyD1j+/0Sob/ZxiPzSYU5bU6bc/qcXLNRNb1T8XW9JgCq3aPyOOdIl1PKI/A5zr/ezo5z+1Z+b41GHhP0HUuOrFesY/HBf5D8K04D8z+PhwV/XnP5L+Ri2Hz7c/kIXs1pv14j/akhzXTwyUPwJM6j1DWLc/FvkYPR4p0D97np1FCxPDP3siK5vXb+w/erpSYVseYD87AKwPujzpPytB07klH6Q/3xHie2uu0j91uiU4yT/IP9vOY/S+9rY/SI+vtH5cnT/qPfwwfhHJPzRaOfV76O8/pjlMxUUw6D+lDFvJNyDqP5ZE5pGdirI/2E9FXJA5sD+w3cJ3vLDcP8YeiahP+p4/VH+dJuGE4D8o2nR3DeCwPxyUu69v3eQ/9l6AzL/56T9jMHeBBy3lPyBVMC5aysI/1xr+1JipeT/JZdhMG8R7P4jD77rPi9c/0I+L4U6d3z/LBL2ZrDiLPzJpjoL4c9w/IEeB5nYV7D/7IxSlzHnvP0NyKblpK30/6NK+70uT6T/Q1CCnEebiP5BsKOGZib4/UskIh+Nw5T/e3g51aZXTP0NUYvJ+ye4/7ZP9B9eO1T+JPALcIb/sP+p57SYm6uc/HCAUcNiwoD8=\",\"dtype\":\"float64\",\"order\":\"little\",\"shape\":[100]}},\"selected\":{\"id\":\"1372\"},\"selection_policy\":{\"id\":\"1371\"}},\"id\":\"1332\",\"type\":\"ColumnDataSource\"},{\"attributes\":{\"text\":\"\"},\"id\":\"1365\",\"type\":\"Title\"},{\"attributes\":{},\"id\":\"1371\",\"type\":\"UnionRenderers\"},{\"attributes\":{\"data_source\":{\"id\":\"1332\"},\"glyph\":{\"id\":\"1333\"},\"hover_glyph\":null,\"muted_glyph\":null,\"nonselection_glyph\":{\"id\":\"1334\"},\"selection_glyph\":null,\"view\":{\"id\":\"1336\"}},\"id\":\"1335\",\"type\":\"GlyphRenderer\"},{\"attributes\":{\"fill_color\":{\"value\":\"lightgreen\"},\"line_alpha\":{\"value\":0.8},\"line_color\":{\"value\":\"red\"},\"radius\":{\"units\":\"data\",\"value\":0.01},\"x\":{\"field\":\"x\"},\"y\":{\"field\":\"y\"}},\"id\":\"1333\",\"type\":\"Circle\"},{\"attributes\":{\"bottom_units\":\"screen\",\"fill_alpha\":0.5,\"fill_color\":\"lightgrey\",\"left_units\":\"screen\",\"level\":\"overlay\",\"line_alpha\":1.0,\"line_color\":\"black\",\"line_dash\":[4,4],\"line_width\":2,\"right_units\":\"screen\",\"top_units\":\"screen\"},\"id\":\"1324\",\"type\":\"BoxAnnotation\"},{\"attributes\":{},\"id\":\"1372\",\"type\":\"Selection\"},{\"attributes\":{\"formatter\":{\"id\":\"1367\"},\"ticker\":{\"id\":\"1315\"}},\"id\":\"1314\",\"type\":\"LinearAxis\"},{\"attributes\":{},\"id\":\"1369\",\"type\":\"BasicTickFormatter\"},{\"attributes\":{},\"id\":\"1304\",\"type\":\"DataRange1d\"},{\"attributes\":{},\"id\":\"1302\",\"type\":\"DataRange1d\"}],\"root_ids\":[\"1301\"]},\"title\":\"Bokeh Application\",\"version\":\"2.2.3\"}};\n",
       "  var render_items = [{\"docid\":\"399711ca-41ce-4758-8f79-e9a04a605931\",\"root_ids\":[\"1301\"],\"roots\":{\"1301\":\"96cae089-22ef-48ec-8bd7-440b1f67411f\"}}];\n",
       "  root.Bokeh.embed.embed_items_notebook(docs_json, render_items);\n",
       "\n",
       "  }\n",
       "  if (root.Bokeh !== undefined) {\n",
       "    embed_document(root);\n",
       "  } else {\n",
       "    var attempts = 0;\n",
       "    var timer = setInterval(function(root) {\n",
       "      if (root.Bokeh !== undefined) {\n",
       "        clearInterval(timer);\n",
       "        embed_document(root);\n",
       "      } else {\n",
       "        attempts++;\n",
       "        if (attempts > 100) {\n",
       "          clearInterval(timer);\n",
       "          console.log(\"Bokeh: ERROR: Unable to run BokehJS code because BokehJS library is missing\");\n",
       "        }\n",
       "      }\n",
       "    }, 10, root)\n",
       "  }\n",
       "})(window);"
      ],
      "application/vnd.bokehjs_exec.v0+json": ""
     },
     "metadata": {
      "application/vnd.bokehjs_exec.v0+json": {
       "id": "1301"
      }
     },
     "output_type": "display_data"
    }
   ],
   "source": [
    "p = figure(plot_width=500, plot_height=500)\n",
    "\n",
    "import numpy as np\n",
    "\n",
    "normal = np.random.rand(100)\n",
    "square = normal**2\n",
    "\n",
    "p.circle(normal ,square, \n",
    "         fill_color  = 'lightgreen',\n",
    "         line_alpha = 0.8,\n",
    "         line_color = 'red',\n",
    "         radius = 0.01)\n",
    "show(p)"
   ]
  },
  {
   "cell_type": "markdown",
   "metadata": {},
   "source": [
    "También es posible combinar dos estilos de gráfico juntos. Probaremos a realizar un scatter plot de dos maneras, a través de círculos <code>**circle**</code> y cuadrados <code>**square**</code>"
   ]
  },
  {
   "cell_type": "code",
   "execution_count": 10,
   "metadata": {},
   "outputs": [
    {
     "data": {
      "text/html": [
       "\n",
       "\n",
       "\n",
       "\n",
       "\n",
       "\n",
       "  <div class=\"bk-root\" id=\"55b5cdac-9698-446c-b2a5-24fc89576686\" data-root-id=\"1418\"></div>\n"
      ]
     },
     "metadata": {},
     "output_type": "display_data"
    },
    {
     "data": {
      "application/javascript": [
       "(function(root) {\n",
       "  function embed_document(root) {\n",
       "    \n",
       "  var docs_json = {\"c3e6e8e2-7801-47bb-9083-483bda2ca2a9\":{\"roots\":{\"references\":[{\"attributes\":{\"below\":[{\"id\":\"1427\"}],\"center\":[{\"id\":\"1430\"},{\"id\":\"1434\"}],\"left\":[{\"id\":\"1431\"}],\"plot_height\":500,\"plot_width\":500,\"renderers\":[{\"id\":\"1452\"},{\"id\":\"1457\"}],\"title\":{\"id\":\"1496\"},\"toolbar\":{\"id\":\"1442\"},\"x_range\":{\"id\":\"1419\"},\"x_scale\":{\"id\":\"1423\"},\"y_range\":{\"id\":\"1421\"},\"y_scale\":{\"id\":\"1425\"}},\"id\":\"1418\",\"subtype\":\"Figure\",\"type\":\"Plot\"},{\"attributes\":{\"overlay\":{\"id\":\"1441\"}},\"id\":\"1437\",\"type\":\"BoxZoomTool\"},{\"attributes\":{},\"id\":\"1438\",\"type\":\"SaveTool\"},{\"attributes\":{},\"id\":\"1439\",\"type\":\"ResetTool\"},{\"attributes\":{\"fill_alpha\":{\"value\":0.1},\"fill_color\":{\"value\":\"lightgreen\"},\"line_alpha\":{\"value\":0.1},\"line_color\":{\"value\":\"red\"},\"radius\":{\"units\":\"data\",\"value\":0.01},\"x\":{\"field\":\"x\"},\"y\":{\"field\":\"y\"}},\"id\":\"1451\",\"type\":\"Circle\"},{\"attributes\":{\"source\":{\"id\":\"1449\"}},\"id\":\"1453\",\"type\":\"CDSView\"},{\"attributes\":{\"data_source\":{\"id\":\"1454\"},\"glyph\":{\"id\":\"1455\"},\"hover_glyph\":null,\"muted_glyph\":null,\"nonselection_glyph\":{\"id\":\"1456\"},\"selection_glyph\":null,\"view\":{\"id\":\"1458\"}},\"id\":\"1457\",\"type\":\"GlyphRenderer\"},{\"attributes\":{},\"id\":\"1502\",\"type\":\"UnionRenderers\"},{\"attributes\":{\"data_source\":{\"id\":\"1449\"},\"glyph\":{\"id\":\"1450\"},\"hover_glyph\":null,\"muted_glyph\":null,\"nonselection_glyph\":{\"id\":\"1451\"},\"selection_glyph\":null,\"view\":{\"id\":\"1453\"}},\"id\":\"1452\",\"type\":\"GlyphRenderer\"},{\"attributes\":{\"text\":\"\"},\"id\":\"1496\",\"type\":\"Title\"},{\"attributes\":{},\"id\":\"1503\",\"type\":\"Selection\"},{\"attributes\":{\"source\":{\"id\":\"1454\"}},\"id\":\"1458\",\"type\":\"CDSView\"},{\"attributes\":{\"fill_alpha\":{\"value\":0.1},\"fill_color\":{\"value\":\"lightblue\"},\"line_alpha\":{\"value\":0.1},\"line_color\":{\"value\":\"brown\"},\"size\":{\"units\":\"screen\",\"value\":8},\"x\":{\"field\":\"x\"},\"y\":{\"field\":\"y\"}},\"id\":\"1456\",\"type\":\"Square\"},{\"attributes\":{\"fill_color\":{\"value\":\"lightblue\"},\"line_color\":{\"value\":\"brown\"},\"size\":{\"units\":\"screen\",\"value\":8},\"x\":{\"field\":\"x\"},\"y\":{\"field\":\"y\"}},\"id\":\"1455\",\"type\":\"Square\"},{\"attributes\":{\"data\":{\"x\":{\"__ndarray__\":\"Y/QLNffLwj/y3whusMmqP9kztjTjjlQ/WuQTHVwEkz9/prVkcUTmP+zH2sfPJZU/tfmWarWk3z9LW4ekYlqQP+K0Mq6ZDsU/CdxvtcmM0j9hHgwkoZFnP5X0JHtSV70/K9oEJGYOrT+DNRfszSCUP9snF0MkXMY/JtY0xn9Z4T/YDbaEt8jEP91jDRFW2uI/NTzdt9NHzj+Nk+wkR/hkP/ZCSYgsCp8/Gv3bvbaGwz/FHiB9Av7pPwHWbA2bGpE/3uuuo8C91j/O3tqzgYjuP2tjcZlZ3TU/aJesRY9nkz8Zb6wJOs3dP0yRDb1RD9s/V83xBMr3pz9iLmJ/douRP1+or2t1pU0/zg59jVDe3j+RQapXsZdUPwolszJYGes+GFU4EeOesj/0b+etAgniP3bvlJQAmY4/xGnVJ9zF4j8/t3IjdT3VP/csJRnDysY/fgeQFqE27D+w/ZBd7eGkP2BvKccrouc/EG2SVjqJvD+t5ypZyFKMP4cudZtaHac/Rwp7GddgtT8Q6EL35vXHP4jOSRh334E/9BwFO80foD9AnvqtNlehP6aV/bd9KuQ/wEN8j9mwxz9EMhQQvSuoP7iciYpfhM0/mvXuizTzyD83ua2Wg6PhP46mQNtnVIc/1R1qAAqukz+cIV2/Z+DeP4OBtxAEL7M/F3mE+bXeRT8jOEypqz3qP9NiD38IOuY/1H//31teYz+Sqs9s9AH/Pqu8M+lG504/8ewl1Nl76T9wUU4BUlNlP5uRG05X5sA/vlva/wK7wj/P6r8EYQ/PP6ZdWyJGTjo/s2crE6fw5D/OH6Mvb42zPznkkld6tmM/taHGdgn5nz/IQIrCCnmXP7nET6zoN+k/VPzxe4/lXD84/yvZB2PWPxB4P1F2kN0/aWU7H8lUwj+6C/UtTUfjP255AdUfpu4/IvIB2Ax0lj8ExZPA5rjrPw4Vywzd/aA/WZkyXjEEpT+WboJyHN6/P4v4Jid0qL0/nHp+eHCyQj+VhNkQa1TTP+CXZ/IJQ4E/XwPpwRSFtz+nnEC8Ic08Px1feSX5Z+8/npSTgRr6bT8=\",\"dtype\":\"float64\",\"order\":\"little\",\"shape\":[100]},\"y\":{\"__ndarray__\":\"oYyCYGzVsz9oWmarwgmUP8msElAuvSE/2QqED+skdD8UtTmFb7vjP/OQL1dWNXc/ab6nXpAF2T8wSAdw9HhwP2EvisFlE7c/zgATWGmNyD/jF6d4LNE6P0asrw09gaw/BUNei/hUlj96B8kHhbp1P/TIGZa2/7g/D/Xwh1lL3D9w4WoCgq22P7g/SE0EnN8/G3aEE0S6wj+DbwGszfI2P8KVmQEyW4M/uapEl9fdtD+ucjslbEDoP6KMTXMTfXE/I/U2lX0b0D9yMODnNA/uPxzZPSBoQ/g+A0Z5gH+xdD97MJ42WxnXP11TuS9TT9Q/klpMnLJGkT9tPJ7wlxdyP0SvUSNL8BY/7jp1WUA12D86uZtmUMchP6v87yhcWZQ+xonTAmQXnz+FA/s/e8vdP+NrTvvdJG4/VpkuN0Zu3z+JZoKpPWnNP5IFJrskpbk/w/GmorMN6z/gyk06usCMP7C3+avRXOU/TRdPo4F3qz/mQV08uDFrPwtpM4IFdpA/uxFcXlKwoj8BiCxnt2m7PzKhA0EbcF0/70ZaDSFehD9yE7c4G3GGP/czuWELSuE/bZrhJJQAuz8G1LTwsXiRP7dTO1fFGcI/+XLOtMDuvD/v0xaKvOzcP7OwEeNL/2Q/ZsGbx/IVdT8dDzn/bzfYP+Cshn/vLKA/f74cSGuUDj+nggHYvo/oP+THYdIjr+M/GW++amukND+kLHI3Ca+uPrGdC+KfPhg/VS3ybgef5z94WIlrBXg3P9Y6DPr2NbE/Ojg6x5W9sz+WlE8Jhl/DP6JBBDkuDP8+3qcPcwEu4j+jXvTFbJegP/Cvr94BIjU/gsdU88kihD/tp2vQ5at6P6zEjvQ0S+c/MLIJq0DuKz/I9HgcE4zPP1KRym2k2tY/KuYuRXIusz8/Mh/kQkjgP7vm2M4bNu4/ajms2mAjeT91/IKlbG3qPyk451Zy14U/O1yddbP/jD9MVUKU2NKvP6EpO/qE6qw/7LmzCvLPCD82Dej3KPDJP1j/SWSNGlw/r9rUm8k5pT+4Nx4RjoQBP5jy+1ztNe8/reeTzkd6Qj8=\",\"dtype\":\"float64\",\"order\":\"little\",\"shape\":[100]}},\"selected\":{\"id\":\"1505\"},\"selection_policy\":{\"id\":\"1504\"}},\"id\":\"1454\",\"type\":\"ColumnDataSource\"},{\"attributes\":{},\"id\":\"1504\",\"type\":\"UnionRenderers\"},{\"attributes\":{\"bottom_units\":\"screen\",\"fill_alpha\":0.5,\"fill_color\":\"lightgrey\",\"left_units\":\"screen\",\"level\":\"overlay\",\"line_alpha\":1.0,\"line_color\":\"black\",\"line_dash\":[4,4],\"line_width\":2,\"right_units\":\"screen\",\"top_units\":\"screen\"},\"id\":\"1441\",\"type\":\"BoxAnnotation\"},{\"attributes\":{\"fill_color\":{\"value\":\"lightgreen\"},\"line_alpha\":{\"value\":0.8},\"line_color\":{\"value\":\"red\"},\"radius\":{\"units\":\"data\",\"value\":0.01},\"x\":{\"field\":\"x\"},\"y\":{\"field\":\"y\"}},\"id\":\"1450\",\"type\":\"Circle\"},{\"attributes\":{},\"id\":\"1505\",\"type\":\"Selection\"},{\"attributes\":{},\"id\":\"1419\",\"type\":\"DataRange1d\"},{\"attributes\":{\"data\":{\"x\":{\"__ndarray__\":\"nbvW6vXh4D/OJySW3e/XPxAhTNGenLs/HFx7Z8fy0D8t8h3fUlvsPwDnJPwdj9E/W23jc8BN6T/+zmnV6B3QP7aJAAuviOE/S1ckmmQt5T8cYxfpgDTCP4JLbReEFt8/wtrJjCuY2D8EB619r0XRP4YJlXlq4+E/I1bF2uUX6j9MVPbKM3XhP2FwUPaB0+o/cVI31H/K4z/0fku1eoLBP4bGPMN99NM/MrQfvSkZ4T+kFO68a9vtP8JaQWMdXNA/4PXiUlCq5j8t5Rl534DvP8D98O1ZwbE/EFdO9QwQ0T8dyjTCjs3oP2TMoSOJBOg/WG7tTNIQ1z8Yb3beyn/QP9hJMIGBwrg/JHWpl24Y6T/QLPdvj6C7P0BLihWAB5g/fAzUoDG32j/S1p93wG7qP/wrJs6Khs8/7Wh7KMjJ6j8rF3/ouSfmP9fgxTO6AOI/5qS3jTiv7j/ENkmouAfWP4X0rsTX7Ow/jN0IRA3N3j9oeFMAarnOP8gyG/jmydY/0H5OzGT52z+kgAbwLU7iP5jya+tkWso/ah5CRPU11D9UbjfL7bTUP3wR5T9ib+s/vk+mNYc84j+KuPN1cCHXP9Svu+SNn+M/qtF3R9GN4j+tkdWTzDzqPwAYy+j6zMw/7h3qjpwk0T/y1TKd/xjpP1b57nNw+9o/kDvbcT9ftj82H+cYuPPtP092j/bmVuw/cOwYJ1oNwT8gU1pwbaqfP6h6Nh3cGrk/4GcjOEGp7T/U7SdorZvBP5ks52liS+A/Vs5n+eDc4D/rcg0/m/XjPyhmDDBW4rI/4hIjLR/I6z+0OkL6bCfbP5B+6H4PJ8E/HglCjywn1D8wzPcQKi7SP7DlVZDNju0/oPhRGiLuvj859HglBIzmP3yNUL6nvOg/Ts2UCvu94D8WyO99zgbrP5RjhN4Li+8/kq9BZsjp0T/6jMu6X4HuP6h8y3AfkdQ//sW9yL4T1j9OpvcmsPTfPxiUPz4RM98/AN628K47tT9NjXIzUnjlP1wDyHOeDMo/UILpu/Tg3D9wgTxXnXazP3zA5vUBze8/HDPcZoK5wz8=\",\"dtype\":\"float64\",\"order\":\"little\",\"shape\":[100]},\"y\":{\"__ndarray__\":\"/gPe+GLQ0T/fGcWD1OfBPzZWvZBK04c/lCymqPLzsT+t/5+m1SDpPwywAeAfRbM/qYHGnzkC5D+ldRWUCTywP3sul54DN9M/I/763KgH3D+9VW5WzraUP+s5JcWvM84/i4oj8RTnwj9JdDBsRKWyP74nW6Li/9M/pTBeXOdG5T+jbWuVaAzTP7jMMiwpfeY/mxyvd/J62D9bje/ObCmTPwmZT69C47g/+0O/RKBF0j/3O4TSk9vrP0wfrhhNurA/zlwy6LgN4D/UnIP8twPvPw3mJaX/s3M/V5Q7oysysj+4U+SSfjnjP0pUB1rOBuI/ck5IJjegwD+Xs4RrkgOxP+LzEoZgKIM/tHpadD+u4z+YtdOpF9qHP8KJWeJBC0I/SgVFZclNxj83xR8SeNXlPyKMQpziDq8/ERMpod1s5j/1CBvioa3eP0Qu9PyiQdQ/QVCqfEls7T8pvK+IP1W+PycgdoxSJeo/1dCN0ZqlzT8MaZ8T2X+tP4xRNXmXOsA/mH2twnF0yD8NxXZcZfHUP5LveVfjs6U/nz05IpuHuT9kETVwUMy6P4V6m355hec/zCw/MxXJ1D9Q2wybNLjAPxAwShgoEdg/55MK5P+D1T8pTYH0P4PlP3XjKh7Y66k/8oQwdiBesj/pDgXtIq/jP0A3CmpOwMY/+IJ+eyVIfz8xPUDl/QjsP+BRay8AGek/JneQt2oskj+zB++1v1VPP/apPnkOsoM/sg4mb0V+6z8IPm40u2CTP4GEzAAomNA/4Jn1KavF0T9rQw3eCubYPzWJubDDSXY//cX9IZge6D9j5WR5uArHPz68R0lgY5I/pZHbT09iuT9ptX3YY6i0P30uJdtRTes/go3FDGzljT9jd52v1MXfP41V5NNTH+M/EnJm38WE0T/vUijnfdPmPxYGQi7DF+8/J827vyEOtD/QEi6LnhTtPwfoFuTyb7o/oowJBmV2vj+zv5tNZOnPPzPkmudCa84/FA2I2YktfD8tubaZYM/cP3J0DHaGNKU/JR9vstkPyj++sQEGJa13PzLQjS1Vmu8/kGf8j/xQmD8=\",\"dtype\":\"float64\",\"order\":\"little\",\"shape\":[100]}},\"selected\":{\"id\":\"1503\"},\"selection_policy\":{\"id\":\"1502\"}},\"id\":\"1449\",\"type\":\"ColumnDataSource\"},{\"attributes\":{\"formatter\":{\"id\":\"1500\"},\"ticker\":{\"id\":\"1428\"}},\"id\":\"1427\",\"type\":\"LinearAxis\"},{\"attributes\":{},\"id\":\"1498\",\"type\":\"BasicTickFormatter\"},{\"attributes\":{},\"id\":\"1423\",\"type\":\"LinearScale\"},{\"attributes\":{\"formatter\":{\"id\":\"1498\"},\"ticker\":{\"id\":\"1432\"}},\"id\":\"1431\",\"type\":\"LinearAxis\"},{\"attributes\":{},\"id\":\"1421\",\"type\":\"DataRange1d\"},{\"attributes\":{},\"id\":\"1425\",\"type\":\"LinearScale\"},{\"attributes\":{},\"id\":\"1440\",\"type\":\"HelpTool\"},{\"attributes\":{},\"id\":\"1428\",\"type\":\"BasicTicker\"},{\"attributes\":{\"axis\":{\"id\":\"1427\"},\"ticker\":null},\"id\":\"1430\",\"type\":\"Grid\"},{\"attributes\":{\"axis\":{\"id\":\"1431\"},\"dimension\":1,\"ticker\":null},\"id\":\"1434\",\"type\":\"Grid\"},{\"attributes\":{},\"id\":\"1432\",\"type\":\"BasicTicker\"},{\"attributes\":{},\"id\":\"1500\",\"type\":\"BasicTickFormatter\"},{\"attributes\":{},\"id\":\"1436\",\"type\":\"WheelZoomTool\"},{\"attributes\":{\"active_drag\":\"auto\",\"active_inspect\":\"auto\",\"active_multi\":null,\"active_scroll\":\"auto\",\"active_tap\":\"auto\",\"tools\":[{\"id\":\"1435\"},{\"id\":\"1436\"},{\"id\":\"1437\"},{\"id\":\"1438\"},{\"id\":\"1439\"},{\"id\":\"1440\"}]},\"id\":\"1442\",\"type\":\"Toolbar\"},{\"attributes\":{},\"id\":\"1435\",\"type\":\"PanTool\"}],\"root_ids\":[\"1418\"]},\"title\":\"Bokeh Application\",\"version\":\"2.2.3\"}};\n",
       "  var render_items = [{\"docid\":\"c3e6e8e2-7801-47bb-9083-483bda2ca2a9\",\"root_ids\":[\"1418\"],\"roots\":{\"1418\":\"55b5cdac-9698-446c-b2a5-24fc89576686\"}}];\n",
       "  root.Bokeh.embed.embed_items_notebook(docs_json, render_items);\n",
       "\n",
       "  }\n",
       "  if (root.Bokeh !== undefined) {\n",
       "    embed_document(root);\n",
       "  } else {\n",
       "    var attempts = 0;\n",
       "    var timer = setInterval(function(root) {\n",
       "      if (root.Bokeh !== undefined) {\n",
       "        clearInterval(timer);\n",
       "        embed_document(root);\n",
       "      } else {\n",
       "        attempts++;\n",
       "        if (attempts > 100) {\n",
       "          clearInterval(timer);\n",
       "          console.log(\"Bokeh: ERROR: Unable to run BokehJS code because BokehJS library is missing\");\n",
       "        }\n",
       "      }\n",
       "    }, 10, root)\n",
       "  }\n",
       "})(window);"
      ],
      "application/vnd.bokehjs_exec.v0+json": ""
     },
     "metadata": {
      "application/vnd.bokehjs_exec.v0+json": {
       "id": "1418"
      }
     },
     "output_type": "display_data"
    }
   ],
   "source": [
    "p = figure(plot_width=500, plot_height=500)\n",
    "\n",
    "import numpy as np\n",
    "\n",
    "normal = np.random.rand(100)\n",
    "square = normal**2\n",
    "cubic = normal**3\n",
    "polynomic = normal**4\n",
    "\n",
    "\n",
    "p.circle(normal ,square, \n",
    "         fill_color  = 'lightgreen',\n",
    "         line_alpha = 0.8,\n",
    "         line_color = 'red',\n",
    "         radius = 0.01)\n",
    "\n",
    "p.square(cubic ,polynomic, \n",
    "         fill_color  = 'lightblue',\n",
    "         line_alpha = 1,\n",
    "         line_color = 'brown',\n",
    "         size = 8)\n",
    "show(p)"
   ]
  },
  {
   "cell_type": "markdown",
   "metadata": {},
   "source": [
    "Para añadir texto a nuestra visualización, tenemos que acceder a los propios atributos de nuestro objeto **figure**, para añadir texto en los ejes x e y tenemos que acceder a los siguientes atributos:\n",
    "* **xaxis**\n",
    "* **yaxis**\n",
    "\n",
    "Para ambos atributos, dispondremos del atributo **axis_label**, el título de un gráfico podemos añadir a través del parámetro **title** dentro de la función figure cuando inicializamos el gráfico"
   ]
  },
  {
   "cell_type": "code",
   "execution_count": 11,
   "metadata": {},
   "outputs": [
    {
     "data": {
      "text/html": [
       "\n",
       "\n",
       "\n",
       "\n",
       "\n",
       "\n",
       "  <div class=\"bk-root\" id=\"6afa0076-1933-4453-9f21-165e97cf46d3\" data-root-id=\"1561\"></div>\n"
      ]
     },
     "metadata": {},
     "output_type": "display_data"
    },
    {
     "data": {
      "application/javascript": [
       "(function(root) {\n",
       "  function embed_document(root) {\n",
       "    \n",
       "  var docs_json = {\"6d8d0989-2571-4c9b-9ea9-fc95c2391d5b\":{\"roots\":{\"references\":[{\"attributes\":{\"below\":[{\"id\":\"1572\"}],\"center\":[{\"id\":\"1575\"},{\"id\":\"1579\"}],\"left\":[{\"id\":\"1576\"}],\"plot_height\":500,\"plot_width\":500,\"renderers\":[{\"id\":\"1597\"},{\"id\":\"1602\"}],\"title\":{\"id\":\"1562\"},\"toolbar\":{\"id\":\"1587\"},\"x_range\":{\"id\":\"1564\"},\"x_scale\":{\"id\":\"1568\"},\"y_range\":{\"id\":\"1566\"},\"y_scale\":{\"id\":\"1570\"}},\"id\":\"1561\",\"subtype\":\"Figure\",\"type\":\"Plot\"},{\"attributes\":{\"data\":{\"x\":{\"__ndarray__\":\"fBQY2j90xT8tUnlZTa7iP1NHizYqeYo/45HOWLnQ7j8aQv82hfl4P9VtRttptuo/f+Imedk6yT9xm9A9a72RP3ZchHleVug/R9TP/HHypD8+DD9VQ1tqP3DmWsd3Jcg/b7uAPossWj8HWCZDJEzOPxvwJrmmz5g/aw9MgmDHsD+tdSgg4RDUP7HkMznrryw/Rzxex7/Atj+8rXFBSVrpP9Rfa1FYU6U/+q/Rf3FX5j8OlexVguTkP6IQhlpcErc/9yZwypGQnz8EWRL2E0XcP+GGYgxxa+c/GR1hxFZ+0T/Rao5AONATP8Yv2HBxm8U/zVwVm9a40j+fVxT8ziuFP8QeoKxRGMY/cdsDrkRRcz+WzDY0z71lP1G0oMANieY/Gke420Ae6j/YqIMYzQrrP+pjfCq6KsA/mu1oy5bo0z9saVhGpIerP4KTGi+oNpE/ciOzB+ddUj9ZawiMJwHEPywJAM+U/j0/6SX6blNDhD/hstsuVKuSPoskcnwmQWU+b3oGWc//4D91rpA14EXlP0E5R4cnpbQ/cVO2Vxow5D9hd3i4BpvgP6c3MwQrI8M/UWaLO7rE3T9XFC45GyqBP0+SHVXl/rA/IvBX5sgx2j9C3q1CH1CzP2bUu8KNAbE/hiIHvgncKj/vcWJVxJu1PzX/v64EaJE/11aijeyR0T9xQaU033HYP+DXqU0bf9A/5Jc7h6p5xz+lnx06Yb/mP9EGIf6tdpo/7Gh0sGBJyT9oWZpfKzPvP77wPnIcKqA/gfGlC4wbMD+1HKeqxSrjP0D9qfdTJco/P8Cpc+U4sT+4S+mIPneOP7K3F9AYYOE/Rl+xvKb96j8jjktGHR+vP/7M0QhkAe8/abqaxv6I0z93U1J0OmdXPwEPQTJOwkg/Fm5p0hdOXj9xUvaY51uXP1ae/LX4orI/GygeMlQm1z8ELFS84eIiPyeUwMtcSYE/jw3pI/Srmz9Fr/kNDsvJPye5WfEFMcg/L8aMvrENvD9ZKVj3f3jXP+nzMhLAsGk/dHBc+oS0ND96v3PiX2OQP7G4yk1/5x0/6Bp2BFVd2D8=\",\"dtype\":\"float64\",\"order\":\"little\",\"shape\":[100]},\"y\":{\"__ndarray__\":\"ChFsUGOotz+dru1ZujnfPw0seZca2mg/2xWW2yVu7j9n9IAqHUBSP7IGyefhJuk/r1YUrrtdvT/JNjQdaFxyP3eSQEYRN+Y/g4kyUxHfjD+DXKuxoCA/P9ZJ6Hlesrs/6bOTaWF6KD+1F/n+0r3CP/gFotzUt3w/Eg5RxF4Pmz/ZYw+VeEPLP7bKYoU0qes+tAqUotZOpD84qT0mlXXnPy3F/4ytkY0/CeTozOXR4z85Azc49B/iP2ZS/d8vsKQ/7s8O8kDLgz9ds9CXmYfVPzJKTTz1GuU/Oxqs8re0xj+to3aDlM7KPvG73RYV4rc/VLf4P0XbyD9C6tnGm3JiP8DATIHPmrg/eMGyXIbqST+1UIduyBQ4PwXx5t2pDOQ/sEOMP5Fo6D/hjnD5CpHpP2lovYQRObA/oBiwoJP6yj92vAVbFciUP5DKLA9co3E/WVNomwuHHj/GnlfTAo21P1qwu//1fQI/l83O43RmYT+kTBAeGjMfPhKsaoNri+I9ymC3HfyI2z8EnHcI65DiPyUlLBvR1qE/OiDr7HVQ4T9qMd9xKrDaP12mPvZ5ULQ/RX7WB5MQ1z9JbvP7euRbP+lsjLoCh5s/9d0OKdFy0z9CAa19MlKgPzUEhU3AjJs/Ay5GLSlW6T7q+vkQIfWiPxfCxn7s5nE/ufVCNqPWxj+l4gdRarzRP0wkUl5C/8Q/lk8q39esuj/ddIp5NU3kPxzx0V/US38/SHWiyEl0vT8A7fN9CfDuPwFdZPN/b4Q/clJGQMUk8D4zjjFIKijgP4N04GnPy74/PRrXJIsEnD9o5aJBjvhtP6RyxCmzWdw/DeKbw3iA6T8OgL7lGXmYP/huh7VKru4/WK6aLmVOyj+pRYdh5RUlPzX+2alkChI/YsZITaDCLT+9gfoeyn96P4oziUJ8IJ8/p7Jyr4t+0D8duMNQIK/fPnUvt2JIKFw/JBQmBpabgD9hFdyNWz6+PxmaPwwMxLs/ErpDRGrZqj88CgjhyczQP+2Y5rZCFT4/ft4nkySQ9j7Xgl5FCIVwPwv3U3iFNNc+FWzHT46o0T8=\",\"dtype\":\"float64\",\"order\":\"little\",\"shape\":[100]}},\"selected\":{\"id\":\"1660\"},\"selection_policy\":{\"id\":\"1659\"}},\"id\":\"1599\",\"type\":\"ColumnDataSource\"},{\"attributes\":{\"fill_color\":{\"value\":\"lightgreen\"},\"line_alpha\":{\"value\":0.8},\"line_color\":{\"value\":\"red\"},\"radius\":{\"units\":\"data\",\"value\":0.01},\"x\":{\"field\":\"x\"},\"y\":{\"field\":\"y\"}},\"id\":\"1595\",\"type\":\"Circle\"},{\"attributes\":{\"fill_color\":{\"value\":\"lightblue\"},\"line_color\":{\"value\":\"brown\"},\"size\":{\"units\":\"screen\",\"value\":8},\"x\":{\"field\":\"x\"},\"y\":{\"field\":\"y\"}},\"id\":\"1600\",\"type\":\"Square\"},{\"attributes\":{\"bottom_units\":\"screen\",\"fill_alpha\":0.5,\"fill_color\":\"lightgrey\",\"left_units\":\"screen\",\"level\":\"overlay\",\"line_alpha\":1.0,\"line_color\":\"black\",\"line_dash\":[4,4],\"line_width\":2,\"right_units\":\"screen\",\"top_units\":\"screen\"},\"id\":\"1586\",\"type\":\"BoxAnnotation\"},{\"attributes\":{\"text\":\"Transformaciones de distribuci\\u00f3n normal\"},\"id\":\"1562\",\"type\":\"Title\"},{\"attributes\":{},\"id\":\"1657\",\"type\":\"UnionRenderers\"},{\"attributes\":{\"fill_alpha\":{\"value\":0.1},\"fill_color\":{\"value\":\"lightgreen\"},\"line_alpha\":{\"value\":0.1},\"line_color\":{\"value\":\"red\"},\"radius\":{\"units\":\"data\",\"value\":0.01},\"x\":{\"field\":\"x\"},\"y\":{\"field\":\"y\"}},\"id\":\"1596\",\"type\":\"Circle\"},{\"attributes\":{},\"id\":\"1564\",\"type\":\"DataRange1d\"},{\"attributes\":{},\"id\":\"1658\",\"type\":\"Selection\"},{\"attributes\":{},\"id\":\"1566\",\"type\":\"DataRange1d\"},{\"attributes\":{},\"id\":\"1585\",\"type\":\"HelpTool\"},{\"attributes\":{\"axis_label\":\"Valor de distribuci\\u00f3n X\",\"formatter\":{\"id\":\"1655\"},\"ticker\":{\"id\":\"1573\"}},\"id\":\"1572\",\"type\":\"LinearAxis\"},{\"attributes\":{},\"id\":\"1573\",\"type\":\"BasicTicker\"},{\"attributes\":{},\"id\":\"1570\",\"type\":\"LinearScale\"},{\"attributes\":{\"axis_label\":\"Valor de distribuci\\u00f3n Y\",\"formatter\":{\"id\":\"1653\"},\"ticker\":{\"id\":\"1577\"}},\"id\":\"1576\",\"type\":\"LinearAxis\"},{\"attributes\":{},\"id\":\"1568\",\"type\":\"LinearScale\"},{\"attributes\":{\"axis\":{\"id\":\"1572\"},\"ticker\":null},\"id\":\"1575\",\"type\":\"Grid\"},{\"attributes\":{},\"id\":\"1659\",\"type\":\"UnionRenderers\"},{\"attributes\":{\"active_drag\":\"auto\",\"active_inspect\":\"auto\",\"active_multi\":null,\"active_scroll\":\"auto\",\"active_tap\":\"auto\",\"tools\":[{\"id\":\"1580\"},{\"id\":\"1581\"},{\"id\":\"1582\"},{\"id\":\"1583\"},{\"id\":\"1584\"},{\"id\":\"1585\"}]},\"id\":\"1587\",\"type\":\"Toolbar\"},{\"attributes\":{},\"id\":\"1660\",\"type\":\"Selection\"},{\"attributes\":{\"axis\":{\"id\":\"1576\"},\"dimension\":1,\"ticker\":null},\"id\":\"1579\",\"type\":\"Grid\"},{\"attributes\":{},\"id\":\"1577\",\"type\":\"BasicTicker\"},{\"attributes\":{\"source\":{\"id\":\"1594\"}},\"id\":\"1598\",\"type\":\"CDSView\"},{\"attributes\":{},\"id\":\"1653\",\"type\":\"BasicTickFormatter\"},{\"attributes\":{},\"id\":\"1581\",\"type\":\"WheelZoomTool\"},{\"attributes\":{},\"id\":\"1580\",\"type\":\"PanTool\"},{\"attributes\":{\"overlay\":{\"id\":\"1586\"}},\"id\":\"1582\",\"type\":\"BoxZoomTool\"},{\"attributes\":{},\"id\":\"1583\",\"type\":\"SaveTool\"},{\"attributes\":{\"data\":{\"x\":{\"__ndarray__\":\"cIe447ik4T/Xl1Lhjr7qPyDfZOtJCs4/zVAIWqKZ7z+QKrzeXWLHP+4kGeRiIe4/V1PnxIKf4j9oDUX2ZI/QP32GQdejNe0//gz7IYYN1j80/DFdceXCPzVZeOdCWuI/oOQbhDLtvT8e+FRscMvjP8wOGef8hNI/2IG+LNPN2T/3+6LHOr3lP7BBzazy2q4/OguGGraP3D/SKEzKNZztP8Tx/X5TL9Y/FhwuV2Fj7D8XVSlSv8LrPzyj15+zsdw/QvepeiER1D99LDcA2V7oP43rYoFy1uw/L6FJ7HTE5D/AxTnMx6WlP2QOydlwr+E/DJmqxho+5T+EG933L+LLPzMWk/BB0eE/BKqYlCd3xT8UhSQyzLjBP4rAIwhVeOw/dH1jOr/n7T8jX6kp/EDuP7nLTXMxDuA/inGnMaSu5T8u56kY7ifYP7QgihYKZdA/CDpmIPmXuj9ooYglnTzhP8AH0cV9urM/vGdGyaB6yz+A+pmQI716PwDqj2eL62s/5pIt3qDq6T/YWc7znO3rP8jsNkaTpts/2SFjge1x6z8Rx1a6ArfpP+jSoXfp++A/vArA6jLL6D/UKO2+DQDKP9pefu8p6tk/nODdAUjC5z/GV/gQ7QrbP0bjJrOD69k/0L5zsoEvrj/slK8qARPcP170WgCndNA/NRpDEzLM5D/fWWAcujfnP/msFKh5XeQ/ie8pUFMu4j+e9FdpI4/sP7Zs+W/869I/bC8PLhWj4j/7eTBjJbvvPw47/gxDOtQ/gK6EbikJsD9BRon1cvnqP8UNrs6E2OI/VnmpW4MH2j/EFL197nrPP9hkMzE0G+o/lfC3+hM87j9C1JrM8SnZP2xZOEk8qu8/1G+l/beL5T8oN/Wxt9S8P4hycXwVUbc/kP7ImLtsvz98H+EroSbSP0Jls44ludo/B+FTptnM5j8wIp/6jteqP5C8amHMD8o/KHBui5o00z+1f8gmu8LiP3/j9eQvXeI/Fu65S1qg3j9c0GEHtOfmP1w8H1NYvMI/eH9DRYpvsT8YEO5K3CDQP7BRhFzW1Kg/hIAvizcx5z8=\",\"dtype\":\"float64\",\"order\":\"little\",\"shape\":[100]},\"y\":{\"__ndarray__\":\"5Oh8uqh00z944VfxFlrmPycCO+hNM6w/o7wkKow07z9oGjZQlRahP44010C8Xuw/Qro+dhyt1T9NQrkLzyOxP2SrJuCSqeo/JRXOSzxlvj/JZN9RGVGWP1iVkroTDdU/hSoHxMn8iz/iqBy5RX3YP177emSKb7U/EIoI1cXOxD8CMZBJeIndPw+hoxVhwG0/de8DFgR+yT+m23gLHGbrP0ImeJmxwr4/6TcE/B4v6T9f0uEORBXoP4LmwSbVusk//KATCuYquT/NkfOgXo/iPzFjiX/l/Ok/sI6rgpD02j/ywKoq4kldP0JBg4ZTjNM/L0swWfcz3D8tGRq470uoP51S9epc19M/+AY1Qz/MnD8A4jxNCKGTP1aQ3UxZVOk/NBEm75jy6z9ASIfGXJrsPxI1vn1vHNA/cn4kPOFh3T/bh0b4FjzCP5EtdzySzLA/aGNbk8YZhj+pSGOQs5HSP8xa5GVoU3g/lmnNQMWYpz/N2D23t1cGP545owhBXOg+2kMBr1P95D+NaEk73V/oPx33GqF75Mc/1dubZtaJ5z8XE1vqCqrkP9HKmylRB9I/9HhzrtY14z/sSUdWFiClPxQBuwuT/MQ/ip1nDOOj4T+98qnHc9rGPwEVYiDD/sQ/b+SitVl5bD8CABZUTaHIP/4mCn2g7LA/G6mvLasI2z9fdsaUfNjgP+ilEj7S69k/Wh0dlcGo1D/6nf48/nzpP7M92ZKQYLY/hqlI52211T984VDt3nbvP6vDssd7krk/qPsQHFgScD9NN6lV87zmPxVXItecMtY/07aGODcsxT9Fig5VBviuP8yqW/BLTOU/RI4RQRaR7D9fT3HKwMnDPzK32G5eVe8/4SntDocD3T/jkIF9x/mJPzCAt1dc/YA/dH6Y7hzcjj+3d6LmR5e0P0mTUUIMUcY/EV6Eoco+4D/ZKQlj9INmP7QhAuuzOaU/BVmF/ZsNtz9duDwaZ//VP0NIfoDKE9U/X6zw1cxPzT+95UU9JWXgP+E5j9hv8JU/YGNbZg8Acz9i5uAS/EGwPzhKrCjJRGM/CPOOigvP4D8=\",\"dtype\":\"float64\",\"order\":\"little\",\"shape\":[100]}},\"selected\":{\"id\":\"1658\"},\"selection_policy\":{\"id\":\"1657\"}},\"id\":\"1594\",\"type\":\"ColumnDataSource\"},{\"attributes\":{},\"id\":\"1584\",\"type\":\"ResetTool\"},{\"attributes\":{\"data_source\":{\"id\":\"1594\"},\"glyph\":{\"id\":\"1595\"},\"hover_glyph\":null,\"muted_glyph\":null,\"nonselection_glyph\":{\"id\":\"1596\"},\"selection_glyph\":null,\"view\":{\"id\":\"1598\"}},\"id\":\"1597\",\"type\":\"GlyphRenderer\"},{\"attributes\":{\"fill_alpha\":{\"value\":0.1},\"fill_color\":{\"value\":\"lightblue\"},\"line_alpha\":{\"value\":0.1},\"line_color\":{\"value\":\"brown\"},\"size\":{\"units\":\"screen\",\"value\":8},\"x\":{\"field\":\"x\"},\"y\":{\"field\":\"y\"}},\"id\":\"1601\",\"type\":\"Square\"},{\"attributes\":{\"source\":{\"id\":\"1599\"}},\"id\":\"1603\",\"type\":\"CDSView\"},{\"attributes\":{},\"id\":\"1655\",\"type\":\"BasicTickFormatter\"},{\"attributes\":{\"data_source\":{\"id\":\"1599\"},\"glyph\":{\"id\":\"1600\"},\"hover_glyph\":null,\"muted_glyph\":null,\"nonselection_glyph\":{\"id\":\"1601\"},\"selection_glyph\":null,\"view\":{\"id\":\"1603\"}},\"id\":\"1602\",\"type\":\"GlyphRenderer\"}],\"root_ids\":[\"1561\"]},\"title\":\"Bokeh Application\",\"version\":\"2.2.3\"}};\n",
       "  var render_items = [{\"docid\":\"6d8d0989-2571-4c9b-9ea9-fc95c2391d5b\",\"root_ids\":[\"1561\"],\"roots\":{\"1561\":\"6afa0076-1933-4453-9f21-165e97cf46d3\"}}];\n",
       "  root.Bokeh.embed.embed_items_notebook(docs_json, render_items);\n",
       "\n",
       "  }\n",
       "  if (root.Bokeh !== undefined) {\n",
       "    embed_document(root);\n",
       "  } else {\n",
       "    var attempts = 0;\n",
       "    var timer = setInterval(function(root) {\n",
       "      if (root.Bokeh !== undefined) {\n",
       "        clearInterval(timer);\n",
       "        embed_document(root);\n",
       "      } else {\n",
       "        attempts++;\n",
       "        if (attempts > 100) {\n",
       "          clearInterval(timer);\n",
       "          console.log(\"Bokeh: ERROR: Unable to run BokehJS code because BokehJS library is missing\");\n",
       "        }\n",
       "      }\n",
       "    }, 10, root)\n",
       "  }\n",
       "})(window);"
      ],
      "application/vnd.bokehjs_exec.v0+json": ""
     },
     "metadata": {
      "application/vnd.bokehjs_exec.v0+json": {
       "id": "1561"
      }
     },
     "output_type": "display_data"
    }
   ],
   "source": [
    "p = figure(plot_width=500, plot_height=500, title='Transformaciones de distribución normal')\n",
    "\n",
    "normal = np.random.rand(100)\n",
    "square = normal**2\n",
    "cubic = normal**3\n",
    "polynomic = normal**4\n",
    "\n",
    "\n",
    "p.circle(normal ,square, \n",
    "         fill_color  = 'lightgreen',\n",
    "         line_alpha = 0.8,\n",
    "         line_color = 'red',\n",
    "         radius = 0.01)\n",
    "\n",
    "p.square(cubic ,polynomic, \n",
    "         fill_color  = 'lightblue',\n",
    "         line_alpha = 1,\n",
    "         line_color = 'brown',\n",
    "         size = 8)\n",
    "\n",
    "p.xaxis.axis_label = 'Valor de distribución X'\n",
    "p.yaxis.axis_label = 'Valor de distribución Y'\n",
    "\n",
    "\n",
    "show(p)\n"
   ]
  },
  {
   "cell_type": "markdown",
   "metadata": {},
   "source": [
    "También podemos cambiar elementos descriptivos de los ejes"
   ]
  },
  {
   "cell_type": "code",
   "execution_count": 12,
   "metadata": {},
   "outputs": [
    {
     "data": {
      "text/html": [
       "\n",
       "\n",
       "\n",
       "\n",
       "\n",
       "\n",
       "  <div class=\"bk-root\" id=\"23e97940-9c29-4328-a2ac-e0e352ec8f43\" data-root-id=\"1711\"></div>\n"
      ]
     },
     "metadata": {},
     "output_type": "display_data"
    },
    {
     "data": {
      "application/javascript": [
       "(function(root) {\n",
       "  function embed_document(root) {\n",
       "    \n",
       "  var docs_json = {\"29d5a716-ee19-4071-ba60-1093c2ed8a3d\":{\"roots\":{\"references\":[{\"attributes\":{\"below\":[{\"id\":\"1722\"}],\"center\":[{\"id\":\"1725\"},{\"id\":\"1729\"}],\"left\":[{\"id\":\"1726\"}],\"plot_height\":500,\"plot_width\":500,\"renderers\":[{\"id\":\"1747\"},{\"id\":\"1752\"}],\"title\":{\"id\":\"1712\"},\"toolbar\":{\"id\":\"1737\"},\"x_range\":{\"id\":\"1714\"},\"x_scale\":{\"id\":\"1718\"},\"y_range\":{\"id\":\"1716\"},\"y_scale\":{\"id\":\"1720\"}},\"id\":\"1711\",\"subtype\":\"Figure\",\"type\":\"Plot\"},{\"attributes\":{\"source\":{\"id\":\"1744\"}},\"id\":\"1748\",\"type\":\"CDSView\"},{\"attributes\":{\"fill_alpha\":{\"value\":0.1},\"fill_color\":{\"value\":\"lightblue\"},\"line_alpha\":{\"value\":0.1},\"line_color\":{\"value\":\"brown\"},\"size\":{\"units\":\"screen\",\"value\":8},\"x\":{\"field\":\"x\"},\"y\":{\"field\":\"y\"}},\"id\":\"1751\",\"type\":\"Square\"},{\"attributes\":{},\"id\":\"1815\",\"type\":\"BasicTickFormatter\"},{\"attributes\":{\"source\":{\"id\":\"1749\"}},\"id\":\"1753\",\"type\":\"CDSView\"},{\"attributes\":{\"data_source\":{\"id\":\"1749\"},\"glyph\":{\"id\":\"1750\"},\"hover_glyph\":null,\"muted_glyph\":null,\"nonselection_glyph\":{\"id\":\"1751\"},\"selection_glyph\":null,\"view\":{\"id\":\"1753\"}},\"id\":\"1752\",\"type\":\"GlyphRenderer\"},{\"attributes\":{\"bottom_units\":\"screen\",\"fill_alpha\":0.5,\"fill_color\":\"lightgrey\",\"left_units\":\"screen\",\"level\":\"overlay\",\"line_alpha\":1.0,\"line_color\":\"black\",\"line_dash\":[4,4],\"line_width\":2,\"right_units\":\"screen\",\"top_units\":\"screen\"},\"id\":\"1736\",\"type\":\"BoxAnnotation\"},{\"attributes\":{\"fill_color\":{\"value\":\"lightgreen\"},\"line_alpha\":{\"value\":0.8},\"line_color\":{\"value\":\"red\"},\"radius\":{\"units\":\"data\",\"value\":0.01},\"x\":{\"field\":\"x\"},\"y\":{\"field\":\"y\"}},\"id\":\"1745\",\"type\":\"Circle\"},{\"attributes\":{\"data\":{\"x\":{\"__ndarray__\":\"A9voP6Uxlz90KHk9HI/AP34ySfXro+U/Eo0YaN3+8T43ewPs09jZP5Di0eb9V+8/dS/GkeG/kT9iudBSWd/iP4AWtPGO0do+5igfMT+z1z/XASpRU8vjPwSQqteEEsM/1lFDTYQklz/SsH9ubu/LP1o3e0kycsw/bCQEgTex6D/juNuibS3oP060nfWGH6s/iHmV954LsD/8x+YqfF7aP/Fp9AUzsew/X4VKx0ze1D+QPBTRwD/CP4ZYhY8MJM0/9zxrY3uNwT8BcbIrmayIPzm6pG8ciuc/h7DsJdeMlT8bn3Sa4e5ZPysz5h2Q79c/1SSDkYaKrj+h4YxgqVaZPz2UhRdDpbs/smxx752P1D9qAfHkSjrCP1EHz4ycEzc/SnTXwY2fsz/WKPxhK/LrP5TUtDRd79Q/PxTYjIY73j/zTWC8jDpUP3qaeCC0uLw/zXiujFEcND8XEjRe66gYP3G2ilfzhLQ/vSThedgZgT8Iv17xANPdP673AXxBFOU/Rda0neaWvD9Tl37fYA+mPyg1Hr5jZeI/+Oe/16Ku5D/hiTPhw3/BP9SBv2BPztw/PBoYTJdQyj/BFEjy8gndP6v/S8sLvuk/lbLCRAuqvz/Ukrup1mnkP8dirLKhiI4/XXAXbGPp7z++PafYmy1RPx+/I2WjEeE/f3sdZyUQ6T+DNiLx4Kx5PyqCsBdZ/dY/QxSfLQfn4j/z/PmaD2/hP1Tu4JAHYrw/Ydl6TzVHsj9Cogc6acC3PzPyI+/kTYI/3VyOIkny2D8MrZ0Rap9zPxJq0yFYyjI/A3T0kdJIvz+XXY2Si4fIPzQv18Uvhmo/U1yFO8O/4T/0o1AIFYvXP0sElbBcduw/EHm2id0ouD93eISIV5i5P7ckp10Qo5w/Gdh09qlQ5j/2sp44h9TZPyXhd4wHOqk/vvUFesANsj/tuqdPk7KyP1v0nIoYcKo/Ia8qL/qEsD91TRzHgflkP6H78DVRT0g/LYvahCo9tj/3Ka8R2TrgP24uX6V/x+Q/hOPIoCah0D8FMN0WGxehP/qqY2aW9cE/h4OOKugU1D8=\",\"dtype\":\"float64\",\"order\":\"little\",\"shape\":[100]},\"y\":{\"__ndarray__\":\"bstr3fE/ej8WL26Y6r+wP8c5gq+r/uI/RxH+SCS1nT710PLv8hrTPykMVR/CIO8/2LpkDc5fcj+472uKOaffPwVRdcBy238+f0jhVfIE0T8lS9nul93gP/UJJvnsOLQ/jCu6DSQsej/zcJJNq9HAP7VeZf31OsE/6xxKIeel5j/BL3RqSwXmPwQOvBaNX5Q/GssEPpp+mT+MRR0LHp/TPw1f7PbZqus/GilVrRG6zD9vbXDVHxGzP9RsxDsuy8E/o2Xbrl4asj/kRedeQaBmP2ofXUPXP+U/ItKQG5LMdz9TO0zsmy0oP34gASTLPtE/08NxDMvdlz+CFx8n7Yh9P99RLSd5VKo/htam6wEqzD9tJZbIhAmzPwwTZ2KpEvo+rTFSGPCroD/01ukoULbqP3QkQuRn2cw/wLKvg56L1z8dqiE9aVwhPzPAXF6AtKs/g5/zWxC09T4AHEcSv/HRPtLdQYrAsaE/r7FsMUXBWz8FtVzKUx/XP2wkBrJDV+I/U7OTNA+Jqz8+Dd54SO+OP+G+im6kl94/4VvJer7h4T+QELZUhAeyPx5y655jE9Y/wRs0udMPvz/QA3ZAaVDWP4OgFfn58Oc/KTNuyZeNrz+FWKc/m5LhPzJvhOdeD24/9173ct3h7z8i2uDwEewbP+YmmtuDr9s/z8MDTEka5z8877O9ru9SP0AtT46oV9A/1lpW7Wa43z8fUGPORXrcP1HIv8w+Ras/XkAb18pUnj94eEaMS4GlP18hbdKWY14/VX3F8RA50j9SBNGqrXZKP/hLD3Ik0/M++yQAnK0Mrz9mn/ARw0i8PxTRJGJKZD8/lllMsJAq3T/nCr1CiN7QP316gQ9OX+s/TRaXD8H/pT961yskRMKnP824gLh4YoE/dUpAV+HJ4z8H2jBAthbTP6FLa8wSf5I/a/KMXO3VnT/s/9zSQEOfPxY5uveYsJM/DsouMvWAmj/OZq/ImPQ2PwTyNI4EmxE/rd8d8tayoz8CURh/2OLZP/52XpBt/uE/2BcD8Bw5xT+wgnlfwAKGP4rJVE4UqrI/oQZZqMRKyz8=\",\"dtype\":\"float64\",\"order\":\"little\",\"shape\":[100]}},\"selected\":{\"id\":\"1820\"},\"selection_policy\":{\"id\":\"1819\"}},\"id\":\"1749\",\"type\":\"ColumnDataSource\"},{\"attributes\":{},\"id\":\"1817\",\"type\":\"UnionRenderers\"},{\"attributes\":{\"fill_color\":{\"value\":\"lightblue\"},\"line_color\":{\"value\":\"brown\"},\"size\":{\"units\":\"screen\",\"value\":8},\"x\":{\"field\":\"x\"},\"y\":{\"field\":\"y\"}},\"id\":\"1750\",\"type\":\"Square\"},{\"attributes\":{\"text\":\"Transformaciones de distribuci\\u00f3n normal\"},\"id\":\"1712\",\"type\":\"Title\"},{\"attributes\":{},\"id\":\"1818\",\"type\":\"Selection\"},{\"attributes\":{\"fill_alpha\":{\"value\":0.1},\"fill_color\":{\"value\":\"lightgreen\"},\"line_alpha\":{\"value\":0.1},\"line_color\":{\"value\":\"red\"},\"radius\":{\"units\":\"data\",\"value\":0.01},\"x\":{\"field\":\"x\"},\"y\":{\"field\":\"y\"}},\"id\":\"1746\",\"type\":\"Circle\"},{\"attributes\":{},\"id\":\"1714\",\"type\":\"DataRange1d\"},{\"attributes\":{},\"id\":\"1716\",\"type\":\"DataRange1d\"},{\"attributes\":{\"axis_label\":\"Valor de distribuci\\u00f3n Y\",\"formatter\":{\"id\":\"1813\"},\"major_label_orientation\":\"vertical\",\"major_label_text_color\":\"red\",\"ticker\":{\"id\":\"1727\"}},\"id\":\"1726\",\"type\":\"LinearAxis\"},{\"attributes\":{},\"id\":\"1720\",\"type\":\"LinearScale\"},{\"attributes\":{},\"id\":\"1727\",\"type\":\"BasicTicker\"},{\"attributes\":{\"axis_label\":\"Valor de distribuci\\u00f3n X\",\"axis_line_color\":\"blue\",\"axis_line_width\":2,\"formatter\":{\"id\":\"1815\"},\"major_label_text_color\":\"blue\",\"ticker\":{\"id\":\"1723\"}},\"id\":\"1722\",\"type\":\"LinearAxis\"},{\"attributes\":{},\"id\":\"1718\",\"type\":\"LinearScale\"},{\"attributes\":{},\"id\":\"1819\",\"type\":\"UnionRenderers\"},{\"attributes\":{\"axis\":{\"id\":\"1726\"},\"dimension\":1,\"ticker\":null},\"id\":\"1729\",\"type\":\"Grid\"},{\"attributes\":{},\"id\":\"1735\",\"type\":\"HelpTool\"},{\"attributes\":{\"axis\":{\"id\":\"1722\"},\"ticker\":null},\"id\":\"1725\",\"type\":\"Grid\"},{\"attributes\":{\"data\":{\"x\":{\"__ndarray__\":\"UtwWcqgb0j9oGUqNKC/gP9CV+NGIFuw/YIfDq8ppmj+tRBsnRKfnPyH0pSicx+8/ymwLECmQ0D8P/Q9p4tXqP0BPPL6MAZM/SLz8b8D65j8P0OuZ9UPrP6sFDiz79uA/Hgm8JD0Y0j9FJ2FRKkTjP013j7QLYuM/BAIXSM9Z7T9SuLydOSXtP7gGyMRTCdg/bNh9UCNs2T+LGh8bxM/nP4WxWjFo2+4/JUQ3C3IG5j+PDs5mkbfgP6cTc/4diuM/uXWg32yA4D+c5Yyz+lfNP+FwWJwD4+w/ZFEBCHSr0T84HlSxn9W9P834bnQuDuc/dsaiHaUB2T+w25EUWKbSPxT/t+Qpet4/Yz0MfKDq5T93CvNg5rXgP+DVmiXUE7I/Im8QtM0v2z+o12nPUpbuP5mS1UVxDOY/vciqwALs6D+I5O+dqHa7Pww8oaQY3t4/8D/96mZEsT9glMurGkmnP6rs0DQrmNs/5F0bSNX3yT+608jvKM/oP6ovFBDV1+s/0g7d2PfR3j/K82KBy2/WP912preVm+o//9JgSc6q6z8VetpVH3zgP3HNtBEJhug/zf0HHOTi4j9OJrwQ6pboPzZ2vrPZwu0/UGDfSD/j3z9pQBKQ/ovrPwC8HHrqgM8/1nUwsnT47z8gbdhZ0gG6P9/jdRut8+k/u+wOazx/7T/8xxZ81JnHP0zQFHJdv+Y/eiZFsYXZ6j9bopidsCLqP7oV31/svt4/Vp4ymgCN2j9wFFnKKPncP1gnZfk8kMo/DIJXmxtg5z9Q9e3Y8pPFPyj6VaJ54bA/3htu4XrC3z/C7A+q+nLiP1x7bd2t78I/+4IjzcZK6j/7Q4Hpve3mPxvYVxtCxu4/Ui3RIGQj3T+w3sbgSrTdP5Q5680ebdM/zmZr94Fg7D8/RW9R9KXnP7S3Xdpudtc/dOoPQBFx2j+cQpPHmMDaP9guKfcP1dc/4oDrBZyr2T9c8RtG0oLBP2hrSUzELLc/zhzvwztY3D+M2wY1/ITpP1/3dP3ftes/H7rxc3Jr5D/435+nSZvUPyEJY+/MoOA/Eu90Ba++5T8=\",\"dtype\":\"float64\",\"order\":\"little\",\"shape\":[100]},\"y\":{\"__ndarray__\":\"7tsh0Gp+tD93DTkZ3F7QPx263E1/p+g/Q4soFkfNRT+5hSBI3HvhP5Il9a+bj+8/hQmhA2UlsT9sjRJ/JYHmP7cNPWqukzY/QpFWfXWA4D9geo/HPjvnPzaxDdPa/NE/DfH+Sq52tD/uY2rpBjPXPwcpQZw0e9c/72DpwMPr6j95j4q7o4vqPyAEJl8ADsI/e+xKnGQyxD/jZM3c7rfhP1HXALhDwe0/tESNN7xR3j+WINXgXHfRP+/J7oGv3Nc/+ckfkOAE0T+0x0tIaOiqP5hU1cyQE+o/N1131IODsz+iFG6Kw9CLPyfXSBBpnOA//yn0E5KKwz8549eTB721P7nRf+zgBs0/3jsW4lUF3j9StSy74HPRP9OVcue1bHQ/2PpGifIYxz/gQBVunTztPxr/FS1BYt4/ykCaydBo4z89GIqJ9JGHP/iHrapzxs0/FpK9IH+icj/ksLpYvfFgP3Cm0IOcy8c/vHHBqrwSpT9F0n+B+jvjP8S9tEfnOeg/7uSeaxKvzT+nwo/FfHa/PyMYjr/HH+Y/N9rQ0Mvr5z8KDaWRAfzQP2IQhgY/y+I/5PvdtxJL1j8lMifSJuXiP1StNQvNres/V9OHZ5jGzz/rfIsGorbnP9atHqfNA68/MWOxK+vw7z8QC4zs9SKFP4OzoQv+C+U/aOYOapcw6z9iR8bvBGihP49Xb+GYK+A/xSVz3z+H5j/EtDWbhFjlPxjJhlFuis0/RiLhR44Hxj/w7BxlmzvKPyQdfTrtDKY/E6kJVUgT4T8JpiiGtRmdPy9UPrVcz3E/LIqKCGyFzz8kQfJB7kXVP6zMzpNNaZY/0IihyTGa5T8nnYtqy23gPyel30WImO0/9Ti8n0yIyj+rZniCv5LLPzyc/1wRlrc/nFLYfgYq6T+1GeHb63nhP1Qu8az1M8E/9Zn3iUvZxT8woINwf13GP8J+3Y/Rv8E/DPi3F7yXxD+GGLp4LCqTP4Z7L86YyIA/uLQH4FsbyT8i81O78lnkPwR5uK/z/uc/5Mndr28P2j/ueXJHG4q6P1S1uuvpR9E/HRSP8muN3T8=\",\"dtype\":\"float64\",\"order\":\"little\",\"shape\":[100]}},\"selected\":{\"id\":\"1818\"},\"selection_policy\":{\"id\":\"1817\"}},\"id\":\"1744\",\"type\":\"ColumnDataSource\"},{\"attributes\":{\"data_source\":{\"id\":\"1744\"},\"glyph\":{\"id\":\"1745\"},\"hover_glyph\":null,\"muted_glyph\":null,\"nonselection_glyph\":{\"id\":\"1746\"},\"selection_glyph\":null,\"view\":{\"id\":\"1748\"}},\"id\":\"1747\",\"type\":\"GlyphRenderer\"},{\"attributes\":{},\"id\":\"1820\",\"type\":\"Selection\"},{\"attributes\":{},\"id\":\"1731\",\"type\":\"WheelZoomTool\"},{\"attributes\":{\"active_drag\":\"auto\",\"active_inspect\":\"auto\",\"active_multi\":null,\"active_scroll\":\"auto\",\"active_tap\":\"auto\",\"tools\":[{\"id\":\"1730\"},{\"id\":\"1731\"},{\"id\":\"1732\"},{\"id\":\"1733\"},{\"id\":\"1734\"},{\"id\":\"1735\"}]},\"id\":\"1737\",\"type\":\"Toolbar\"},{\"attributes\":{},\"id\":\"1730\",\"type\":\"PanTool\"},{\"attributes\":{},\"id\":\"1813\",\"type\":\"BasicTickFormatter\"},{\"attributes\":{\"overlay\":{\"id\":\"1736\"}},\"id\":\"1732\",\"type\":\"BoxZoomTool\"},{\"attributes\":{},\"id\":\"1733\",\"type\":\"SaveTool\"},{\"attributes\":{},\"id\":\"1723\",\"type\":\"BasicTicker\"},{\"attributes\":{},\"id\":\"1734\",\"type\":\"ResetTool\"}],\"root_ids\":[\"1711\"]},\"title\":\"Bokeh Application\",\"version\":\"2.2.3\"}};\n",
       "  var render_items = [{\"docid\":\"29d5a716-ee19-4071-ba60-1093c2ed8a3d\",\"root_ids\":[\"1711\"],\"roots\":{\"1711\":\"23e97940-9c29-4328-a2ac-e0e352ec8f43\"}}];\n",
       "  root.Bokeh.embed.embed_items_notebook(docs_json, render_items);\n",
       "\n",
       "  }\n",
       "  if (root.Bokeh !== undefined) {\n",
       "    embed_document(root);\n",
       "  } else {\n",
       "    var attempts = 0;\n",
       "    var timer = setInterval(function(root) {\n",
       "      if (root.Bokeh !== undefined) {\n",
       "        clearInterval(timer);\n",
       "        embed_document(root);\n",
       "      } else {\n",
       "        attempts++;\n",
       "        if (attempts > 100) {\n",
       "          clearInterval(timer);\n",
       "          console.log(\"Bokeh: ERROR: Unable to run BokehJS code because BokehJS library is missing\");\n",
       "        }\n",
       "      }\n",
       "    }, 10, root)\n",
       "  }\n",
       "})(window);"
      ],
      "application/vnd.bokehjs_exec.v0+json": ""
     },
     "metadata": {
      "application/vnd.bokehjs_exec.v0+json": {
       "id": "1711"
      }
     },
     "output_type": "display_data"
    }
   ],
   "source": [
    "p = figure(plot_width=500, plot_height=500, title='Transformaciones de distribución normal')\n",
    "\n",
    "normal = np.random.rand(100)\n",
    "square = normal**2\n",
    "cubic = normal**3\n",
    "polynomic = normal**4\n",
    "\n",
    "\n",
    "p.circle(normal ,square, \n",
    "         fill_color  = 'lightgreen',\n",
    "         line_alpha = 0.8,\n",
    "         line_color = 'red',\n",
    "         radius = 0.01)\n",
    "\n",
    "p.square(cubic ,polynomic, \n",
    "         fill_color  = 'lightblue',\n",
    "         line_alpha = 1,\n",
    "         line_color = 'brown',\n",
    "         size = 8)\n",
    "\n",
    "p.xaxis.axis_label = 'Valor de distribución X'\n",
    "p.yaxis.axis_label = 'Valor de distribución Y'\n",
    "\n",
    "p.yaxis.major_label_text_color = \"red\"\n",
    "p.yaxis.major_label_orientation = \"vertical\"\n",
    "\n",
    "p.xaxis.axis_line_width = 2\n",
    "p.xaxis.axis_line_color = \"blue\"\n",
    "p.xaxis.major_label_text_color = \"blue\"\n",
    "\n",
    "\n",
    "show(p)\n"
   ]
  },
  {
   "cell_type": "markdown",
   "metadata": {},
   "source": [
    "A continuación, mostraremos cómo generar un diagrama de barras, primero vamos a diseñar un dataframe sencillo."
   ]
  },
  {
   "cell_type": "code",
   "execution_count": 13,
   "metadata": {},
   "outputs": [],
   "source": [
    "import pandas as pd\n",
    "items = ['Naranjas', 'Fresas', 'Manzanas', 'Plátanos', 'Mango']\n",
    "volumen_venta = np.random.randint(100, 1000, 5)\n",
    "ingresos_totales = np.random.randint(1000, 25000, 5)\n",
    "\n",
    "df = pd.DataFrame({\n",
    "    'Productos': items,\n",
    "    'Volumen': volumen_venta,\n",
    "    'Ingresos': ingresos_totales\n",
    "})"
   ]
  },
  {
   "cell_type": "markdown",
   "metadata": {},
   "source": [
    "Seguidamente, con <code>**vbar**</code> mostraremos un diagrama de barras sobre el volumen de ventas por producto."
   ]
  },
  {
   "cell_type": "code",
   "execution_count": 14,
   "metadata": {},
   "outputs": [
    {
     "data": {
      "text/html": [
       "\n",
       "\n",
       "\n",
       "\n",
       "\n",
       "\n",
       "  <div class=\"bk-root\" id=\"ab55acae-c730-434e-89ce-c1fd0f4ea6df\" data-root-id=\"1871\"></div>\n"
      ]
     },
     "metadata": {},
     "output_type": "display_data"
    },
    {
     "data": {
      "application/javascript": [
       "(function(root) {\n",
       "  function embed_document(root) {\n",
       "    \n",
       "  var docs_json = {\"ab52ab57-d5c8-47ec-8de7-11de00b4eb21\":{\"roots\":{\"references\":[{\"attributes\":{\"below\":[{\"id\":\"1882\"}],\"center\":[{\"id\":\"1884\"},{\"id\":\"1888\"}],\"left\":[{\"id\":\"1885\"}],\"plot_height\":350,\"renderers\":[{\"id\":\"1906\"}],\"title\":{\"id\":\"1872\"},\"toolbar\":{\"id\":\"1896\"},\"x_range\":{\"id\":\"1874\"},\"x_scale\":{\"id\":\"1878\"},\"y_range\":{\"id\":\"1876\"},\"y_scale\":{\"id\":\"1880\"}},\"id\":\"1871\",\"subtype\":\"Figure\",\"type\":\"Plot\"},{\"attributes\":{\"axis\":{\"id\":\"1885\"},\"dimension\":1,\"ticker\":null},\"id\":\"1888\",\"type\":\"Grid\"},{\"attributes\":{},\"id\":\"1886\",\"type\":\"BasicTicker\"},{\"attributes\":{\"axis\":{\"id\":\"1882\"},\"ticker\":null},\"id\":\"1884\",\"type\":\"Grid\"},{\"attributes\":{},\"id\":\"1889\",\"type\":\"PanTool\"},{\"attributes\":{},\"id\":\"1878\",\"type\":\"CategoricalScale\"},{\"attributes\":{},\"id\":\"1892\",\"type\":\"SaveTool\"},{\"attributes\":{\"formatter\":{\"id\":\"1977\"},\"ticker\":{\"id\":\"1886\"}},\"id\":\"1885\",\"type\":\"LinearAxis\"},{\"attributes\":{\"overlay\":{\"id\":\"1895\"}},\"id\":\"1891\",\"type\":\"BoxZoomTool\"},{\"attributes\":{},\"id\":\"1977\",\"type\":\"BasicTickFormatter\"},{\"attributes\":{},\"id\":\"1890\",\"type\":\"WheelZoomTool\"},{\"attributes\":{\"formatter\":{\"id\":\"1979\"},\"ticker\":{\"id\":\"1883\"}},\"id\":\"1882\",\"type\":\"CategoricalAxis\"},{\"attributes\":{\"text\":\"Volumen de ventas\"},\"id\":\"1872\",\"type\":\"Title\"},{\"attributes\":{\"data\":{\"fill_color\":[\"#DF5837\",\"#A9E915\",\"#CA09A9\",\"#1E82A8\",\"#F9E13A\"],\"top\":{\"__ndarray__\":\"wQMAAFMBAABoAQAAFQMAADIBAAA=\",\"dtype\":\"int32\",\"order\":\"little\",\"shape\":[5]},\"x\":[\"Naranjas\",\"Fresas\",\"Manzanas\",\"Pl\\u00e1tanos\",\"Mango\"]},\"selected\":{\"id\":\"1982\"},\"selection_policy\":{\"id\":\"1981\"}},\"id\":\"1903\",\"type\":\"ColumnDataSource\"},{\"attributes\":{},\"id\":\"1979\",\"type\":\"CategoricalTickFormatter\"},{\"attributes\":{},\"id\":\"1883\",\"type\":\"CategoricalTicker\"},{\"attributes\":{},\"id\":\"1876\",\"type\":\"DataRange1d\"},{\"attributes\":{\"bottom_units\":\"screen\",\"fill_alpha\":0.5,\"fill_color\":\"lightgrey\",\"left_units\":\"screen\",\"level\":\"overlay\",\"line_alpha\":1.0,\"line_color\":\"black\",\"line_dash\":[4,4],\"line_width\":2,\"right_units\":\"screen\",\"top_units\":\"screen\"},\"id\":\"1895\",\"type\":\"BoxAnnotation\"},{\"attributes\":{},\"id\":\"1880\",\"type\":\"LinearScale\"},{\"attributes\":{\"source\":{\"id\":\"1903\"}},\"id\":\"1907\",\"type\":\"CDSView\"},{\"attributes\":{\"fill_alpha\":{\"value\":0.6},\"fill_color\":{\"field\":\"fill_color\"},\"line_color\":{\"value\":\"#1f77b4\"},\"top\":{\"field\":\"top\"},\"width\":{\"value\":0.9},\"x\":{\"field\":\"x\"}},\"id\":\"1904\",\"type\":\"VBar\"},{\"attributes\":{\"factors\":[\"Naranjas\",\"Fresas\",\"Manzanas\",\"Pl\\u00e1tanos\",\"Mango\"]},\"id\":\"1874\",\"type\":\"FactorRange\"},{\"attributes\":{\"fill_alpha\":{\"value\":0.1},\"fill_color\":{\"field\":\"fill_color\"},\"line_alpha\":{\"value\":0.1},\"line_color\":{\"value\":\"#1f77b4\"},\"top\":{\"field\":\"top\"},\"width\":{\"value\":0.9},\"x\":{\"field\":\"x\"}},\"id\":\"1905\",\"type\":\"VBar\"},{\"attributes\":{},\"id\":\"1982\",\"type\":\"Selection\"},{\"attributes\":{},\"id\":\"1894\",\"type\":\"HelpTool\"},{\"attributes\":{},\"id\":\"1893\",\"type\":\"ResetTool\"},{\"attributes\":{},\"id\":\"1981\",\"type\":\"UnionRenderers\"},{\"attributes\":{\"data_source\":{\"id\":\"1903\"},\"glyph\":{\"id\":\"1904\"},\"hover_glyph\":null,\"muted_glyph\":null,\"nonselection_glyph\":{\"id\":\"1905\"},\"selection_glyph\":null,\"view\":{\"id\":\"1907\"}},\"id\":\"1906\",\"type\":\"GlyphRenderer\"},{\"attributes\":{\"active_drag\":\"auto\",\"active_inspect\":\"auto\",\"active_multi\":null,\"active_scroll\":\"auto\",\"active_tap\":\"auto\",\"tools\":[{\"id\":\"1889\"},{\"id\":\"1890\"},{\"id\":\"1891\"},{\"id\":\"1892\"},{\"id\":\"1893\"},{\"id\":\"1894\"}]},\"id\":\"1896\",\"type\":\"Toolbar\"}],\"root_ids\":[\"1871\"]},\"title\":\"Bokeh Application\",\"version\":\"2.2.3\"}};\n",
       "  var render_items = [{\"docid\":\"ab52ab57-d5c8-47ec-8de7-11de00b4eb21\",\"root_ids\":[\"1871\"],\"roots\":{\"1871\":\"ab55acae-c730-434e-89ce-c1fd0f4ea6df\"}}];\n",
       "  root.Bokeh.embed.embed_items_notebook(docs_json, render_items);\n",
       "\n",
       "  }\n",
       "  if (root.Bokeh !== undefined) {\n",
       "    embed_document(root);\n",
       "  } else {\n",
       "    var attempts = 0;\n",
       "    var timer = setInterval(function(root) {\n",
       "      if (root.Bokeh !== undefined) {\n",
       "        clearInterval(timer);\n",
       "        embed_document(root);\n",
       "      } else {\n",
       "        attempts++;\n",
       "        if (attempts > 100) {\n",
       "          clearInterval(timer);\n",
       "          console.log(\"Bokeh: ERROR: Unable to run BokehJS code because BokehJS library is missing\");\n",
       "        }\n",
       "      }\n",
       "    }, 10, root)\n",
       "  }\n",
       "})(window);"
      ],
      "application/vnd.bokehjs_exec.v0+json": ""
     },
     "metadata": {
      "application/vnd.bokehjs_exec.v0+json": {
       "id": "1871"
      }
     },
     "output_type": "display_data"
    }
   ],
   "source": [
    "p = figure(x_range=df['Productos'], plot_height=350, \n",
    "           title=\"Volumen de ventas\")\n",
    "\n",
    "p.vbar(x=df['Productos'], top=df['Volumen'], \n",
    "       width=0.9, \n",
    "       fill_color=['#DF5837', '#A9E915', '#CA09A9', '#1E82A8', '#F9E13A'], \n",
    "       fill_alpha=0.6)\n",
    "\n",
    "# Podemos generar colores en hexadecimal con https://htmlcolorcodes.com/\n",
    "\n",
    "show(p)"
   ]
  },
  {
   "cell_type": "markdown",
   "metadata": {},
   "source": [
    "Aunque de una forma algo más compleja que utilizando Seaborn o Ggplot, en Bokeh, también podemos generar gradientes de color en función de una variable. Para ello tenemos que tener en cuenta tres funciones:\n",
    "* <code>__LinearColorMapper__</code>: Pasamos como parámetros **palette**, que toma valor de una paleta de colores que podemos encontrar disponbiles en el siguiente enlace https://docs.bokeh.org/en/latest/docs/reference/palettes.html#bokeh-palettes **low**: Valor mínimo de la variable, **high**: Valor máximo de la variable. Generamos una secuencia de colores en función del rango de nuestra variable.\n",
    "* <code>**ColorBar**</code>: Dentro de los parámetros que recibe, el más importante es **color_mapper** que recibe un objeto generado previamente LinearColorMapper. Esta función genera una leyenda con los colores de nuestra variable.\n",
    "* Dentro de la función de nuestro gráfico, en este caso nube de puntos, en el parámetro color utilizaremos la función <code>**transform**</code> a la cuál pasaremos el nombre de la columna y nuestro objeto LinearColorMapper.\n"
   ]
  },
  {
   "cell_type": "code",
   "execution_count": 15,
   "metadata": {},
   "outputs": [
    {
     "data": {
      "text/html": [
       "\n",
       "\n",
       "\n",
       "\n",
       "\n",
       "\n",
       "  <div class=\"bk-root\" id=\"edd7b56f-8e4e-4fb3-b03e-e316a70b1bd6\" data-root-id=\"2025\"></div>\n"
      ]
     },
     "metadata": {},
     "output_type": "display_data"
    },
    {
     "data": {
      "application/javascript": [
       "(function(root) {\n",
       "  function embed_document(root) {\n",
       "    \n",
       "  var docs_json = {\"db5e2f14-215c-4780-a19a-2114828727da\":{\"roots\":{\"references\":[{\"attributes\":{\"below\":[{\"id\":\"2034\"}],\"center\":[{\"id\":\"2037\"},{\"id\":\"2041\"}],\"left\":[{\"id\":\"2038\"}],\"plot_height\":400,\"renderers\":[{\"id\":\"2060\"}],\"right\":[{\"id\":\"2024\"}],\"title\":{\"id\":\"2138\"},\"toolbar\":{\"id\":\"2049\"},\"x_range\":{\"id\":\"2026\"},\"x_scale\":{\"id\":\"2030\"},\"y_range\":{\"id\":\"2028\"},\"y_scale\":{\"id\":\"2032\"}},\"id\":\"2025\",\"subtype\":\"Figure\",\"type\":\"Plot\"},{\"attributes\":{},\"id\":\"2045\",\"type\":\"SaveTool\"},{\"attributes\":{\"high\":16949,\"low\":1198,\"palette\":[\"#440154\",\"#440255\",\"#440357\",\"#450558\",\"#45065A\",\"#45085B\",\"#46095C\",\"#460B5E\",\"#460C5F\",\"#460E61\",\"#470F62\",\"#471163\",\"#471265\",\"#471466\",\"#471567\",\"#471669\",\"#47186A\",\"#48196B\",\"#481A6C\",\"#481C6E\",\"#481D6F\",\"#481E70\",\"#482071\",\"#482172\",\"#482273\",\"#482374\",\"#472575\",\"#472676\",\"#472777\",\"#472878\",\"#472A79\",\"#472B7A\",\"#472C7B\",\"#462D7C\",\"#462F7C\",\"#46307D\",\"#46317E\",\"#45327F\",\"#45347F\",\"#453580\",\"#453681\",\"#443781\",\"#443982\",\"#433A83\",\"#433B83\",\"#433C84\",\"#423D84\",\"#423E85\",\"#424085\",\"#414186\",\"#414286\",\"#404387\",\"#404487\",\"#3F4587\",\"#3F4788\",\"#3E4888\",\"#3E4989\",\"#3D4A89\",\"#3D4B89\",\"#3D4C89\",\"#3C4D8A\",\"#3C4E8A\",\"#3B508A\",\"#3B518A\",\"#3A528B\",\"#3A538B\",\"#39548B\",\"#39558B\",\"#38568B\",\"#38578C\",\"#37588C\",\"#37598C\",\"#365A8C\",\"#365B8C\",\"#355C8C\",\"#355D8C\",\"#345E8D\",\"#345F8D\",\"#33608D\",\"#33618D\",\"#32628D\",\"#32638D\",\"#31648D\",\"#31658D\",\"#31668D\",\"#30678D\",\"#30688D\",\"#2F698D\",\"#2F6A8D\",\"#2E6B8E\",\"#2E6C8E\",\"#2E6D8E\",\"#2D6E8E\",\"#2D6F8E\",\"#2C708E\",\"#2C718E\",\"#2C728E\",\"#2B738E\",\"#2B748E\",\"#2A758E\",\"#2A768E\",\"#2A778E\",\"#29788E\",\"#29798E\",\"#287A8E\",\"#287A8E\",\"#287B8E\",\"#277C8E\",\"#277D8E\",\"#277E8E\",\"#267F8E\",\"#26808E\",\"#26818E\",\"#25828E\",\"#25838D\",\"#24848D\",\"#24858D\",\"#24868D\",\"#23878D\",\"#23888D\",\"#23898D\",\"#22898D\",\"#228A8D\",\"#228B8D\",\"#218C8D\",\"#218D8C\",\"#218E8C\",\"#208F8C\",\"#20908C\",\"#20918C\",\"#1F928C\",\"#1F938B\",\"#1F948B\",\"#1F958B\",\"#1F968B\",\"#1E978A\",\"#1E988A\",\"#1E998A\",\"#1E998A\",\"#1E9A89\",\"#1E9B89\",\"#1E9C89\",\"#1E9D88\",\"#1E9E88\",\"#1E9F88\",\"#1EA087\",\"#1FA187\",\"#1FA286\",\"#1FA386\",\"#20A485\",\"#20A585\",\"#21A685\",\"#21A784\",\"#22A784\",\"#23A883\",\"#23A982\",\"#24AA82\",\"#25AB81\",\"#26AC81\",\"#27AD80\",\"#28AE7F\",\"#29AF7F\",\"#2AB07E\",\"#2BB17D\",\"#2CB17D\",\"#2EB27C\",\"#2FB37B\",\"#30B47A\",\"#32B57A\",\"#33B679\",\"#35B778\",\"#36B877\",\"#38B976\",\"#39B976\",\"#3BBA75\",\"#3DBB74\",\"#3EBC73\",\"#40BD72\",\"#42BE71\",\"#44BE70\",\"#45BF6F\",\"#47C06E\",\"#49C16D\",\"#4BC26C\",\"#4DC26B\",\"#4FC369\",\"#51C468\",\"#53C567\",\"#55C666\",\"#57C665\",\"#59C764\",\"#5BC862\",\"#5EC961\",\"#60C960\",\"#62CA5F\",\"#64CB5D\",\"#67CC5C\",\"#69CC5B\",\"#6BCD59\",\"#6DCE58\",\"#70CE56\",\"#72CF55\",\"#74D054\",\"#77D052\",\"#79D151\",\"#7CD24F\",\"#7ED24E\",\"#81D34C\",\"#83D34B\",\"#86D449\",\"#88D547\",\"#8BD546\",\"#8DD644\",\"#90D643\",\"#92D741\",\"#95D73F\",\"#97D83E\",\"#9AD83C\",\"#9DD93A\",\"#9FD938\",\"#A2DA37\",\"#A5DA35\",\"#A7DB33\",\"#AADB32\",\"#ADDC30\",\"#AFDC2E\",\"#B2DD2C\",\"#B5DD2B\",\"#B7DD29\",\"#BADE27\",\"#BDDE26\",\"#BFDF24\",\"#C2DF22\",\"#C5DF21\",\"#C7E01F\",\"#CAE01E\",\"#CDE01D\",\"#CFE11C\",\"#D2E11B\",\"#D4E11A\",\"#D7E219\",\"#DAE218\",\"#DCE218\",\"#DFE318\",\"#E1E318\",\"#E4E318\",\"#E7E419\",\"#E9E419\",\"#ECE41A\",\"#EEE51B\",\"#F1E51C\",\"#F3E51E\",\"#F6E61F\",\"#F8E621\",\"#FAE622\",\"#FDE724\"]},\"id\":\"2023\",\"type\":\"LinearColorMapper\"},{\"attributes\":{},\"id\":\"2035\",\"type\":\"BasicTicker\"},{\"attributes\":{},\"id\":\"2046\",\"type\":\"ResetTool\"},{\"attributes\":{},\"id\":\"2144\",\"type\":\"BasicTickFormatter\"},{\"attributes\":{\"axis_label\":\"Volumen de ventas\",\"formatter\":{\"id\":\"2144\"},\"ticker\":{\"id\":\"2035\"}},\"id\":\"2034\",\"type\":\"LinearAxis\"},{\"attributes\":{\"source\":{\"id\":\"2056\"}},\"id\":\"2061\",\"type\":\"CDSView\"},{\"attributes\":{\"axis_label\":\"Ingresos totales\",\"formatter\":{\"id\":\"2142\"},\"ticker\":{\"id\":\"2039\"}},\"id\":\"2038\",\"type\":\"LinearAxis\"},{\"attributes\":{},\"id\":\"2139\",\"type\":\"BasicTickFormatter\"},{\"attributes\":{\"fill_alpha\":{\"value\":0.6},\"fill_color\":{\"field\":\"Ingresos\",\"transform\":{\"id\":\"2023\"}},\"line_alpha\":{\"value\":0.6},\"line_color\":{\"field\":\"Ingresos\",\"transform\":{\"id\":\"2023\"}},\"size\":{\"units\":\"screen\",\"value\":20},\"x\":{\"field\":\"Volumen\"},\"y\":{\"field\":\"Ingresos\"}},\"id\":\"2058\",\"type\":\"Circle\"},{\"attributes\":{\"overlay\":{\"id\":\"2048\"}},\"id\":\"2044\",\"type\":\"BoxZoomTool\"},{\"attributes\":{\"data\":{\"Ingresos\":{\"__ndarray__\":\"rgQAAGQSAADIBgAANUIAANoMAAA=\",\"dtype\":\"int32\",\"order\":\"little\",\"shape\":[5]},\"Productos\":[\"Naranjas\",\"Fresas\",\"Manzanas\",\"Pl\\u00e1tanos\",\"Mango\"],\"Volumen\":{\"__ndarray__\":\"wQMAAFMBAABoAQAAFQMAADIBAAA=\",\"dtype\":\"int32\",\"order\":\"little\",\"shape\":[5]},\"index\":[0,1,2,3,4]},\"selected\":{\"id\":\"2147\"},\"selection_policy\":{\"id\":\"2146\"}},\"id\":\"2056\",\"type\":\"ColumnDataSource\"},{\"attributes\":{\"color_mapper\":{\"id\":\"2023\"},\"formatter\":{\"id\":\"2139\"},\"label_standoff\":12,\"location\":[0,0],\"ticker\":{\"id\":\"2140\"},\"title\":\"Ingresos\"},\"id\":\"2024\",\"type\":\"ColorBar\"},{\"attributes\":{\"axis\":{\"id\":\"2038\"},\"dimension\":1,\"ticker\":null},\"id\":\"2041\",\"type\":\"Grid\"},{\"attributes\":{\"text\":\"\"},\"id\":\"2138\",\"type\":\"Title\"},{\"attributes\":{\"active_drag\":\"auto\",\"active_inspect\":\"auto\",\"active_multi\":null,\"active_scroll\":\"auto\",\"active_tap\":\"auto\",\"tools\":[{\"id\":\"2042\"},{\"id\":\"2043\"},{\"id\":\"2044\"},{\"id\":\"2045\"},{\"id\":\"2046\"},{\"id\":\"2047\"}]},\"id\":\"2049\",\"type\":\"Toolbar\"},{\"attributes\":{},\"id\":\"2030\",\"type\":\"LinearScale\"},{\"attributes\":{\"bottom_units\":\"screen\",\"fill_alpha\":0.5,\"fill_color\":\"lightgrey\",\"left_units\":\"screen\",\"level\":\"overlay\",\"line_alpha\":1.0,\"line_color\":\"black\",\"line_dash\":[4,4],\"line_width\":2,\"right_units\":\"screen\",\"top_units\":\"screen\"},\"id\":\"2048\",\"type\":\"BoxAnnotation\"},{\"attributes\":{},\"id\":\"2140\",\"type\":\"BasicTicker\"},{\"attributes\":{},\"id\":\"2146\",\"type\":\"UnionRenderers\"},{\"attributes\":{},\"id\":\"2043\",\"type\":\"WheelZoomTool\"},{\"attributes\":{},\"id\":\"2032\",\"type\":\"LinearScale\"},{\"attributes\":{},\"id\":\"2147\",\"type\":\"Selection\"},{\"attributes\":{\"data_source\":{\"id\":\"2056\"},\"glyph\":{\"id\":\"2058\"},\"hover_glyph\":null,\"muted_glyph\":null,\"nonselection_glyph\":{\"id\":\"2059\"},\"selection_glyph\":null,\"view\":{\"id\":\"2061\"}},\"id\":\"2060\",\"type\":\"GlyphRenderer\"},{\"attributes\":{\"fill_alpha\":{\"value\":0.1},\"fill_color\":{\"field\":\"Ingresos\",\"transform\":{\"id\":\"2023\"}},\"line_alpha\":{\"value\":0.1},\"line_color\":{\"field\":\"Ingresos\",\"transform\":{\"id\":\"2023\"}},\"size\":{\"units\":\"screen\",\"value\":20},\"x\":{\"field\":\"Volumen\"},\"y\":{\"field\":\"Ingresos\"}},\"id\":\"2059\",\"type\":\"Circle\"},{\"attributes\":{},\"id\":\"2028\",\"type\":\"DataRange1d\"},{\"attributes\":{},\"id\":\"2042\",\"type\":\"PanTool\"},{\"attributes\":{},\"id\":\"2039\",\"type\":\"BasicTicker\"},{\"attributes\":{},\"id\":\"2026\",\"type\":\"DataRange1d\"},{\"attributes\":{},\"id\":\"2047\",\"type\":\"HelpTool\"},{\"attributes\":{},\"id\":\"2142\",\"type\":\"BasicTickFormatter\"},{\"attributes\":{\"axis\":{\"id\":\"2034\"},\"ticker\":null},\"id\":\"2037\",\"type\":\"Grid\"}],\"root_ids\":[\"2025\"]},\"title\":\"Bokeh Application\",\"version\":\"2.2.3\"}};\n",
       "  var render_items = [{\"docid\":\"db5e2f14-215c-4780-a19a-2114828727da\",\"root_ids\":[\"2025\"],\"roots\":{\"2025\":\"edd7b56f-8e4e-4fb3-b03e-e316a70b1bd6\"}}];\n",
       "  root.Bokeh.embed.embed_items_notebook(docs_json, render_items);\n",
       "\n",
       "  }\n",
       "  if (root.Bokeh !== undefined) {\n",
       "    embed_document(root);\n",
       "  } else {\n",
       "    var attempts = 0;\n",
       "    var timer = setInterval(function(root) {\n",
       "      if (root.Bokeh !== undefined) {\n",
       "        clearInterval(timer);\n",
       "        embed_document(root);\n",
       "      } else {\n",
       "        attempts++;\n",
       "        if (attempts > 100) {\n",
       "          clearInterval(timer);\n",
       "          console.log(\"Bokeh: ERROR: Unable to run BokehJS code because BokehJS library is missing\");\n",
       "        }\n",
       "      }\n",
       "    }, 10, root)\n",
       "  }\n",
       "})(window);"
      ],
      "application/vnd.bokehjs_exec.v0+json": ""
     },
     "metadata": {
      "application/vnd.bokehjs_exec.v0+json": {
       "id": "2025"
      }
     },
     "output_type": "display_data"
    }
   ],
   "source": [
    "from bokeh.models import LinearColorMapper, ColorBar\n",
    "from bokeh.transform import transform\n",
    "\n",
    "color_mapper = LinearColorMapper(palette=\"Viridis256\", low=df.Ingresos.min(), \n",
    "                                 high=df.Ingresos.max())\n",
    "color_bar = ColorBar(color_mapper=color_mapper, label_standoff=12, location=(0,0), \n",
    "                     title='Ingresos')\n",
    "\n",
    "p = figure(x_axis_label='Volumen de ventas', # Otra forma de añadir texto en los ejes\n",
    "           y_axis_label='Ingresos totales', \n",
    "           plot_height=400)\n",
    "\n",
    "p.circle(x='Volumen', y='Ingresos', \n",
    "         color=transform('Ingresos', color_mapper), \n",
    "         size=20, alpha=0.6, \n",
    "         source=df)\n",
    "\n",
    "p.add_layout(color_bar, 'right') # Posición del gradiente de color\n",
    "\n",
    "show(p)"
   ]
  },
  {
   "cell_type": "markdown",
   "metadata": {},
   "source": [
    "Algo que todavía no hemos mostrado es podemos desactivar el panel lateral para gestionar el gráfico añadiendo los siguientes parámetros a la función figure.\n",
    "* **tools**: Lo dejamso vacío\n",
    "* **toolbar_location**: Valor None"
   ]
  },
  {
   "cell_type": "code",
   "execution_count": 16,
   "metadata": {},
   "outputs": [
    {
     "data": {
      "text/html": [
       "\n",
       "\n",
       "\n",
       "\n",
       "\n",
       "\n",
       "  <div class=\"bk-root\" id=\"feda0712-0f17-4223-b8bf-0d0bda3890c4\" data-root-id=\"2205\"></div>\n"
      ]
     },
     "metadata": {},
     "output_type": "display_data"
    },
    {
     "data": {
      "application/javascript": [
       "(function(root) {\n",
       "  function embed_document(root) {\n",
       "    \n",
       "  var docs_json = {\"0ab8a3d8-c2a3-4c04-b9d7-e09dd7df8cb4\":{\"roots\":{\"references\":[{\"attributes\":{\"below\":[{\"id\":\"2214\"}],\"center\":[{\"id\":\"2217\"},{\"id\":\"2221\"}],\"left\":[{\"id\":\"2218\"}],\"plot_height\":400,\"renderers\":[{\"id\":\"2227\"}],\"right\":[{\"id\":\"2204\"}],\"title\":{\"id\":\"2316\"},\"toolbar\":{\"id\":\"2222\"},\"toolbar_location\":null,\"x_range\":{\"id\":\"2206\"},\"x_scale\":{\"id\":\"2210\"},\"y_range\":{\"id\":\"2208\"},\"y_scale\":{\"id\":\"2212\"}},\"id\":\"2205\",\"subtype\":\"Figure\",\"type\":\"Plot\"},{\"attributes\":{},\"id\":\"2322\",\"type\":\"BasicTickFormatter\"},{\"attributes\":{},\"id\":\"2219\",\"type\":\"BasicTicker\"},{\"attributes\":{\"active_drag\":\"auto\",\"active_inspect\":\"auto\",\"active_multi\":null,\"active_scroll\":\"auto\",\"active_tap\":\"auto\"},\"id\":\"2222\",\"type\":\"Toolbar\"},{\"attributes\":{},\"id\":\"2324\",\"type\":\"Selection\"},{\"attributes\":{\"text\":\"\"},\"id\":\"2316\",\"type\":\"Title\"},{\"attributes\":{\"data\":{\"Ingresos\":{\"__ndarray__\":\"rgQAAGQSAADIBgAANUIAANoMAAA=\",\"dtype\":\"int32\",\"order\":\"little\",\"shape\":[5]},\"Productos\":[\"Naranjas\",\"Fresas\",\"Manzanas\",\"Pl\\u00e1tanos\",\"Mango\"],\"Volumen\":{\"__ndarray__\":\"wQMAAFMBAABoAQAAFQMAADIBAAA=\",\"dtype\":\"int32\",\"order\":\"little\",\"shape\":[5]},\"index\":[0,1,2,3,4]},\"selected\":{\"id\":\"2324\"},\"selection_policy\":{\"id\":\"2323\"}},\"id\":\"2223\",\"type\":\"ColumnDataSource\"},{\"attributes\":{},\"id\":\"2317\",\"type\":\"BasicTickFormatter\"},{\"attributes\":{},\"id\":\"2206\",\"type\":\"DataRange1d\"},{\"attributes\":{},\"id\":\"2210\",\"type\":\"LinearScale\"},{\"attributes\":{\"high\":16949,\"low\":1198,\"palette\":[\"#440154\",\"#440255\",\"#440357\",\"#450558\",\"#45065A\",\"#45085B\",\"#46095C\",\"#460B5E\",\"#460C5F\",\"#460E61\",\"#470F62\",\"#471163\",\"#471265\",\"#471466\",\"#471567\",\"#471669\",\"#47186A\",\"#48196B\",\"#481A6C\",\"#481C6E\",\"#481D6F\",\"#481E70\",\"#482071\",\"#482172\",\"#482273\",\"#482374\",\"#472575\",\"#472676\",\"#472777\",\"#472878\",\"#472A79\",\"#472B7A\",\"#472C7B\",\"#462D7C\",\"#462F7C\",\"#46307D\",\"#46317E\",\"#45327F\",\"#45347F\",\"#453580\",\"#453681\",\"#443781\",\"#443982\",\"#433A83\",\"#433B83\",\"#433C84\",\"#423D84\",\"#423E85\",\"#424085\",\"#414186\",\"#414286\",\"#404387\",\"#404487\",\"#3F4587\",\"#3F4788\",\"#3E4888\",\"#3E4989\",\"#3D4A89\",\"#3D4B89\",\"#3D4C89\",\"#3C4D8A\",\"#3C4E8A\",\"#3B508A\",\"#3B518A\",\"#3A528B\",\"#3A538B\",\"#39548B\",\"#39558B\",\"#38568B\",\"#38578C\",\"#37588C\",\"#37598C\",\"#365A8C\",\"#365B8C\",\"#355C8C\",\"#355D8C\",\"#345E8D\",\"#345F8D\",\"#33608D\",\"#33618D\",\"#32628D\",\"#32638D\",\"#31648D\",\"#31658D\",\"#31668D\",\"#30678D\",\"#30688D\",\"#2F698D\",\"#2F6A8D\",\"#2E6B8E\",\"#2E6C8E\",\"#2E6D8E\",\"#2D6E8E\",\"#2D6F8E\",\"#2C708E\",\"#2C718E\",\"#2C728E\",\"#2B738E\",\"#2B748E\",\"#2A758E\",\"#2A768E\",\"#2A778E\",\"#29788E\",\"#29798E\",\"#287A8E\",\"#287A8E\",\"#287B8E\",\"#277C8E\",\"#277D8E\",\"#277E8E\",\"#267F8E\",\"#26808E\",\"#26818E\",\"#25828E\",\"#25838D\",\"#24848D\",\"#24858D\",\"#24868D\",\"#23878D\",\"#23888D\",\"#23898D\",\"#22898D\",\"#228A8D\",\"#228B8D\",\"#218C8D\",\"#218D8C\",\"#218E8C\",\"#208F8C\",\"#20908C\",\"#20918C\",\"#1F928C\",\"#1F938B\",\"#1F948B\",\"#1F958B\",\"#1F968B\",\"#1E978A\",\"#1E988A\",\"#1E998A\",\"#1E998A\",\"#1E9A89\",\"#1E9B89\",\"#1E9C89\",\"#1E9D88\",\"#1E9E88\",\"#1E9F88\",\"#1EA087\",\"#1FA187\",\"#1FA286\",\"#1FA386\",\"#20A485\",\"#20A585\",\"#21A685\",\"#21A784\",\"#22A784\",\"#23A883\",\"#23A982\",\"#24AA82\",\"#25AB81\",\"#26AC81\",\"#27AD80\",\"#28AE7F\",\"#29AF7F\",\"#2AB07E\",\"#2BB17D\",\"#2CB17D\",\"#2EB27C\",\"#2FB37B\",\"#30B47A\",\"#32B57A\",\"#33B679\",\"#35B778\",\"#36B877\",\"#38B976\",\"#39B976\",\"#3BBA75\",\"#3DBB74\",\"#3EBC73\",\"#40BD72\",\"#42BE71\",\"#44BE70\",\"#45BF6F\",\"#47C06E\",\"#49C16D\",\"#4BC26C\",\"#4DC26B\",\"#4FC369\",\"#51C468\",\"#53C567\",\"#55C666\",\"#57C665\",\"#59C764\",\"#5BC862\",\"#5EC961\",\"#60C960\",\"#62CA5F\",\"#64CB5D\",\"#67CC5C\",\"#69CC5B\",\"#6BCD59\",\"#6DCE58\",\"#70CE56\",\"#72CF55\",\"#74D054\",\"#77D052\",\"#79D151\",\"#7CD24F\",\"#7ED24E\",\"#81D34C\",\"#83D34B\",\"#86D449\",\"#88D547\",\"#8BD546\",\"#8DD644\",\"#90D643\",\"#92D741\",\"#95D73F\",\"#97D83E\",\"#9AD83C\",\"#9DD93A\",\"#9FD938\",\"#A2DA37\",\"#A5DA35\",\"#A7DB33\",\"#AADB32\",\"#ADDC30\",\"#AFDC2E\",\"#B2DD2C\",\"#B5DD2B\",\"#B7DD29\",\"#BADE27\",\"#BDDE26\",\"#BFDF24\",\"#C2DF22\",\"#C5DF21\",\"#C7E01F\",\"#CAE01E\",\"#CDE01D\",\"#CFE11C\",\"#D2E11B\",\"#D4E11A\",\"#D7E219\",\"#DAE218\",\"#DCE218\",\"#DFE318\",\"#E1E318\",\"#E4E318\",\"#E7E419\",\"#E9E419\",\"#ECE41A\",\"#EEE51B\",\"#F1E51C\",\"#F3E51E\",\"#F6E61F\",\"#F8E621\",\"#FAE622\",\"#FDE724\"]},\"id\":\"2203\",\"type\":\"LinearColorMapper\"},{\"attributes\":{\"axis_label\":\"Volumen de ventas\",\"formatter\":{\"id\":\"2322\"},\"ticker\":{\"id\":\"2215\"}},\"id\":\"2214\",\"type\":\"LinearAxis\"},{\"attributes\":{},\"id\":\"2318\",\"type\":\"BasicTicker\"},{\"attributes\":{},\"id\":\"2208\",\"type\":\"DataRange1d\"},{\"attributes\":{},\"id\":\"2212\",\"type\":\"LinearScale\"},{\"attributes\":{\"data_source\":{\"id\":\"2223\"},\"glyph\":{\"id\":\"2225\"},\"hover_glyph\":null,\"muted_glyph\":null,\"nonselection_glyph\":{\"id\":\"2226\"},\"selection_glyph\":null,\"view\":{\"id\":\"2228\"}},\"id\":\"2227\",\"type\":\"GlyphRenderer\"},{\"attributes\":{},\"id\":\"2215\",\"type\":\"BasicTicker\"},{\"attributes\":{},\"id\":\"2323\",\"type\":\"UnionRenderers\"},{\"attributes\":{\"axis\":{\"id\":\"2214\"},\"ticker\":null},\"id\":\"2217\",\"type\":\"Grid\"},{\"attributes\":{\"fill_alpha\":{\"value\":0.1},\"fill_color\":{\"field\":\"Ingresos\",\"transform\":{\"id\":\"2203\"}},\"line_alpha\":{\"value\":0.1},\"line_color\":{\"field\":\"Ingresos\",\"transform\":{\"id\":\"2203\"}},\"size\":{\"units\":\"screen\",\"value\":20},\"x\":{\"field\":\"Volumen\"},\"y\":{\"field\":\"Ingresos\"}},\"id\":\"2226\",\"type\":\"Circle\"},{\"attributes\":{\"axis_label\":\"Ingresos totales\",\"formatter\":{\"id\":\"2320\"},\"ticker\":{\"id\":\"2219\"}},\"id\":\"2218\",\"type\":\"LinearAxis\"},{\"attributes\":{\"axis\":{\"id\":\"2218\"},\"dimension\":1,\"ticker\":null},\"id\":\"2221\",\"type\":\"Grid\"},{\"attributes\":{\"color_mapper\":{\"id\":\"2203\"},\"formatter\":{\"id\":\"2317\"},\"label_standoff\":12,\"location\":[0,0],\"ticker\":{\"id\":\"2318\"},\"title\":\"Ingresos\"},\"id\":\"2204\",\"type\":\"ColorBar\"},{\"attributes\":{},\"id\":\"2320\",\"type\":\"BasicTickFormatter\"},{\"attributes\":{\"source\":{\"id\":\"2223\"}},\"id\":\"2228\",\"type\":\"CDSView\"},{\"attributes\":{\"fill_alpha\":{\"value\":0.6},\"fill_color\":{\"field\":\"Ingresos\",\"transform\":{\"id\":\"2203\"}},\"line_alpha\":{\"value\":0.6},\"line_color\":{\"field\":\"Ingresos\",\"transform\":{\"id\":\"2203\"}},\"size\":{\"units\":\"screen\",\"value\":20},\"x\":{\"field\":\"Volumen\"},\"y\":{\"field\":\"Ingresos\"}},\"id\":\"2225\",\"type\":\"Circle\"}],\"root_ids\":[\"2205\"]},\"title\":\"Bokeh Application\",\"version\":\"2.2.3\"}};\n",
       "  var render_items = [{\"docid\":\"0ab8a3d8-c2a3-4c04-b9d7-e09dd7df8cb4\",\"root_ids\":[\"2205\"],\"roots\":{\"2205\":\"feda0712-0f17-4223-b8bf-0d0bda3890c4\"}}];\n",
       "  root.Bokeh.embed.embed_items_notebook(docs_json, render_items);\n",
       "\n",
       "  }\n",
       "  if (root.Bokeh !== undefined) {\n",
       "    embed_document(root);\n",
       "  } else {\n",
       "    var attempts = 0;\n",
       "    var timer = setInterval(function(root) {\n",
       "      if (root.Bokeh !== undefined) {\n",
       "        clearInterval(timer);\n",
       "        embed_document(root);\n",
       "      } else {\n",
       "        attempts++;\n",
       "        if (attempts > 100) {\n",
       "          clearInterval(timer);\n",
       "          console.log(\"Bokeh: ERROR: Unable to run BokehJS code because BokehJS library is missing\");\n",
       "        }\n",
       "      }\n",
       "    }, 10, root)\n",
       "  }\n",
       "})(window);"
      ],
      "application/vnd.bokehjs_exec.v0+json": ""
     },
     "metadata": {
      "application/vnd.bokehjs_exec.v0+json": {
       "id": "2205"
      }
     },
     "output_type": "display_data"
    }
   ],
   "source": [
    "color_mapper = LinearColorMapper(palette=\"Viridis256\", low=df.Ingresos.min(), high=df.Ingresos.max())\n",
    "color_bar = ColorBar(color_mapper=color_mapper, label_standoff=12, location=(0,0), title='Ingresos')\n",
    "\n",
    "p = figure(x_axis_label='Volumen de ventas', # Otra forma de añadir texto en los ejes\n",
    "           y_axis_label='Ingresos totales', \n",
    "           plot_height=400, \n",
    "           tools='', toolbar_location=None)\n",
    "\n",
    "p.circle(x='Volumen', y='Ingresos', \n",
    "         color=transform('Ingresos', color_mapper), \n",
    "         size=20, alpha=0.6, \n",
    "         source=df)\n",
    "\n",
    "p.add_layout(color_bar, 'right') # Posición del gradiente de color\n",
    "\n",
    "show(p)\n"
   ]
  },
  {
   "cell_type": "markdown",
   "metadata": {},
   "source": [
    "Finalmente, mostraremos cómo añadir elementos dinámmicos a un gráfico, es decir, cuando pasemos el cursor por un elemento del gráfico éste nos muestre información. Esto en Bokeh se consigue a través de **HoverTool**, se trata de una función que integra funcionalidades para mostrar diferentes elementos textuales en los datos, es importante mencionar que para poder utilizar las funciones de HoverTool, también tenemos que pasar nuestros datos a un tipo especial de Bokeh, llamado sources, para ello, utilizaremos **ColumnDataSource**. El funcionamiento por lo tanto es el siguiente.\n",
    "* Tomaremos el set de datos y lo pasaremos a la función <code>**ColumnDataSource**</code>, sources nos devolverá los tipos de columnas que podemos mostrar en nuestro gráfico, por ejemplo, si pasamos a la función un conjunto de datos previamente agrupado con groupby, nos permitirá acceder a estadísticas básicas como mínimo, máximo, media y cuartieles, pudiendo posteriormente, proyectar esta información en el gráfico.\n",
    "* Ahora cuando vayamos a definir el tipo de gráfico, no utilizaremos como tal los nombres de las columnas del dataframe, si no las de sources.\n",
    "* Cuando hayamos definido el tipo de gráfica llamaremos a la función <code>**HoverTool**</code> y, a su atributo **tooltips** en el cuál pasaremos con la siguiente estructura la información a proyectar: 'Nombre que se mostrará': @columna_de_source."
   ]
  },
  {
   "cell_type": "code",
   "execution_count": 17,
   "metadata": {},
   "outputs": [
    {
     "data": {
      "text/plain": [
       "['index', 'Productos', 'Volumen', 'Ingresos']"
      ]
     },
     "execution_count": 17,
     "metadata": {},
     "output_type": "execute_result"
    }
   ],
   "source": [
    "from bokeh.models import ColumnDataSource, HoverTool\n",
    "from bokeh.transform import factor_cmap\n",
    "from bokeh.palettes import Spectral5\n",
    "\n",
    "source = ColumnDataSource(df)\n",
    "source.column_names"
   ]
  },
  {
   "cell_type": "markdown",
   "metadata": {},
   "source": [
    "Mostramos por otro ejemplo en el que hubíeramos realizado un groupby."
   ]
  },
  {
   "cell_type": "code",
   "execution_count": 18,
   "metadata": {},
   "outputs": [
    {
     "data": {
      "text/plain": [
       "['Productos',\n",
       " 'Volumen_count',\n",
       " 'Volumen_mean',\n",
       " 'Volumen_std',\n",
       " 'Volumen_min',\n",
       " 'Volumen_25%',\n",
       " 'Volumen_50%',\n",
       " 'Volumen_75%',\n",
       " 'Volumen_max',\n",
       " 'Ingresos_count',\n",
       " 'Ingresos_mean',\n",
       " 'Ingresos_std',\n",
       " 'Ingresos_min',\n",
       " 'Ingresos_25%',\n",
       " 'Ingresos_50%',\n",
       " 'Ingresos_75%',\n",
       " 'Ingresos_max']"
      ]
     },
     "execution_count": 18,
     "metadata": {},
     "output_type": "execute_result"
    }
   ],
   "source": [
    "groups = df.groupby(by=['Productos'])\n",
    "source_dos = ColumnDataSource(groups)\n",
    "source_dos.column_names"
   ]
  },
  {
   "cell_type": "code",
   "execution_count": 19,
   "metadata": {},
   "outputs": [
    {
     "data": {
      "text/html": [
       "\n",
       "\n",
       "\n",
       "\n",
       "\n",
       "\n",
       "  <div class=\"bk-root\" id=\"05497afd-71ec-41fc-85a1-1b6dd0d77662\" data-root-id=\"2377\"></div>\n"
      ]
     },
     "metadata": {},
     "output_type": "display_data"
    },
    {
     "data": {
      "application/javascript": [
       "(function(root) {\n",
       "  function embed_document(root) {\n",
       "    \n",
       "  var docs_json = {\"d0b09602-1342-4238-8aa8-30ac5eb20b98\":{\"roots\":{\"references\":[{\"attributes\":{\"below\":[{\"id\":\"2388\"}],\"center\":[{\"id\":\"2390\"},{\"id\":\"2394\"}],\"left\":[{\"id\":\"2391\"}],\"plot_height\":350,\"renderers\":[{\"id\":\"2413\"}],\"title\":{\"id\":\"2378\"},\"toolbar\":{\"id\":\"2402\"},\"x_range\":{\"id\":\"2380\"},\"x_scale\":{\"id\":\"2384\"},\"y_range\":{\"id\":\"2382\"},\"y_scale\":{\"id\":\"2386\"}},\"id\":\"2377\",\"subtype\":\"Figure\",\"type\":\"Plot\"},{\"attributes\":{\"active_drag\":\"auto\",\"active_inspect\":\"auto\",\"active_multi\":null,\"active_scroll\":\"auto\",\"active_tap\":\"auto\",\"tools\":[{\"id\":\"2395\"},{\"id\":\"2396\"},{\"id\":\"2397\"},{\"id\":\"2398\"},{\"id\":\"2399\"},{\"id\":\"2400\"},{\"id\":\"2415\"}]},\"id\":\"2402\",\"type\":\"Toolbar\"},{\"attributes\":{},\"id\":\"2396\",\"type\":\"WheelZoomTool\"},{\"attributes\":{},\"id\":\"2395\",\"type\":\"PanTool\"},{\"attributes\":{\"overlay\":{\"id\":\"2401\"}},\"id\":\"2397\",\"type\":\"BoxZoomTool\"},{\"attributes\":{},\"id\":\"2398\",\"type\":\"SaveTool\"},{\"attributes\":{},\"id\":\"2399\",\"type\":\"ResetTool\"},{\"attributes\":{\"data\":{\"Ingresos\":{\"__ndarray__\":\"rgQAAGQSAADIBgAANUIAANoMAAA=\",\"dtype\":\"int32\",\"order\":\"little\",\"shape\":[5]},\"Productos\":[\"Naranjas\",\"Fresas\",\"Manzanas\",\"Pl\\u00e1tanos\",\"Mango\"],\"Volumen\":{\"__ndarray__\":\"wQMAAFMBAABoAQAAFQMAADIBAAA=\",\"dtype\":\"int32\",\"order\":\"little\",\"shape\":[5]},\"index\":[0,1,2,3,4]},\"selected\":{\"id\":\"2520\"},\"selection_policy\":{\"id\":\"2519\"}},\"id\":\"2375\",\"type\":\"ColumnDataSource\"},{\"attributes\":{\"data_source\":{\"id\":\"2375\"},\"glyph\":{\"id\":\"2411\"},\"hover_glyph\":null,\"muted_glyph\":null,\"nonselection_glyph\":{\"id\":\"2412\"},\"selection_glyph\":null,\"view\":{\"id\":\"2414\"}},\"id\":\"2413\",\"type\":\"GlyphRenderer\"},{\"attributes\":{\"source\":{\"id\":\"2375\"}},\"id\":\"2414\",\"type\":\"CDSView\"},{\"attributes\":{},\"id\":\"2517\",\"type\":\"CategoricalTickFormatter\"},{\"attributes\":{\"fill_alpha\":{\"value\":0.1},\"fill_color\":{\"field\":\"Productos\",\"transform\":{\"id\":\"2409\"}},\"line_alpha\":{\"value\":0.1},\"line_color\":{\"field\":\"Productos\",\"transform\":{\"id\":\"2409\"}},\"top\":{\"field\":\"Volumen\"},\"width\":{\"value\":0.5},\"x\":{\"field\":\"Productos\"}},\"id\":\"2412\",\"type\":\"VBar\"},{\"attributes\":{\"fill_color\":{\"field\":\"Productos\",\"transform\":{\"id\":\"2409\"}},\"line_color\":{\"field\":\"Productos\",\"transform\":{\"id\":\"2409\"}},\"top\":{\"field\":\"Volumen\"},\"width\":{\"value\":0.5},\"x\":{\"field\":\"Productos\"}},\"id\":\"2411\",\"type\":\"VBar\"},{\"attributes\":{\"callback\":null,\"tooltips\":[[\"Volumen de ventas\",\"@Volumen\"],[\"Ingresos totales\",\"@Ingresos\"]]},\"id\":\"2415\",\"type\":\"HoverTool\"},{\"attributes\":{\"text\":\"Volumen de ventas\"},\"id\":\"2378\",\"type\":\"Title\"},{\"attributes\":{\"factors\":[\"Naranjas\",\"Fresas\",\"Manzanas\",\"Pl\\u00e1tanos\",\"Mango\"],\"palette\":[\"#2b83ba\",\"#abdda4\",\"#ffffbf\",\"#fdae61\",\"#d7191c\"]},\"id\":\"2409\",\"type\":\"CategoricalColorMapper\"},{\"attributes\":{\"bottom_units\":\"screen\",\"fill_alpha\":0.5,\"fill_color\":\"lightgrey\",\"left_units\":\"screen\",\"level\":\"overlay\",\"line_alpha\":1.0,\"line_color\":\"black\",\"line_dash\":[4,4],\"line_width\":2,\"right_units\":\"screen\",\"top_units\":\"screen\"},\"id\":\"2401\",\"type\":\"BoxAnnotation\"},{\"attributes\":{},\"id\":\"2384\",\"type\":\"CategoricalScale\"},{\"attributes\":{},\"id\":\"2386\",\"type\":\"LinearScale\"},{\"attributes\":{\"formatter\":{\"id\":\"2517\"},\"ticker\":{\"id\":\"2389\"}},\"id\":\"2388\",\"type\":\"CategoricalAxis\"},{\"attributes\":{\"factors\":[\"Naranjas\",\"Fresas\",\"Manzanas\",\"Pl\\u00e1tanos\",\"Mango\"]},\"id\":\"2380\",\"type\":\"FactorRange\"},{\"attributes\":{\"formatter\":{\"id\":\"2515\"},\"ticker\":{\"id\":\"2392\"}},\"id\":\"2391\",\"type\":\"LinearAxis\"},{\"attributes\":{},\"id\":\"2400\",\"type\":\"HelpTool\"},{\"attributes\":{},\"id\":\"2382\",\"type\":\"DataRange1d\"},{\"attributes\":{},\"id\":\"2519\",\"type\":\"UnionRenderers\"},{\"attributes\":{},\"id\":\"2389\",\"type\":\"CategoricalTicker\"},{\"attributes\":{\"axis\":{\"id\":\"2388\"},\"ticker\":null},\"id\":\"2390\",\"type\":\"Grid\"},{\"attributes\":{},\"id\":\"2515\",\"type\":\"BasicTickFormatter\"},{\"attributes\":{},\"id\":\"2520\",\"type\":\"Selection\"},{\"attributes\":{\"axis\":{\"id\":\"2391\"},\"dimension\":1,\"ticker\":null},\"id\":\"2394\",\"type\":\"Grid\"},{\"attributes\":{},\"id\":\"2392\",\"type\":\"BasicTicker\"}],\"root_ids\":[\"2377\"]},\"title\":\"Bokeh Application\",\"version\":\"2.2.3\"}};\n",
       "  var render_items = [{\"docid\":\"d0b09602-1342-4238-8aa8-30ac5eb20b98\",\"root_ids\":[\"2377\"],\"roots\":{\"2377\":\"05497afd-71ec-41fc-85a1-1b6dd0d77662\"}}];\n",
       "  root.Bokeh.embed.embed_items_notebook(docs_json, render_items);\n",
       "\n",
       "  }\n",
       "  if (root.Bokeh !== undefined) {\n",
       "    embed_document(root);\n",
       "  } else {\n",
       "    var attempts = 0;\n",
       "    var timer = setInterval(function(root) {\n",
       "      if (root.Bokeh !== undefined) {\n",
       "        clearInterval(timer);\n",
       "        embed_document(root);\n",
       "      } else {\n",
       "        attempts++;\n",
       "        if (attempts > 100) {\n",
       "          clearInterval(timer);\n",
       "          console.log(\"Bokeh: ERROR: Unable to run BokehJS code because BokehJS library is missing\");\n",
       "        }\n",
       "      }\n",
       "    }, 10, root)\n",
       "  }\n",
       "})(window);"
      ],
      "application/vnd.bokehjs_exec.v0+json": ""
     },
     "metadata": {
      "application/vnd.bokehjs_exec.v0+json": {
       "id": "2377"
      }
     },
     "output_type": "display_data"
    }
   ],
   "source": [
    "products = source.data['Productos'].tolist()\n",
    "\n",
    "p = figure(x_range = products,\n",
    "           plot_height=350, \n",
    "           title=\"Volumen de ventas\")\n",
    "\n",
    "color_map = factor_cmap(field_name='Productos',\n",
    "                    palette=Spectral5, factors=products)\n",
    "\n",
    "p.vbar(x='Productos', top='Volumen', source = source,\n",
    "       width = 0.5, color=color_map)\n",
    "\n",
    "# Podemos generar colores en hexadecimal con https://htmlcolorcodes.com/\n",
    "\n",
    "hover = HoverTool()\n",
    "hover.tooltips=[\n",
    "    ('Volumen de ventas', '@Volumen'),\n",
    "    ('Ingresos totales', '@Ingresos')\n",
    "]\n",
    "\n",
    "p.add_tools(hover)\n",
    "\n",
    "# Podemos generar colores en hexadecimal con https://htmlcolorcodes.com/\n",
    "\n",
    "show(p)"
   ]
  },
  {
   "cell_type": "code",
   "execution_count": null,
   "metadata": {},
   "outputs": [],
   "source": []
  }
 ],
 "metadata": {
  "kernelspec": {
   "display_name": "Python 3 (ipykernel)",
   "language": "python",
   "name": "python3"
  },
  "language_info": {
   "codemirror_mode": {
    "name": "ipython",
    "version": 3
   },
   "file_extension": ".py",
   "mimetype": "text/x-python",
   "name": "python",
   "nbconvert_exporter": "python",
   "pygments_lexer": "ipython3",
   "version": "3.8.10"
  }
 },
 "nbformat": 4,
 "nbformat_minor": 2
}
